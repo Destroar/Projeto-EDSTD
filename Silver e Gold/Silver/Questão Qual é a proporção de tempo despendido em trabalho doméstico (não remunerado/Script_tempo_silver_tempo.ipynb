{
 "cells": [
  {
   "cell_type": "markdown",
   "id": "1bd57f47-9ff5-4121-ab77-9ce92894b73f",
   "metadata": {
    "jp-MarkdownHeadingCollapsed": true
   },
   "source": [
    "pip install delta-spark==2.4.0"
   ]
  },
  {
   "cell_type": "code",
   "execution_count": 1,
   "id": "b7298716-f9c5-45a6-a20f-7ac26dd1342e",
   "metadata": {},
   "outputs": [],
   "source": [
    "from os import PathLike\n",
    "from hdfs import InsecureClient\n",
    "from pyspark.sql import SparkSession\n",
    "from pyspark.sql import Row\n",
    "from pyspark.sql.types import LongType, StringType, StructField, StructType, BooleanType, ArrayType, IntegerType\n",
    "\n",
    "# warehouse_location points to the default location for managed databases and tables\n",
    "warehouse_location = 'hdfs://hdfs-nn:9000/warehouse'\n",
    "\n",
    "spark = SparkSession \\\n",
    "    .builder \\\n",
    "    .master(\"local[2]\") \\\n",
    "    .appName(\"Python Spark SQL Hive integration example\") \\\n",
    "    .config(\"spark.sql.warehouse.dir\", warehouse_location) \\\n",
    "    .config(\"hive.metastore.uris\", \"thrift://hive-metastore:9083\") \\\n",
    "    .enableHiveSupport() \\\n",
    "    .getOrCreate()\n",
    "\n",
    "spark.catalog.setCurrentDatabase(\"database\")"
   ]
  },
  {
   "cell_type": "code",
   "execution_count": 2,
   "id": "3956d470-48b3-4408-94a7-78d6fb690e01",
   "metadata": {},
   "outputs": [
    {
     "name": "stdout",
     "output_type": "stream",
     "text": [
      "+--------------------+--------------------+--------------+------------+------------+----+--------+--------------+\n",
      "|      Indicator Name|    Indicator Name 2|Indicator Code|Country Name|Country Code|Year|   Value|Disaggregation|\n",
      "+--------------------+--------------------+--------------+------------+------------+----+--------+--------------+\n",
      "|Proportion of tim...| female (% of 24 ...|SG.TIM.UWRK.FE|     Albania|         ALB|2011|21.73611|        female|\n",
      "|Proportion of tim...| female (% of 24 ...|SG.TIM.UWRK.FE|     Algeria|         DZA|2012|21.66667|        female|\n",
      "|Proportion of tim...| female (% of 24 ...|SG.TIM.UWRK.FE|   Argentina|         ARG|2013|23.41864|        female|\n",
      "|Proportion of tim...| female (% of 24 ...|SG.TIM.UWRK.FE|   Argentina|         ARG|2010|    17.5|        female|\n",
      "|Proportion of tim...| female (% of 24 ...|SG.TIM.UWRK.FE|   Argentina|         ARG|2005|16.73611|        female|\n",
      "|Proportion of tim...| female (% of 24 ...|SG.TIM.UWRK.FE|     Armenia|         ARM|2008|21.65833|        female|\n",
      "|Proportion of tim...| female (% of 24 ...|SG.TIM.UWRK.FE|     Armenia|         ARM|2004|24.02778|        female|\n",
      "|Proportion of tim...| female (% of 24 ...|SG.TIM.UWRK.FE|   Australia|         AUS|2006|20.83333|        female|\n",
      "|Proportion of tim...| female (% of 24 ...|SG.TIM.UWRK.FE|     Austria|         AUT|2009|19.06954|        female|\n",
      "|Proportion of tim...| female (% of 24 ...|SG.TIM.UWRK.FE|  Azerbaijan|         AZE|2008|25.41667|        female|\n",
      "|Proportion of tim...| female (% of 24 ...|SG.TIM.UWRK.FE|     Belarus|         BLR|2015|19.16667|        female|\n",
      "|Proportion of tim...| female (% of 24 ...|SG.TIM.UWRK.FE|     Belgium|         BEL|2013|15.90278|        female|\n",
      "|Proportion of tim...| female (% of 24 ...|SG.TIM.UWRK.FE|     Belgium|         BEL|2005|      15|        female|\n",
      "|Proportion of tim...| female (% of 24 ...|SG.TIM.UWRK.FE|     Belgium|         BEL|2000|16.04167|        female|\n",
      "|Proportion of tim...| female (% of 24 ...|SG.TIM.UWRK.FE|      Bhutan|         BTN|2015|      15|        female|\n",
      "|Proportion of tim...| female (% of 24 ...|SG.TIM.UWRK.FE|      Bhutan|         BTN|2007|13.26389|        female|\n",
      "|Proportion of tim...| female (% of 24 ...|SG.TIM.UWRK.FE|     Bolivia|         BOL|2001|23.11926|        female|\n",
      "|Proportion of tim...| female (% of 24 ...|SG.TIM.UWRK.FE|      Brazil|         BRA|2017|11.60814|        female|\n",
      "|Proportion of tim...| female (% of 24 ...|SG.TIM.UWRK.FE|      Brazil|         BRA|2012|13.18363|        female|\n",
      "|Proportion of tim...| female (% of 24 ...|SG.TIM.UWRK.FE|      Brazil|         BRA|2009|17.63889|        female|\n",
      "+--------------------+--------------------+--------------+------------+------------+----+--------+--------------+\n",
      "only showing top 20 rows\n",
      "\n"
     ]
    }
   ],
   "source": [
    "path = \"hdfs://hdfs-nn:9000/Projeto/bronze/Proportion_Of_Time.csv\"\n",
    "\n",
    "Custom_schema = StructType([\n",
    "    StructField(\"Indicator Name\", StringType(), True),        \n",
    "    StructField(\"Indicator Name 2\", StringType(), True),\n",
    "    StructField(\"Indicator Code\", StringType(), True),\n",
    "    StructField(\"Country Name\", StringType(), True),\n",
    "    StructField(\"Country Code\", StringType(), True),\n",
    "    StructField(\"Year\", IntegerType(), True),        \n",
    "    StructField(\"Value\", StringType(), True),\n",
    "    StructField(\"Disaggregation\", StringType(), True)\n",
    "])\n",
    "\n",
    "time = spark \\\n",
    "    .read \\\n",
    "    .option(\"delimiter\",\",\") \\\n",
    "    .option(\"header\",\"true\") \\\n",
    "    .schema(Custom_schema) \\\n",
    "    .csv(path)\n",
    "\n",
    "time.show()"
   ]
  },
  {
   "cell_type": "code",
   "execution_count": 3,
   "id": "26c6a7c1-0c9e-42bf-babc-201e2f4bd643",
   "metadata": {},
   "outputs": [],
   "source": [
    "time \\\n",
    "    .write \\\n",
    "    .mode(\"overwrite\") \\\n",
    "    .format(\"csv\") \\\n",
    "    .option(\"delimiter\",\",\")\\\n",
    "    .option(\"header\",\"true\") \\\n",
    "    .saveAsTable(\"proporcao_time\")"
   ]
  },
  {
   "cell_type": "code",
   "execution_count": 4,
   "id": "514a5a7d-d91f-4873-a7ff-aca096efd2a2",
   "metadata": {},
   "outputs": [
    {
     "name": "stdout",
     "output_type": "stream",
     "text": [
      "proporcao_time\n"
     ]
    }
   ],
   "source": [
    "spark.catalog.setCurrentDatabase(\"database\")\n",
    "tables = spark.catalog.listTables()\n",
    "\n",
    "# Display the table names\n",
    "for table in tables:\n",
    "    print(table.name)"
   ]
  },
  {
   "cell_type": "code",
   "execution_count": 5,
   "id": "986013e8-a61b-4c9d-90df-fd93aa1fb5c4",
   "metadata": {},
   "outputs": [
    {
     "name": "stdout",
     "output_type": "stream",
     "text": [
      "+--------------------+--------------------+--------------+------------+------------+----+--------+--------------+\n",
      "|      Indicator Name|    Indicator Name 2|Indicator Code|Country Name|Country Code|Year|   Value|Disaggregation|\n",
      "+--------------------+--------------------+--------------+------------+------------+----+--------+--------------+\n",
      "|Proportion of tim...|female (% of 24 h...|SG.TIM.UWRK.FE|     Albania|         ALB|2011|21.73611|        female|\n",
      "|Proportion of tim...|female (% of 24 h...|SG.TIM.UWRK.FE|     Algeria|         DZA|2012|21.66667|        female|\n",
      "|Proportion of tim...|female (% of 24 h...|SG.TIM.UWRK.FE|   Argentina|         ARG|2013|23.41864|        female|\n",
      "|Proportion of tim...|female (% of 24 h...|SG.TIM.UWRK.FE|   Argentina|         ARG|2010|    17.5|        female|\n",
      "|Proportion of tim...|female (% of 24 h...|SG.TIM.UWRK.FE|   Argentina|         ARG|2005|16.73611|        female|\n",
      "|Proportion of tim...|female (% of 24 h...|SG.TIM.UWRK.FE|     Armenia|         ARM|2008|21.65833|        female|\n",
      "|Proportion of tim...|female (% of 24 h...|SG.TIM.UWRK.FE|     Armenia|         ARM|2004|24.02778|        female|\n",
      "|Proportion of tim...|female (% of 24 h...|SG.TIM.UWRK.FE|   Australia|         AUS|2006|20.83333|        female|\n",
      "|Proportion of tim...|female (% of 24 h...|SG.TIM.UWRK.FE|     Austria|         AUT|2009|19.06954|        female|\n",
      "|Proportion of tim...|female (% of 24 h...|SG.TIM.UWRK.FE|  Azerbaijan|         AZE|2008|25.41667|        female|\n",
      "|Proportion of tim...|female (% of 24 h...|SG.TIM.UWRK.FE|     Belarus|         BLR|2015|19.16667|        female|\n",
      "|Proportion of tim...|female (% of 24 h...|SG.TIM.UWRK.FE|     Belgium|         BEL|2013|15.90278|        female|\n",
      "|Proportion of tim...|female (% of 24 h...|SG.TIM.UWRK.FE|     Belgium|         BEL|2005|      15|        female|\n",
      "|Proportion of tim...|female (% of 24 h...|SG.TIM.UWRK.FE|     Belgium|         BEL|2000|16.04167|        female|\n",
      "|Proportion of tim...|female (% of 24 h...|SG.TIM.UWRK.FE|      Bhutan|         BTN|2015|      15|        female|\n",
      "|Proportion of tim...|female (% of 24 h...|SG.TIM.UWRK.FE|      Bhutan|         BTN|2007|13.26389|        female|\n",
      "|Proportion of tim...|female (% of 24 h...|SG.TIM.UWRK.FE|     Bolivia|         BOL|2001|23.11926|        female|\n",
      "|Proportion of tim...|female (% of 24 h...|SG.TIM.UWRK.FE|      Brazil|         BRA|2017|11.60814|        female|\n",
      "|Proportion of tim...|female (% of 24 h...|SG.TIM.UWRK.FE|      Brazil|         BRA|2012|13.18363|        female|\n",
      "|Proportion of tim...|female (% of 24 h...|SG.TIM.UWRK.FE|      Brazil|         BRA|2009|17.63889|        female|\n",
      "+--------------------+--------------------+--------------+------------+------------+----+--------+--------------+\n",
      "only showing top 20 rows\n",
      "\n"
     ]
    }
   ],
   "source": [
    "spark.sql(\n",
    "    \"\"\"\n",
    "    SELECT * FROM proporcao_time\n",
    "    \"\"\"\n",
    ").show()"
   ]
  },
  {
   "cell_type": "code",
   "execution_count": 6,
   "id": "e71cb5dd-fbe3-495a-9eeb-93c4d508301b",
   "metadata": {},
   "outputs": [],
   "source": [
    "spark.stop()"
   ]
  }
 ],
 "metadata": {
  "kernelspec": {
   "display_name": "Python 3 (ipykernel)",
   "language": "python",
   "name": "python3"
  },
  "language_info": {
   "codemirror_mode": {
    "name": "ipython",
    "version": 3
   },
   "file_extension": ".py",
   "mimetype": "text/x-python",
   "name": "python",
   "nbconvert_exporter": "python",
   "pygments_lexer": "ipython3",
   "version": "3.11.5"
  }
 },
 "nbformat": 4,
 "nbformat_minor": 5
}

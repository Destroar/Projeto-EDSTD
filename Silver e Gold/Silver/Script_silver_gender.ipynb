{
 "cells": [
  {
   "cell_type": "code",
   "execution_count": 1,
   "id": "2b6624de-ac11-4cb1-aa96-4058c39ef848",
   "metadata": {},
   "outputs": [
    {
     "name": "stdout",
     "output_type": "stream",
     "text": [
      "Requirement already satisfied: delta-spark==2.4.0 in /opt/conda/lib/python3.11/site-packages (2.4.0)\n",
      "Requirement already satisfied: pyspark<3.5.0,>=3.4.0 in /usr/local/spark/python (from delta-spark==2.4.0) (3.4.1)\n",
      "Requirement already satisfied: importlib-metadata>=1.0.0 in /opt/conda/lib/python3.11/site-packages (from delta-spark==2.4.0) (6.8.0)\n",
      "Requirement already satisfied: zipp>=0.5 in /opt/conda/lib/python3.11/site-packages (from importlib-metadata>=1.0.0->delta-spark==2.4.0) (3.16.2)\n",
      "Requirement already satisfied: py4j==0.10.9.7 in /opt/conda/lib/python3.11/site-packages (from pyspark<3.5.0,>=3.4.0->delta-spark==2.4.0) (0.10.9.7)\n",
      "Note: you may need to restart the kernel to use updated packages.\n"
     ]
    }
   ],
   "source": [
    "pip install delta-spark==2.4.0"
   ]
  },
  {
   "cell_type": "code",
   "execution_count": 2,
   "id": "a42de231-0e87-4339-b6c0-8cc67b629472",
   "metadata": {},
   "outputs": [],
   "source": [
    "from os import PathLike\n",
    "from hdfs import InsecureClient\n",
    "from pyspark.sql import SparkSession\n",
    "from pyspark.sql import Row\n",
    "from pyspark.sql.types import LongType, StringType, StructField, StructType, BooleanType, ArrayType, IntegerType\n",
    "from pyspark.sql.functions import expr, array, col\n",
    "\n",
    "# warehouse_location points to the default location for managed databases and tables\n",
    "warehouse_location = 'hdfs://hdfs-nn:9000/warehouse'\n",
    "\n",
    "spark = SparkSession \\\n",
    "    .builder \\\n",
    "    .master(\"local[2]\") \\\n",
    "    .appName(\"Python Spark SQL Hive integration example\") \\\n",
    "    .config(\"spark.sql.warehouse.dir\", warehouse_location) \\\n",
    "    .config(\"hive.metastore.uris\", \"thrift://hive-metastore:9083\") \\\n",
    "    .enableHiveSupport() \\\n",
    "    .getOrCreate()"
   ]
  },
  {
   "cell_type": "code",
   "execution_count": 3,
   "id": "a12db2c4-4494-4755-99b4-2605e98c9dc6",
   "metadata": {},
   "outputs": [
    {
     "name": "stdout",
     "output_type": "stream",
     "text": [
      "+--------------------+------------+--------------------+-----------------+----+----+----+----+----+----+----+----+----+----+----+----+----+----+----+----+----+----+----+----+----+----+----+----+----+----+----+----+----+----+----+----+----+----+----+----+----+----+----+----+----+------------------+-----------------+-----------------+----------------+----------------+----------------+----------------+----------------+----------------+----------------+----------------+----------------+----------------+---------------+----------------+----------------+----------------+----------------+--------------+----------------+----------------+----+\n",
      "|        Country_name|Country_code|      Indicator_name|   Indicator_code|1960|1961|1962|1963|1964|1965|1966|1967|1968|1969|1970|1971|1972|1973|1974|1975|1976|1977|1978|1979|1980|1981|1982|1983|1984|1985|1986|1987|1988|1989|1990|1991|1992|1993|1994|1995|1996|1997|1998|1999|2000|              2001|             2002|             2003|            2004|            2005|            2006|            2007|            2008|            2009|            2010|            2011|            2012|            2013|           2014|            2015|            2016|            2017|            2018|          2019|            2020|            2021|2022|\n",
      "+--------------------+------------+--------------------+-----------------+----+----+----+----+----+----+----+----+----+----+----+----+----+----+----+----+----+----+----+----+----+----+----+----+----+----+----+----+----+----+----+----+----+----+----+----+----+----+----+----+----+------------------+-----------------+-----------------+----------------+----------------+----------------+----------------+----------------+----------------+----------------+----------------+----------------+----------------+---------------+----------------+----------------+----------------+----------------+--------------+----------------+----------------+----+\n",
      "|Africa Eastern an...|         AFE|A woman can apply...|   SG.APL.PSPT.EQ|null|null|null|null|null|null|null|null|null|null|null|null|null|null|null|null|null|null|null|null|null|null|null|null|null|null|null|null|null|null|null|null|null|null|null|null|null|null|null|null|null|              null|             null|             null|            null|            null|            null|            null|            null|            null|            null|            null|            null|            null|           null|            null|            null|            null|            null|          null|            null|            null|null|\n",
      "|Africa Eastern an...|         AFE|A woman can be he...|   SG.HLD.HEAD.EQ|null|null|null|null|null|null|null|null|null|null|null|null|null|null|null|null|null|null|null|null|null|null|null|null|null|null|null|null|null|null|null|null|null|null|null|null|null|null|null|null|null|              null|             null|             null|            null|            null|            null|            null|            null|            null|            null|            null|            null|            null|           null|            null|            null|            null|            null|          null|            null|            null|null|\n",
      "|Africa Eastern an...|         AFE|A woman can choos...|   SG.LOC.LIVE.EQ|null|null|null|null|null|null|null|null|null|null|null|null|null|null|null|null|null|null|null|null|null|null|null|null|null|null|null|null|null|null|null|null|null|null|null|null|null|null|null|null|null|              null|             null|             null|            null|            null|            null|            null|            null|            null|            null|            null|            null|            null|           null|            null|            null|            null|            null|          null|            null|            null|null|\n",
      "|Africa Eastern an...|         AFE|A woman can get a...|   SG.GET.JOBS.EQ|null|null|null|null|null|null|null|null|null|null|null|null|null|null|null|null|null|null|null|null|null|null|null|null|null|null|null|null|null|null|null|null|null|null|null|null|null|null|null|null|null|              null|             null|             null|            null|            null|            null|            null|            null|            null|            null|            null|            null|            null|           null|            null|            null|            null|            null|          null|            null|            null|null|\n",
      "|Africa Eastern an...|         AFE|A woman can obtai...|   SG.OBT.DVRC.EQ|null|null|null|null|null|null|null|null|null|null|null|null|null|null|null|null|null|null|null|null|null|null|null|null|null|null|null|null|null|null|null|null|null|null|null|null|null|null|null|null|null|              null|             null|             null|            null|            null|            null|            null|            null|            null|            null|            null|            null|            null|           null|            null|            null|            null|            null|          null|            null|            null|null|\n",
      "|Africa Eastern an...|         AFE|A woman can open ...|   SG.OPN.BANK.EQ|null|null|null|null|null|null|null|null|null|null|null|null|null|null|null|null|null|null|null|null|null|null|null|null|null|null|null|null|null|null|null|null|null|null|null|null|null|null|null|null|null|              null|             null|             null|            null|            null|            null|            null|            null|            null|            null|            null|            null|            null|           null|            null|            null|            null|            null|          null|            null|            null|null|\n",
      "|Africa Eastern an...|         AFE|A woman can regis...|   SG.BUS.REGT.EQ|null|null|null|null|null|null|null|null|null|null|null|null|null|null|null|null|null|null|null|null|null|null|null|null|null|null|null|null|null|null|null|null|null|null|null|null|null|null|null|null|null|              null|             null|             null|            null|            null|            null|            null|            null|            null|            null|            null|            null|            null|           null|            null|            null|            null|            null|          null|            null|            null|null|\n",
      "|Africa Eastern an...|         AFE|A woman can sign ...|   SG.CNT.SIGN.EQ|null|null|null|null|null|null|null|null|null|null|null|null|null|null|null|null|null|null|null|null|null|null|null|null|null|null|null|null|null|null|null|null|null|null|null|null|null|null|null|null|null|              null|             null|             null|            null|            null|            null|            null|            null|            null|            null|            null|            null|            null|           null|            null|            null|            null|            null|          null|            null|            null|null|\n",
      "|Africa Eastern an...|         AFE|A woman can trave...|   SG.HME.TRVL.EQ|null|null|null|null|null|null|null|null|null|null|null|null|null|null|null|null|null|null|null|null|null|null|null|null|null|null|null|null|null|null|null|null|null|null|null|null|null|null|null|null|null|              null|             null|             null|            null|            null|            null|            null|            null|            null|            null|            null|            null|            null|           null|            null|            null|            null|            null|          null|            null|            null|null|\n",
      "|Africa Eastern an...|         AFE|A woman can trave...|   SG.CTR.TRVL.EQ|null|null|null|null|null|null|null|null|null|null|null|null|null|null|null|null|null|null|null|null|null|null|null|null|null|null|null|null|null|null|null|null|null|null|null|null|null|null|null|null|null|              null|             null|             null|            null|            null|            null|            null|            null|            null|            null|            null|            null|            null|           null|            null|            null|            null|            null|          null|            null|            null|null|\n",
      "|Africa Eastern an...|         AFE|A woman can work ...|   SG.NGT.WORK.EQ|null|null|null|null|null|null|null|null|null|null|null|null|null|null|null|null|null|null|null|null|null|null|null|null|null|null|null|null|null|null|null|null|null|null|null|null|null|null|null|null|null|              null|             null|             null|            null|            null|            null|            null|            null|            null|            null|            null|            null|            null|           null|            null|            null|            null|            null|          null|            null|            null|null|\n",
      "|Africa Eastern an...|         AFE|A woman can work ...|SG.DNG.WORK.DN.EQ|null|null|null|null|null|null|null|null|null|null|null|null|null|null|null|null|null|null|null|null|null|null|null|null|null|null|null|null|null|null|null|null|null|null|null|null|null|null|null|null|null|              null|             null|             null|            null|            null|            null|            null|            null|            null|            null|            null|            null|            null|           null|            null|            null|            null|            null|          null|            null|            null|null|\n",
      "|Africa Eastern an...|         AFE|A woman can work ...|   SG.IND.WORK.EQ|null|null|null|null|null|null|null|null|null|null|null|null|null|null|null|null|null|null|null|null|null|null|null|null|null|null|null|null|null|null|null|null|null|null|null|null|null|null|null|null|null|              null|             null|             null|            null|            null|            null|            null|            null|            null|            null|            null|            null|            null|           null|            null|            null|            null|            null|          null|            null|            null|null|\n",
      "|Africa Eastern an...|         AFE|A woman has the s...|   SG.REM.RIGT.EQ|null|null|null|null|null|null|null|null|null|null|null|null|null|null|null|null|null|null|null|null|null|null|null|null|null|null|null|null|null|null|null|null|null|null|null|null|null|null|null|null|null|              null|             null|             null|            null|            null|            null|            null|            null|            null|            null|            null|            null|            null|           null|            null|            null|            null|            null|          null|            null|            null|null|\n",
      "|Africa Eastern an...|         AFE|Access to anti-re...|SH.HIV.ARTC.FE.ZS|null|null|null|null|null|null|null|null|null|null|null|null|null|null|null|null|null|null|null|null|null|null|null|null|null|null|null|null|null|null|null|null|null|null|null|null|null|null|null|null|   0|0.0283693077474362|0.413772246821473|0.734602452174327|2.07585431609944|4.21817881570035|7.53406495071762| 12.029114209715|16.3308108193636|21.8071718336723|28.1516046003238|35.1261666763917|42.3554995357227|48.4275313583311| 55.18829572759|60.7113019837222|66.5888711708367|72.7923666793047|76.4553588782229| 80.0060747072|82.6735618830772| 83.668775301076|null|\n",
      "|Africa Eastern an...|         AFE|Access to anti-re...|SH.HIV.ARTC.MA.ZS|null|null|null|null|null|null|null|null|null|null|null|null|null|null|null|null|null|null|null|null|null|null|null|null|null|null|null|null|null|null|null|null|null|null|null|null|null|null|null|null|   0| 0.107105731657168|  0.1522213560029|0.730058923533085|1.96076343256409|4.27025206479837|6.89564324791819|11.2018332122764|15.4767450304148|20.0164779706473|25.0561788030566|29.7092194046434|35.3593140460806|40.7313542968922|44.960295259412|50.2223939198484|55.7663728495329|61.6034031213818|66.0125886576803|70.16185092784| 73.660421315499|75.1716951937227|null|\n",
      "|Africa Eastern an...|         AFE| Account (% age 15+)|      account.t.d|null|null|null|null|null|null|null|null|null|null|null|null|null|null|null|null|null|null|null|null|null|null|null|null|null|null|null|null|null|null|null|null|null|null|null|null|null|null|null|null|null|              null|             null|             null|            null|            null|            null|            null|            null|            null|            null|            null|            null|            null|           null|            null|            null|            null|            null|          null|            null|            null|null|\n",
      "|Africa Eastern an...|         AFE|Account, female (...|    account.t.d.1|null|null|null|null|null|null|null|null|null|null|null|null|null|null|null|null|null|null|null|null|null|null|null|null|null|null|null|null|null|null|null|null|null|null|null|null|null|null|null|null|null|              null|             null|             null|            null|            null|            null|            null|            null|            null|            null|            null|            null|            null|           null|            null|            null|            null|            null|          null|            null|            null|null|\n",
      "|Africa Eastern an...|         AFE|Account, male (% ...|    account.t.d.2|null|null|null|null|null|null|null|null|null|null|null|null|null|null|null|null|null|null|null|null|null|null|null|null|null|null|null|null|null|null|null|null|null|null|null|null|null|null|null|null|null|              null|             null|             null|            null|            null|            null|            null|            null|            null|            null|            null|            null|            null|           null|            null|            null|            null|            null|          null|            null|            null|null|\n",
      "|Africa Eastern an...|         AFE|Adjusted net enro...|      SE.PRM.TENR|null|null|null|null|null|null|null|null|null|null|null|null|null|null|null|null|null|null|null|null|null|null|null|null|null|null|null|null|null|null|null|null|null|null|null|null|null|null|null|null|null|              null|             null|             null|            null|            null|            null|            null|            null|            null|            null|            null|            null|            null|           null|            null|            null|            null|            null|          null|            null|            null|null|\n",
      "+--------------------+------------+--------------------+-----------------+----+----+----+----+----+----+----+----+----+----+----+----+----+----+----+----+----+----+----+----+----+----+----+----+----+----+----+----+----+----+----+----+----+----+----+----+----+----+----+----+----+------------------+-----------------+-----------------+----------------+----------------+----------------+----------------+----------------+----------------+----------------+----------------+----------------+----------------+---------------+----------------+----------------+----------------+----------------+--------------+----------------+----------------+----+\n",
      "only showing top 20 rows\n",
      "\n"
     ]
    }
   ],
   "source": [
    "path = \"hdfs://hdfs-nn:9000/Projeto/bronze/Gender_Stats.csv\"\n",
    "\n",
    "years = [str(year) for year in range(1960, 2023)]\n",
    "\n",
    "# Create the StructType schema\n",
    "Custom_schema = StructType([\n",
    "    StructField(\"Country_name\", StringType(), True),\n",
    "    StructField(\"Country_code\", StringType(), True),\n",
    "    StructField(\"Indicator_name\", StringType(), True),\n",
    "    StructField(\"Indicator_code\", StringType(), True)\n",
    "] + [StructField(year, StringType(), True) for year in years])\n",
    "\n",
    "\n",
    "gender = spark \\\n",
    "    .read \\\n",
    "    .option(\"delimiter\",\",\") \\\n",
    "    .option(\"header\",\"true\") \\\n",
    "    .schema(Custom_schema) \\\n",
    "    .csv(path)\n",
    "\n",
    "gender.show()"
   ]
  },
  {
   "cell_type": "code",
   "execution_count": 4,
   "id": "36b3857a-f267-4c21-ba6f-f952c2923756",
   "metadata": {},
   "outputs": [
    {
     "name": "stdout",
     "output_type": "stream",
     "text": [
      "root\n",
      " |-- Country_name: string (nullable = true)\n",
      " |-- Country_code: string (nullable = true)\n",
      " |-- Indicator_name: string (nullable = true)\n",
      " |-- Indicator_code: string (nullable = true)\n",
      " |-- 1990: string (nullable = true)\n",
      " |-- 1991: string (nullable = true)\n",
      " |-- 1992: string (nullable = true)\n",
      " |-- 1993: string (nullable = true)\n",
      " |-- 1994: string (nullable = true)\n",
      " |-- 1995: string (nullable = true)\n",
      " |-- 1996: string (nullable = true)\n",
      " |-- 1997: string (nullable = true)\n",
      " |-- 1998: string (nullable = true)\n",
      " |-- 1999: string (nullable = true)\n",
      " |-- 2000: string (nullable = true)\n",
      " |-- 2001: string (nullable = true)\n",
      " |-- 2002: string (nullable = true)\n",
      " |-- 2003: string (nullable = true)\n",
      " |-- 2004: string (nullable = true)\n",
      " |-- 2005: string (nullable = true)\n",
      " |-- 2006: string (nullable = true)\n",
      " |-- 2007: string (nullable = true)\n",
      " |-- 2008: string (nullable = true)\n",
      " |-- 2009: string (nullable = true)\n",
      " |-- 2010: string (nullable = true)\n",
      " |-- 2011: string (nullable = true)\n",
      " |-- 2012: string (nullable = true)\n",
      " |-- 2013: string (nullable = true)\n",
      " |-- 2014: string (nullable = true)\n",
      " |-- 2015: string (nullable = true)\n",
      " |-- 2016: string (nullable = true)\n",
      " |-- 2017: string (nullable = true)\n",
      " |-- 2018: string (nullable = true)\n",
      " |-- 2019: string (nullable = true)\n",
      " |-- 2020: string (nullable = true)\n",
      " |-- 2021: string (nullable = true)\n",
      " |-- 2022: string (nullable = true)\n",
      "\n"
     ]
    }
   ],
   "source": [
    "for i in range(1960,1990):\n",
    "    gender = gender.drop(str(i))\n",
    "\n",
    "gender.printSchema()"
   ]
  },
  {
   "cell_type": "code",
   "execution_count": 11,
   "id": "4ec66e50-eb2b-47eb-8394-f61c6f8c4266",
   "metadata": {},
   "outputs": [
    {
     "name": "stderr",
     "output_type": "stream",
     "text": [
      "ERROR:root:Exception while sending command.\n",
      "Traceback (most recent call last):\n",
      "  File \"/usr/local/spark/python/lib/py4j-0.10.9.7-src.zip/py4j/clientserver.py\", line 516, in send_command\n",
      "    raise Py4JNetworkError(\"Answer from Java side is empty\")\n",
      "py4j.protocol.Py4JNetworkError: Answer from Java side is empty\n",
      "\n",
      "During handling of the above exception, another exception occurred:\n",
      "\n",
      "Traceback (most recent call last):\n",
      "  File \"/usr/local/spark/python/lib/py4j-0.10.9.7-src.zip/py4j/java_gateway.py\", line 1038, in send_command\n",
      "    response = connection.send_command(command)\n",
      "               ^^^^^^^^^^^^^^^^^^^^^^^^^^^^^^^^\n",
      "  File \"/usr/local/spark/python/lib/py4j-0.10.9.7-src.zip/py4j/clientserver.py\", line 539, in send_command\n",
      "    raise Py4JNetworkError(\n",
      "py4j.protocol.Py4JNetworkError: Error while sending or receiving\n",
      "ERROR:root:Exception while sending command.\n",
      "Traceback (most recent call last):\n",
      "  File \"/usr/local/spark/python/lib/py4j-0.10.9.7-src.zip/py4j/clientserver.py\", line 516, in send_command\n",
      "    raise Py4JNetworkError(\"Answer from Java side is empty\")\n",
      "py4j.protocol.Py4JNetworkError: Answer from Java side is empty\n",
      "\n",
      "During handling of the above exception, another exception occurred:\n",
      "\n",
      "Traceback (most recent call last):\n",
      "  File \"/usr/local/spark/python/lib/py4j-0.10.9.7-src.zip/py4j/java_gateway.py\", line 1038, in send_command\n",
      "    response = connection.send_command(command)\n",
      "               ^^^^^^^^^^^^^^^^^^^^^^^^^^^^^^^^\n",
      "  File \"/usr/local/spark/python/lib/py4j-0.10.9.7-src.zip/py4j/clientserver.py\", line 539, in send_command\n",
      "    raise Py4JNetworkError(\n",
      "py4j.protocol.Py4JNetworkError: Error while sending or receiving\n"
     ]
    },
    {
     "ename": "ConnectionRefusedError",
     "evalue": "[Errno 111] Connection refused",
     "output_type": "error",
     "traceback": [
      "\u001b[0;31m---------------------------------------------------------------------------\u001b[0m",
      "\u001b[0;31mPy4JError\u001b[0m                                 Traceback (most recent call last)",
      "File \u001b[0;32m/usr/local/spark/python/pyspark/sql/dataframe.py:1216\u001b[0m, in \u001b[0;36mDataFrame.collect\u001b[0;34m(self)\u001b[0m\n\u001b[1;32m   1215\u001b[0m \u001b[38;5;28;01mwith\u001b[39;00m SCCallSiteSync(\u001b[38;5;28mself\u001b[39m\u001b[38;5;241m.\u001b[39m_sc):\n\u001b[0;32m-> 1216\u001b[0m     sock_info \u001b[38;5;241m=\u001b[39m \u001b[38;5;28;43mself\u001b[39;49m\u001b[38;5;241;43m.\u001b[39;49m\u001b[43m_jdf\u001b[49m\u001b[38;5;241;43m.\u001b[39;49m\u001b[43mcollectToPython\u001b[49m\u001b[43m(\u001b[49m\u001b[43m)\u001b[49m\n\u001b[1;32m   1217\u001b[0m \u001b[38;5;28;01mreturn\u001b[39;00m \u001b[38;5;28mlist\u001b[39m(_load_from_socket(sock_info, BatchedSerializer(CPickleSerializer())))\n",
      "File \u001b[0;32m/usr/local/spark/python/lib/py4j-0.10.9.7-src.zip/py4j/java_gateway.py:1322\u001b[0m, in \u001b[0;36mJavaMember.__call__\u001b[0;34m(self, *args)\u001b[0m\n\u001b[1;32m   1321\u001b[0m answer \u001b[38;5;241m=\u001b[39m \u001b[38;5;28mself\u001b[39m\u001b[38;5;241m.\u001b[39mgateway_client\u001b[38;5;241m.\u001b[39msend_command(command)\n\u001b[0;32m-> 1322\u001b[0m return_value \u001b[38;5;241m=\u001b[39m \u001b[43mget_return_value\u001b[49m\u001b[43m(\u001b[49m\n\u001b[1;32m   1323\u001b[0m \u001b[43m    \u001b[49m\u001b[43manswer\u001b[49m\u001b[43m,\u001b[49m\u001b[43m \u001b[49m\u001b[38;5;28;43mself\u001b[39;49m\u001b[38;5;241;43m.\u001b[39;49m\u001b[43mgateway_client\u001b[49m\u001b[43m,\u001b[49m\u001b[43m \u001b[49m\u001b[38;5;28;43mself\u001b[39;49m\u001b[38;5;241;43m.\u001b[39;49m\u001b[43mtarget_id\u001b[49m\u001b[43m,\u001b[49m\u001b[43m \u001b[49m\u001b[38;5;28;43mself\u001b[39;49m\u001b[38;5;241;43m.\u001b[39;49m\u001b[43mname\u001b[49m\u001b[43m)\u001b[49m\n\u001b[1;32m   1325\u001b[0m \u001b[38;5;28;01mfor\u001b[39;00m temp_arg \u001b[38;5;129;01min\u001b[39;00m temp_args:\n",
      "File \u001b[0;32m/usr/local/spark/python/pyspark/errors/exceptions/captured.py:169\u001b[0m, in \u001b[0;36mcapture_sql_exception.<locals>.deco\u001b[0;34m(*a, **kw)\u001b[0m\n\u001b[1;32m    168\u001b[0m \u001b[38;5;28;01mtry\u001b[39;00m:\n\u001b[0;32m--> 169\u001b[0m     \u001b[38;5;28;01mreturn\u001b[39;00m \u001b[43mf\u001b[49m\u001b[43m(\u001b[49m\u001b[38;5;241;43m*\u001b[39;49m\u001b[43ma\u001b[49m\u001b[43m,\u001b[49m\u001b[43m \u001b[49m\u001b[38;5;241;43m*\u001b[39;49m\u001b[38;5;241;43m*\u001b[39;49m\u001b[43mkw\u001b[49m\u001b[43m)\u001b[49m\n\u001b[1;32m    170\u001b[0m \u001b[38;5;28;01mexcept\u001b[39;00m Py4JJavaError \u001b[38;5;28;01mas\u001b[39;00m e:\n",
      "File \u001b[0;32m/usr/local/spark/python/lib/py4j-0.10.9.7-src.zip/py4j/protocol.py:334\u001b[0m, in \u001b[0;36mget_return_value\u001b[0;34m(answer, gateway_client, target_id, name)\u001b[0m\n\u001b[1;32m    333\u001b[0m     \u001b[38;5;28;01melse\u001b[39;00m:\n\u001b[0;32m--> 334\u001b[0m         \u001b[38;5;28;01mraise\u001b[39;00m Py4JError(\n\u001b[1;32m    335\u001b[0m             \u001b[38;5;124m\"\u001b[39m\u001b[38;5;124mAn error occurred while calling \u001b[39m\u001b[38;5;132;01m{0}\u001b[39;00m\u001b[38;5;132;01m{1}\u001b[39;00m\u001b[38;5;132;01m{2}\u001b[39;00m\u001b[38;5;124m\"\u001b[39m\u001b[38;5;241m.\u001b[39m\n\u001b[1;32m    336\u001b[0m             \u001b[38;5;28mformat\u001b[39m(target_id, \u001b[38;5;124m\"\u001b[39m\u001b[38;5;124m.\u001b[39m\u001b[38;5;124m\"\u001b[39m, name))\n\u001b[1;32m    337\u001b[0m \u001b[38;5;28;01melse\u001b[39;00m:\n",
      "\u001b[0;31mPy4JError\u001b[0m: An error occurred while calling o178.collectToPython",
      "\nDuring handling of the above exception, another exception occurred:\n",
      "\u001b[0;31mConnectionRefusedError\u001b[0m                    Traceback (most recent call last)",
      "Cell \u001b[0;32mIn[11], line 9\u001b[0m\n\u001b[1;32m      1\u001b[0m unpivot_gender \u001b[38;5;241m=\u001b[39m gender\u001b[38;5;241m.\u001b[39mselectExpr(\n\u001b[1;32m      2\u001b[0m     \u001b[38;5;124m\"\u001b[39m\u001b[38;5;124mCountry_name\u001b[39m\u001b[38;5;124m\"\u001b[39m,\n\u001b[1;32m      3\u001b[0m     \u001b[38;5;124m\"\u001b[39m\u001b[38;5;124mCountry_code\u001b[39m\u001b[38;5;124m\"\u001b[39m,\n\u001b[0;32m   (...)\u001b[0m\n\u001b[1;32m      6\u001b[0m     \u001b[38;5;124m\"\u001b[39m\u001b[38;5;124mstack(33, \u001b[39m\u001b[38;5;124m'\u001b[39m\u001b[38;5;124m1990\u001b[39m\u001b[38;5;124m'\u001b[39m\u001b[38;5;124m, 1990, \u001b[39m\u001b[38;5;124m'\u001b[39m\u001b[38;5;124m1991\u001b[39m\u001b[38;5;124m'\u001b[39m\u001b[38;5;124m, 1991, \u001b[39m\u001b[38;5;124m'\u001b[39m\u001b[38;5;124m1992\u001b[39m\u001b[38;5;124m'\u001b[39m\u001b[38;5;124m, 1992, \u001b[39m\u001b[38;5;124m'\u001b[39m\u001b[38;5;124m1993\u001b[39m\u001b[38;5;124m'\u001b[39m\u001b[38;5;124m, 1993, \u001b[39m\u001b[38;5;124m'\u001b[39m\u001b[38;5;124m1994\u001b[39m\u001b[38;5;124m'\u001b[39m\u001b[38;5;124m, 1994, \u001b[39m\u001b[38;5;124m'\u001b[39m\u001b[38;5;124m1995\u001b[39m\u001b[38;5;124m'\u001b[39m\u001b[38;5;124m, 1995, \u001b[39m\u001b[38;5;124m'\u001b[39m\u001b[38;5;124m1996\u001b[39m\u001b[38;5;124m'\u001b[39m\u001b[38;5;124m, 1996, \u001b[39m\u001b[38;5;124m'\u001b[39m\u001b[38;5;124m1997\u001b[39m\u001b[38;5;124m'\u001b[39m\u001b[38;5;124m, 1997, \u001b[39m\u001b[38;5;124m'\u001b[39m\u001b[38;5;124m1998\u001b[39m\u001b[38;5;124m'\u001b[39m\u001b[38;5;124m, 1998, \u001b[39m\u001b[38;5;124m'\u001b[39m\u001b[38;5;124m1999\u001b[39m\u001b[38;5;124m'\u001b[39m\u001b[38;5;124m, 1999, \u001b[39m\u001b[38;5;124m'\u001b[39m\u001b[38;5;124m2000\u001b[39m\u001b[38;5;124m'\u001b[39m\u001b[38;5;124m, 2000, \u001b[39m\u001b[38;5;124m'\u001b[39m\u001b[38;5;124m2001\u001b[39m\u001b[38;5;124m'\u001b[39m\u001b[38;5;124m, 2001, \u001b[39m\u001b[38;5;124m'\u001b[39m\u001b[38;5;124m2002\u001b[39m\u001b[38;5;124m'\u001b[39m\u001b[38;5;124m, 2002, \u001b[39m\u001b[38;5;124m'\u001b[39m\u001b[38;5;124m2003\u001b[39m\u001b[38;5;124m'\u001b[39m\u001b[38;5;124m, 2003, \u001b[39m\u001b[38;5;124m'\u001b[39m\u001b[38;5;124m2004\u001b[39m\u001b[38;5;124m'\u001b[39m\u001b[38;5;124m, 2004, \u001b[39m\u001b[38;5;124m'\u001b[39m\u001b[38;5;124m2005\u001b[39m\u001b[38;5;124m'\u001b[39m\u001b[38;5;124m, 2005, \u001b[39m\u001b[38;5;124m'\u001b[39m\u001b[38;5;124m2006\u001b[39m\u001b[38;5;124m'\u001b[39m\u001b[38;5;124m, 2006, \u001b[39m\u001b[38;5;124m'\u001b[39m\u001b[38;5;124m2007\u001b[39m\u001b[38;5;124m'\u001b[39m\u001b[38;5;124m, 2007, \u001b[39m\u001b[38;5;124m'\u001b[39m\u001b[38;5;124m2008\u001b[39m\u001b[38;5;124m'\u001b[39m\u001b[38;5;124m, 2008, \u001b[39m\u001b[38;5;124m'\u001b[39m\u001b[38;5;124m2009\u001b[39m\u001b[38;5;124m'\u001b[39m\u001b[38;5;124m, 2009, \u001b[39m\u001b[38;5;124m'\u001b[39m\u001b[38;5;124m2010\u001b[39m\u001b[38;5;124m'\u001b[39m\u001b[38;5;124m, 2010, \u001b[39m\u001b[38;5;124m'\u001b[39m\u001b[38;5;124m2011\u001b[39m\u001b[38;5;124m'\u001b[39m\u001b[38;5;124m, 2011, \u001b[39m\u001b[38;5;124m'\u001b[39m\u001b[38;5;124m2012\u001b[39m\u001b[38;5;124m'\u001b[39m\u001b[38;5;124m, 2012, \u001b[39m\u001b[38;5;124m'\u001b[39m\u001b[38;5;124m2013\u001b[39m\u001b[38;5;124m'\u001b[39m\u001b[38;5;124m, 2013, \u001b[39m\u001b[38;5;124m'\u001b[39m\u001b[38;5;124m2014\u001b[39m\u001b[38;5;124m'\u001b[39m\u001b[38;5;124m, 2014, \u001b[39m\u001b[38;5;124m'\u001b[39m\u001b[38;5;124m2015\u001b[39m\u001b[38;5;124m'\u001b[39m\u001b[38;5;124m, 2015, \u001b[39m\u001b[38;5;124m'\u001b[39m\u001b[38;5;124m2016\u001b[39m\u001b[38;5;124m'\u001b[39m\u001b[38;5;124m, 2016, \u001b[39m\u001b[38;5;124m'\u001b[39m\u001b[38;5;124m2017\u001b[39m\u001b[38;5;124m'\u001b[39m\u001b[38;5;124m, 2017, \u001b[39m\u001b[38;5;124m'\u001b[39m\u001b[38;5;124m2018\u001b[39m\u001b[38;5;124m'\u001b[39m\u001b[38;5;124m, 2018, \u001b[39m\u001b[38;5;124m'\u001b[39m\u001b[38;5;124m2019\u001b[39m\u001b[38;5;124m'\u001b[39m\u001b[38;5;124m, 2019, \u001b[39m\u001b[38;5;124m'\u001b[39m\u001b[38;5;124m2020\u001b[39m\u001b[38;5;124m'\u001b[39m\u001b[38;5;124m, 2020, \u001b[39m\u001b[38;5;124m'\u001b[39m\u001b[38;5;124m2021\u001b[39m\u001b[38;5;124m'\u001b[39m\u001b[38;5;124m, 2021, \u001b[39m\u001b[38;5;124m'\u001b[39m\u001b[38;5;124m2022\u001b[39m\u001b[38;5;124m'\u001b[39m\u001b[38;5;124m, 2022) as (Year, Value)\u001b[39m\u001b[38;5;124m\"\u001b[39m\n\u001b[1;32m      7\u001b[0m )\n\u001b[0;32m----> 9\u001b[0m \u001b[43munpivot_gender\u001b[49m\u001b[38;5;241;43m.\u001b[39;49m\u001b[43mtoPandas\u001b[49m\u001b[43m(\u001b[49m\u001b[43m)\u001b[49m\n",
      "File \u001b[0;32m/usr/local/spark/python/pyspark/sql/pandas/conversion.py:208\u001b[0m, in \u001b[0;36mPandasConversionMixin.toPandas\u001b[0;34m(self)\u001b[0m\n\u001b[1;32m    205\u001b[0m             \u001b[38;5;28;01mraise\u001b[39;00m\n\u001b[1;32m    207\u001b[0m \u001b[38;5;66;03m# Below is toPandas without Arrow optimization.\u001b[39;00m\n\u001b[0;32m--> 208\u001b[0m pdf \u001b[38;5;241m=\u001b[39m pd\u001b[38;5;241m.\u001b[39mDataFrame\u001b[38;5;241m.\u001b[39mfrom_records(\u001b[38;5;28;43mself\u001b[39;49m\u001b[38;5;241;43m.\u001b[39;49m\u001b[43mcollect\u001b[49m\u001b[43m(\u001b[49m\u001b[43m)\u001b[49m, columns\u001b[38;5;241m=\u001b[39m\u001b[38;5;28mself\u001b[39m\u001b[38;5;241m.\u001b[39mcolumns)\n\u001b[1;32m    209\u001b[0m column_counter \u001b[38;5;241m=\u001b[39m Counter(\u001b[38;5;28mself\u001b[39m\u001b[38;5;241m.\u001b[39mcolumns)\n\u001b[1;32m    211\u001b[0m corrected_dtypes: List[Optional[Type]] \u001b[38;5;241m=\u001b[39m [\u001b[38;5;28;01mNone\u001b[39;00m] \u001b[38;5;241m*\u001b[39m \u001b[38;5;28mlen\u001b[39m(\u001b[38;5;28mself\u001b[39m\u001b[38;5;241m.\u001b[39mschema)\n",
      "File \u001b[0;32m/usr/local/spark/python/pyspark/sql/dataframe.py:1215\u001b[0m, in \u001b[0;36mDataFrame.collect\u001b[0;34m(self)\u001b[0m\n\u001b[1;32m   1195\u001b[0m \u001b[38;5;28;01mdef\u001b[39;00m \u001b[38;5;21mcollect\u001b[39m(\u001b[38;5;28mself\u001b[39m) \u001b[38;5;241m-\u001b[39m\u001b[38;5;241m>\u001b[39m List[Row]:\n\u001b[1;32m   1196\u001b[0m \u001b[38;5;250m    \u001b[39m\u001b[38;5;124;03m\"\"\"Returns all the records as a list of :class:`Row`.\u001b[39;00m\n\u001b[1;32m   1197\u001b[0m \n\u001b[1;32m   1198\u001b[0m \u001b[38;5;124;03m    .. versionadded:: 1.3.0\u001b[39;00m\n\u001b[0;32m   (...)\u001b[0m\n\u001b[1;32m   1213\u001b[0m \u001b[38;5;124;03m    [Row(age=14, name='Tom'), Row(age=23, name='Alice'), Row(age=16, name='Bob')]\u001b[39;00m\n\u001b[1;32m   1214\u001b[0m \u001b[38;5;124;03m    \"\"\"\u001b[39;00m\n\u001b[0;32m-> 1215\u001b[0m \u001b[43m    \u001b[49m\u001b[38;5;28;43;01mwith\u001b[39;49;00m\u001b[43m \u001b[49m\u001b[43mSCCallSiteSync\u001b[49m\u001b[43m(\u001b[49m\u001b[38;5;28;43mself\u001b[39;49m\u001b[38;5;241;43m.\u001b[39;49m\u001b[43m_sc\u001b[49m\u001b[43m)\u001b[49m\u001b[43m:\u001b[49m\n\u001b[1;32m   1216\u001b[0m \u001b[43m        \u001b[49m\u001b[43msock_info\u001b[49m\u001b[43m \u001b[49m\u001b[38;5;241;43m=\u001b[39;49m\u001b[43m \u001b[49m\u001b[38;5;28;43mself\u001b[39;49m\u001b[38;5;241;43m.\u001b[39;49m\u001b[43m_jdf\u001b[49m\u001b[38;5;241;43m.\u001b[39;49m\u001b[43mcollectToPython\u001b[49m\u001b[43m(\u001b[49m\u001b[43m)\u001b[49m\n\u001b[1;32m   1217\u001b[0m     \u001b[38;5;28;01mreturn\u001b[39;00m \u001b[38;5;28mlist\u001b[39m(_load_from_socket(sock_info, BatchedSerializer(CPickleSerializer())))\n",
      "File \u001b[0;32m/usr/local/spark/python/pyspark/traceback_utils.py:81\u001b[0m, in \u001b[0;36mSCCallSiteSync.__exit__\u001b[0;34m(self, type, value, tb)\u001b[0m\n\u001b[1;32m     79\u001b[0m SCCallSiteSync\u001b[38;5;241m.\u001b[39m_spark_stack_depth \u001b[38;5;241m-\u001b[39m\u001b[38;5;241m=\u001b[39m \u001b[38;5;241m1\u001b[39m\n\u001b[1;32m     80\u001b[0m \u001b[38;5;28;01mif\u001b[39;00m SCCallSiteSync\u001b[38;5;241m.\u001b[39m_spark_stack_depth \u001b[38;5;241m==\u001b[39m \u001b[38;5;241m0\u001b[39m:\n\u001b[0;32m---> 81\u001b[0m     \u001b[38;5;28;43mself\u001b[39;49m\u001b[38;5;241;43m.\u001b[39;49m\u001b[43m_context\u001b[49m\u001b[38;5;241;43m.\u001b[39;49m\u001b[43m_jsc\u001b[49m\u001b[38;5;241;43m.\u001b[39;49m\u001b[43msetCallSite\u001b[49m\u001b[43m(\u001b[49m\u001b[38;5;28;43;01mNone\u001b[39;49;00m\u001b[43m)\u001b[49m\n",
      "File \u001b[0;32m/usr/local/spark/python/lib/py4j-0.10.9.7-src.zip/py4j/java_gateway.py:1321\u001b[0m, in \u001b[0;36mJavaMember.__call__\u001b[0;34m(self, *args)\u001b[0m\n\u001b[1;32m   1314\u001b[0m args_command, temp_args \u001b[38;5;241m=\u001b[39m \u001b[38;5;28mself\u001b[39m\u001b[38;5;241m.\u001b[39m_build_args(\u001b[38;5;241m*\u001b[39margs)\n\u001b[1;32m   1316\u001b[0m command \u001b[38;5;241m=\u001b[39m proto\u001b[38;5;241m.\u001b[39mCALL_COMMAND_NAME \u001b[38;5;241m+\u001b[39m\\\n\u001b[1;32m   1317\u001b[0m     \u001b[38;5;28mself\u001b[39m\u001b[38;5;241m.\u001b[39mcommand_header \u001b[38;5;241m+\u001b[39m\\\n\u001b[1;32m   1318\u001b[0m     args_command \u001b[38;5;241m+\u001b[39m\\\n\u001b[1;32m   1319\u001b[0m     proto\u001b[38;5;241m.\u001b[39mEND_COMMAND_PART\n\u001b[0;32m-> 1321\u001b[0m answer \u001b[38;5;241m=\u001b[39m \u001b[38;5;28;43mself\u001b[39;49m\u001b[38;5;241;43m.\u001b[39;49m\u001b[43mgateway_client\u001b[49m\u001b[38;5;241;43m.\u001b[39;49m\u001b[43msend_command\u001b[49m\u001b[43m(\u001b[49m\u001b[43mcommand\u001b[49m\u001b[43m)\u001b[49m\n\u001b[1;32m   1322\u001b[0m return_value \u001b[38;5;241m=\u001b[39m get_return_value(\n\u001b[1;32m   1323\u001b[0m     answer, \u001b[38;5;28mself\u001b[39m\u001b[38;5;241m.\u001b[39mgateway_client, \u001b[38;5;28mself\u001b[39m\u001b[38;5;241m.\u001b[39mtarget_id, \u001b[38;5;28mself\u001b[39m\u001b[38;5;241m.\u001b[39mname)\n\u001b[1;32m   1325\u001b[0m \u001b[38;5;28;01mfor\u001b[39;00m temp_arg \u001b[38;5;129;01min\u001b[39;00m temp_args:\n",
      "File \u001b[0;32m/usr/local/spark/python/lib/py4j-0.10.9.7-src.zip/py4j/java_gateway.py:1036\u001b[0m, in \u001b[0;36mGatewayClient.send_command\u001b[0;34m(self, command, retry, binary)\u001b[0m\n\u001b[1;32m   1015\u001b[0m \u001b[38;5;28;01mdef\u001b[39;00m \u001b[38;5;21msend_command\u001b[39m(\u001b[38;5;28mself\u001b[39m, command, retry\u001b[38;5;241m=\u001b[39m\u001b[38;5;28;01mTrue\u001b[39;00m, binary\u001b[38;5;241m=\u001b[39m\u001b[38;5;28;01mFalse\u001b[39;00m):\n\u001b[1;32m   1016\u001b[0m \u001b[38;5;250m    \u001b[39m\u001b[38;5;124;03m\"\"\"Sends a command to the JVM. This method is not intended to be\u001b[39;00m\n\u001b[1;32m   1017\u001b[0m \u001b[38;5;124;03m       called directly by Py4J users. It is usually called by\u001b[39;00m\n\u001b[1;32m   1018\u001b[0m \u001b[38;5;124;03m       :class:`JavaMember` instances.\u001b[39;00m\n\u001b[0;32m   (...)\u001b[0m\n\u001b[1;32m   1034\u001b[0m \u001b[38;5;124;03m     if `binary` is `True`.\u001b[39;00m\n\u001b[1;32m   1035\u001b[0m \u001b[38;5;124;03m    \"\"\"\u001b[39;00m\n\u001b[0;32m-> 1036\u001b[0m     connection \u001b[38;5;241m=\u001b[39m \u001b[38;5;28;43mself\u001b[39;49m\u001b[38;5;241;43m.\u001b[39;49m\u001b[43m_get_connection\u001b[49m\u001b[43m(\u001b[49m\u001b[43m)\u001b[49m\n\u001b[1;32m   1037\u001b[0m     \u001b[38;5;28;01mtry\u001b[39;00m:\n\u001b[1;32m   1038\u001b[0m         response \u001b[38;5;241m=\u001b[39m connection\u001b[38;5;241m.\u001b[39msend_command(command)\n",
      "File \u001b[0;32m/usr/local/spark/python/lib/py4j-0.10.9.7-src.zip/py4j/clientserver.py:284\u001b[0m, in \u001b[0;36mJavaClient._get_connection\u001b[0;34m(self)\u001b[0m\n\u001b[1;32m    281\u001b[0m     \u001b[38;5;28;01mpass\u001b[39;00m\n\u001b[1;32m    283\u001b[0m \u001b[38;5;28;01mif\u001b[39;00m connection \u001b[38;5;129;01mis\u001b[39;00m \u001b[38;5;28;01mNone\u001b[39;00m \u001b[38;5;129;01mor\u001b[39;00m connection\u001b[38;5;241m.\u001b[39msocket \u001b[38;5;129;01mis\u001b[39;00m \u001b[38;5;28;01mNone\u001b[39;00m:\n\u001b[0;32m--> 284\u001b[0m     connection \u001b[38;5;241m=\u001b[39m \u001b[38;5;28;43mself\u001b[39;49m\u001b[38;5;241;43m.\u001b[39;49m\u001b[43m_create_new_connection\u001b[49m\u001b[43m(\u001b[49m\u001b[43m)\u001b[49m\n\u001b[1;32m    285\u001b[0m \u001b[38;5;28;01mreturn\u001b[39;00m connection\n",
      "File \u001b[0;32m/usr/local/spark/python/lib/py4j-0.10.9.7-src.zip/py4j/clientserver.py:291\u001b[0m, in \u001b[0;36mJavaClient._create_new_connection\u001b[0;34m(self)\u001b[0m\n\u001b[1;32m    287\u001b[0m \u001b[38;5;28;01mdef\u001b[39;00m \u001b[38;5;21m_create_new_connection\u001b[39m(\u001b[38;5;28mself\u001b[39m):\n\u001b[1;32m    288\u001b[0m     connection \u001b[38;5;241m=\u001b[39m ClientServerConnection(\n\u001b[1;32m    289\u001b[0m         \u001b[38;5;28mself\u001b[39m\u001b[38;5;241m.\u001b[39mjava_parameters, \u001b[38;5;28mself\u001b[39m\u001b[38;5;241m.\u001b[39mpython_parameters,\n\u001b[1;32m    290\u001b[0m         \u001b[38;5;28mself\u001b[39m\u001b[38;5;241m.\u001b[39mgateway_property, \u001b[38;5;28mself\u001b[39m)\n\u001b[0;32m--> 291\u001b[0m     \u001b[43mconnection\u001b[49m\u001b[38;5;241;43m.\u001b[39;49m\u001b[43mconnect_to_java_server\u001b[49m\u001b[43m(\u001b[49m\u001b[43m)\u001b[49m\n\u001b[1;32m    292\u001b[0m     \u001b[38;5;28mself\u001b[39m\u001b[38;5;241m.\u001b[39mset_thread_connection(connection)\n\u001b[1;32m    293\u001b[0m     \u001b[38;5;28;01mreturn\u001b[39;00m connection\n",
      "File \u001b[0;32m/usr/local/spark/python/lib/py4j-0.10.9.7-src.zip/py4j/clientserver.py:438\u001b[0m, in \u001b[0;36mClientServerConnection.connect_to_java_server\u001b[0;34m(self)\u001b[0m\n\u001b[1;32m    435\u001b[0m \u001b[38;5;28;01mif\u001b[39;00m \u001b[38;5;28mself\u001b[39m\u001b[38;5;241m.\u001b[39mssl_context:\n\u001b[1;32m    436\u001b[0m     \u001b[38;5;28mself\u001b[39m\u001b[38;5;241m.\u001b[39msocket \u001b[38;5;241m=\u001b[39m \u001b[38;5;28mself\u001b[39m\u001b[38;5;241m.\u001b[39mssl_context\u001b[38;5;241m.\u001b[39mwrap_socket(\n\u001b[1;32m    437\u001b[0m         \u001b[38;5;28mself\u001b[39m\u001b[38;5;241m.\u001b[39msocket, server_hostname\u001b[38;5;241m=\u001b[39m\u001b[38;5;28mself\u001b[39m\u001b[38;5;241m.\u001b[39mjava_address)\n\u001b[0;32m--> 438\u001b[0m \u001b[38;5;28;43mself\u001b[39;49m\u001b[38;5;241;43m.\u001b[39;49m\u001b[43msocket\u001b[49m\u001b[38;5;241;43m.\u001b[39;49m\u001b[43mconnect\u001b[49m\u001b[43m(\u001b[49m\u001b[43m(\u001b[49m\u001b[38;5;28;43mself\u001b[39;49m\u001b[38;5;241;43m.\u001b[39;49m\u001b[43mjava_address\u001b[49m\u001b[43m,\u001b[49m\u001b[43m \u001b[49m\u001b[38;5;28;43mself\u001b[39;49m\u001b[38;5;241;43m.\u001b[39;49m\u001b[43mjava_port\u001b[49m\u001b[43m)\u001b[49m\u001b[43m)\u001b[49m\n\u001b[1;32m    439\u001b[0m \u001b[38;5;28mself\u001b[39m\u001b[38;5;241m.\u001b[39mstream \u001b[38;5;241m=\u001b[39m \u001b[38;5;28mself\u001b[39m\u001b[38;5;241m.\u001b[39msocket\u001b[38;5;241m.\u001b[39mmakefile(\u001b[38;5;124m\"\u001b[39m\u001b[38;5;124mrb\u001b[39m\u001b[38;5;124m\"\u001b[39m)\n\u001b[1;32m    440\u001b[0m \u001b[38;5;28mself\u001b[39m\u001b[38;5;241m.\u001b[39mis_connected \u001b[38;5;241m=\u001b[39m \u001b[38;5;28;01mTrue\u001b[39;00m\n",
      "\u001b[0;31mConnectionRefusedError\u001b[0m: [Errno 111] Connection refused"
     ]
    }
   ],
   "source": [
    "unpivot_gender = gender.selectExpr(\n",
    "    \"Country_name\",\n",
    "    \"Country_code\",\n",
    "    \"Indicator_name\",\n",
    "    \"Indicator_code\",\n",
    "    \"stack(33, '1990', 1990, '1991', 1991, '1992', 1992, '1993', 1993, '1994', 1994, '1995', 1995, '1996', 1996, '1997', 1997, '1998', 1998, '1999', 1999, '2000', 2000, '2001', 2001, '2002', 2002, '2003', 2003, '2004', 2004, '2005', 2005, '2006', 2006, '2007', 2007, '2008', 2008, '2009', 2009, '2010', 2010, '2011', 2011, '2012', 2012, '2013', 2013, '2014', 2014, '2015', 2015, '2016', 2016, '2017', 2017, '2018', 2018, '2019', 2019, '2020', 2020, '2021', 2021, '2022', 2022) as (Year, Value)\"\n",
    ")\n",
    "\n",
    "unpivot_gender.show()"
   ]
  },
  {
   "cell_type": "code",
   "execution_count": 35,
   "id": "087a51d8-254d-4601-a721-8d15b982c08c",
   "metadata": {},
   "outputs": [],
   "source": [
    "spark.catalog.setCurrentDatabase(\"database\")\n",
    "gender \\\n",
    "    .write \\\n",
    "    .mode(\"overwrite\") \\\n",
    "    .format(\"parquet\") \\\n",
    "    .option(\"delimiter\",\",\")\\\n",
    "    .option(\"header\",\"true\") \\\n",
    "    .save(\"literacia_jobs\")"
   ]
  },
  {
   "cell_type": "code",
   "execution_count": 3,
   "id": "68fb52f8-8b9c-492f-b7df-522f5296aa3a",
   "metadata": {},
   "outputs": [],
   "source": [
    "\n",
    "tables = spark.catalog.listTables()\n",
    "\n",
    "# Display the table names\n",
    "for table in tables:\n",
    "    print(table.name)"
   ]
  },
  {
   "cell_type": "code",
   "execution_count": 33,
   "id": "95ce510a-9407-4b03-90a0-5bf826bc124d",
   "metadata": {},
   "outputs": [
    {
     "name": "stdout",
     "output_type": "stream",
     "text": [
      "+------------+------------+--------------------+-----------------+-----------------+----------------+----------------+-----------------+----------------+------------------+----------------+------------------+----------------+----------------+-----------------+----------------+----------------+----------------+----------------+----------------+----------------+-----------------+----------------+----------------+----------------+----------------+----------------+----------------+-----------------+------------------+----------------+\n",
      "|Country_name|Country_code|      Indicator_name|   Indicator_code|             1990|            1991|            1992|             1993|            1994|              1995|            1996|              1997|            1998|            1999|             2000|            2001|            2002|            2003|            2004|            2005|            2006|             2007|            2008|            2009|            2010|            2011|            2012|            2013|             2014|              2015|            2016|\n",
      "+------------+------------+--------------------+-----------------+-----------------+----------------+----------------+-----------------+----------------+------------------+----------------+------------------+----------------+----------------+-----------------+----------------+----------------+----------------+----------------+----------------+----------------+-----------------+----------------+----------------+----------------+----------------+----------------+----------------+-----------------+------------------+----------------+\n",
      "|  Arab World|         ARB|Access to electri...|   EG.ELC.ACCS.ZS| 74.3842390444175|74.3822200880162|74.3131602867208| 75.3493248355472|75.7885216921504|   76.214137971973|77.2051498724772|  77.5737299371645|78.3955110511858|78.9655316665757| 78.7623297831137|80.1492565068256|80.3599784304366|81.3547876429119|82.6624023433797|83.6875762079726|85.8002961272357| 84.7357232408233|85.4328268149662|85.1898151220048|86.1361336464124| 86.782683284186|87.2882439402148|88.3897051476481| 88.0767741380158|  88.5179673938546|88.7686540243445|\n",
      "|  Arab World|         ARB|Adolescent fertil...|      SP.ADO.TFRT| 69.4671600130625|68.2119854805064|67.3145946554563| 65.2560593931021|63.1775517084491|  60.9079023168178|58.7657355748331|   56.590185962424|55.7400683349299|54.9328883944044|  54.169817070388|53.3133996019326|52.4857185292799|52.0345970263099|51.6295928418732|51.2672973217117|50.8772749401564| 50.5433873681726|50.3169944090558|50.1046104372653|49.9001179322243|49.7237574729017|49.5390740285026|49.1112444700091| 48.6475393890239|    48.11455247461|47.4400688914731|\n",
      "|  Arab World|         ARB|Age dependency ra...|      SP.POP.DPND| 87.4813398865698|86.7261782925178|86.0581180690568| 84.9067498061564|83.5981421599692|  81.9464190070822|80.5768076612983|  79.1426598702933| 77.675807259833|76.1978668610219| 74.7148124657176|73.2195167125996| 71.747229015842|70.3090971016105|68.9206181109492|  67.60287661057| 66.418678595391| 65.2754520648483|64.2352931711411|63.3650268619003|62.6947151615853|62.3416961742781|62.1688542533565|62.1181878490802| 62.0898579615104|  62.0172343927312|62.0574752897263|\n",
      "|  Arab World|         ARB|Agriculture, valu...|   NV.AGR.TOTL.ZS| 9.99529674219195|10.5408637680248|10.7303838289282|  10.363114023624|10.5520069318338|  10.3160136211027|10.7062867574896|  9.41118466262656|10.3686602513893|9.51577143130371| 7.96993701697548|8.42780521781199|8.26024461177509|7.95401378358806|7.18716931498963|6.51884946778871|6.23856964500842| 5.78863545730716|4.94155829977649|5.75632156679172|5.16282196773003| 5.0585472422449|4.99660890161447|5.21986697370617| 5.17306186097301|  5.52210448855688|5.69085732609603|\n",
      "|  Arab World|         ARB|Agriculture, valu...|NV.AGR.TOTL.KD.ZG|-1.74837685626029|4.16593086108283|2.94078180815292|0.194046131829225|4.42977963688782|-0.829413357890132|13.8820749665062|-0.675629254904337|6.71187853703456|1.94658771852004|-2.01119346852985|4.70150889788626|3.36715270745475|2.51676097334384| 3.9213124204629|2.72739415723234| 6.3506361141455|-3.42482143804601|2.06130344082416|6.42577682566731|3.98426242867338|6.14336163943673|3.62221038443577|5.72082591671577|0.849657191501024|-0.222525922327392|2.20922393398379|\n",
      "|  Arab World|         ARB|Agriculture, valu...|   NV.AGR.TOTL.KD| 63188875711.9264|65821280585.9808|67756940831.3466| 67888420554.0756|70895727983.5849|  70307709345.5155|80067878264.0933|  79526916254.7599|84864666278.0286|86516631449.1597| 84776614608.2622|88762394687.3964|91751160063.3147|94060317452.3784|97748716363.3654|100414709142.229| 106791681924.93| 103134257508.315|105260167507.002|112023950957.326|116487279146.434| 123643513968.34|128122142170.982|135451786885.351| 136602662733.639|  136298686398.468|139309829600.088|\n",
      "|  Arab World|         ARB|Air transport, re...|      IS.AIR.DPRT|           354400|          319800|          370600|           390200|          405800|            388600|          408400|            407400|          402500|          441200|           470300|          470936|          473898|          493857|          553147|          431300|          471714|           516679|          504211|          811221|1065038.01071509|1093318.56079486|1159025.93858519|       1222183.5| 1289638.76744056|           1375862|         1476812|\n",
      "|  Arab World|         ARB|Automated teller ...|   FB.ATM.TOTL.P5|             null|            null|            null|             null|            null|              null|            null|              null|            null|            null|             null|            null|            null|            null|8.34906569823801|12.2411700274872|10.8617010416006| 14.1030192596882| 13.613521926701|16.0975217707883|19.6124866078433|18.9306098517591| 20.291313968642|23.6549762140796| 24.8153277982363|  25.1772992867926|27.4409446323334|\n",
      "|  Arab World|         ARB|Borrowers from co...|   FB.CBK.BRWR.P3|             null|            null|            null|             null|            null|              null|            null|              null|            null|            null|             null|            null|            null|            null|            null|            null|            null|             null|127.533322173418|144.148190090679|154.868718721995|137.212351525084|106.840465148809|109.241159095002| 140.951545160515|   144.02872481672|            null|\n",
      "|  Arab World|         ARB|Consumer price in...|      FP.CPI.TOTL|             null|            null|            null|             null|            null|              null|            null|              null|            null|            null|             null|            null|            null|            null|            null|            null|            null|             null|            null|            null|            null|            null|            null|            null|             null|              null|            null|\n",
      "|  Arab World|         ARB|Contributing fami...|SL.FAM.WORK.FE.ZS|             null| 22.795072357787|23.7510012597312| 23.5550510697352| 23.035235192604|  26.0920714266417|25.3367697949954|  26.2607667967858|22.2926448724171|24.1476996827743|  26.379432670719|22.9963409124961|22.2580471706023| 24.137933935607|27.0613166124815| 26.438744412527|26.2941974706743| 26.1019744970713| 25.356543821808|24.1748881306043|23.2405478506766| 22.978886784369|21.2250399313505|22.5802228226309| 23.0971442360876|  23.0007495640619|19.0641250414773|\n",
      "|  Arab World|         ARB|Contributing fami...|SL.FAM.WORK.MA.ZS|             null|8.55588529132585|8.69788257088154| 8.65411632410769|8.05256736278391|  8.35061776023303|8.41717682198382|  8.58288586910816| 8.0757862213658|8.86225029114174| 9.45154688310979|8.72834858020814|8.40443236371488|8.63147623947598| 8.7785382193151|8.06453921067791|7.41216715787444| 7.25776778750481|6.95909672458021| 6.4010645745168|5.80795618375315|5.56440574863852| 5.2514535788763|5.08083871690218|  5.0051943353558|  4.86019074434085| 4.5390830570453|\n",
      "|  Arab World|         ARB|Contributing fami...|   SL.FAM.WORK.ZS|             null|11.1609712845284|11.4675973266772| 11.3909238107911|10.8178294648073|  11.6181980535672|11.5646575040016|  11.8598427242864|10.6807179149153|11.7543298345724| 12.6379750968875|11.4068184471525| 10.948319981532|11.4950543539707| 12.179280880758|11.4414231782984|10.9154630692853| 10.8533186467649|10.4529689483095|9.69052138762553|9.00148731091184|8.76193014725497|8.18748122769488|8.32864050737201| 8.34788395227933|  8.21876628087896|7.22179746891104|\n",
      "|  Arab World|         ARB|CPIA economic man...|   IQ.CPA.ECON.XQ|             null|            null|            null|             null|            null|              null|            null|              null|            null|            null|             null|            null|            null|            null|            null|               3|2.90666666666667|              2.9|            2.94|2.86666666666667|             2.9|2.83333333333333|2.93333333333333|2.96666666666667| 2.96666733333333|  2.89999866666667|2.83333266666667|\n",
      "|  Arab World|         ARB|CPIA financial se...|   IQ.CPA.FINS.XQ|             null|            null|            null|             null|            null|              null|            null|              null|            null|            null|             null|            null|            null|            null|            null|             2.7|             2.8|              2.7|             2.6|             2.6|             2.6|             2.8|             2.6|             2.6|              2.6|               2.5|             2.5|\n",
      "|  Arab World|         ARB|CPIA gender equal...|   IQ.CPA.GNDR.XQ|             null|            null|            null|             null|            null|              null|            null|              null|            null|            null|             null|            null|            null|            null|            null|             2.8|             2.8|              2.7|             2.7|             2.8|             2.9|             2.8|             2.8|             2.8|              2.8|               2.7|             2.7|\n",
      "|  Arab World|         ARB|CPIA macroeconomi...|   IQ.CPA.MACR.XQ|             null|            null|            null|             null|            null|              null|            null|              null|            null|            null|             null|            null|            null|            null|            null|             3.2|             3.2|              3.3|             3.3|             3.4|             3.4|             3.2|             3.2|             3.3|              3.4|               3.3|             3.1|\n",
      "|  Arab World|         ARB|CPIA policies for...|   IQ.CPA.SOCI.XQ|             null|            null|            null|             null|            null|              null|            null|              null|            null|            null|             null|            null|            null|            null|            null|            2.92|            2.92|             2.92|            2.88|            2.92|            2.92|             2.9|            2.92|            2.92|             2.96|               2.9|            2.88|\n",
      "|  Arab World|         ARB|CPIA property rig...|   IQ.CPA.PROP.XQ|             null|            null|            null|             null|            null|              null|            null|              null|            null|            null|             null|            null|            null|            null|            null|             2.5|             2.5|              2.5|             2.5|             2.5|             2.5|             2.5|             2.5|             2.5|              2.4|               2.5|             2.5|\n",
      "|  Arab World|         ARB|CPIA social prote...|   IQ.CPA.PROT.XQ|             null|            null|            null|             null|            null|              null|            null|              null|            null|            null|             null|            null|            null|            null|            null|             2.9|             3.1|              2.9|             2.9|             2.9|             2.9|               3|             2.9|             2.8|              2.9|               2.8|             2.8|\n",
      "+------------+------------+--------------------+-----------------+-----------------+----------------+----------------+-----------------+----------------+------------------+----------------+------------------+----------------+----------------+-----------------+----------------+----------------+----------------+----------------+----------------+----------------+-----------------+----------------+----------------+----------------+----------------+----------------+----------------+-----------------+------------------+----------------+\n",
      "only showing top 20 rows\n",
      "\n"
     ]
    }
   ],
   "source": [
    "spark.sql(\n",
    "    \"\"\"\n",
    "    SELECT * FROM literacia_jobs\n",
    "    \"\"\"\n",
    ").show()"
   ]
  },
  {
   "cell_type": "code",
   "execution_count": null,
   "id": "fdb9af0d-fc19-4943-a819-7aa9c4a94f68",
   "metadata": {},
   "outputs": [],
   "source": [
    "spark.stop()"
   ]
  }
 ],
 "metadata": {
  "kernelspec": {
   "display_name": "Python 3 (ipykernel)",
   "language": "python",
   "name": "python3"
  },
  "language_info": {
   "codemirror_mode": {
    "name": "ipython",
    "version": 3
   },
   "file_extension": ".py",
   "mimetype": "text/x-python",
   "name": "python",
   "nbconvert_exporter": "python",
   "pygments_lexer": "ipython3",
   "version": "3.11.5"
  }
 },
 "nbformat": 4,
 "nbformat_minor": 5
}

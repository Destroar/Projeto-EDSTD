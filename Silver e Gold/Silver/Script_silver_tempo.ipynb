{
 "cells": [
  {
   "cell_type": "code",
   "execution_count": 1,
   "id": "a3b24cf0-7cbc-497e-87f0-4e59b16d2a26",
   "metadata": {},
   "outputs": [],
   "source": [
    "from os import PathLike\n",
    "from hdfs import InsecureClient\n",
    "from pyspark.sql import SparkSession\n",
    "from pyspark.sql import Row\n",
    "from pyspark.sql.types import LongType, StringType, StructField, StructType, BooleanType, ArrayType, IntegerType, FloatType\n",
    "from pyspark.sql.functions import expr, array, col, explode, arrays_zip,concat,lit\n",
    "from delta import *\n",
    "\n",
    "# warehouse_location points to the default location for managed databases and tables\n",
    "warehouse_location = 'hdfs://hdfs-nn:9000/warehouse'\n",
    "\n",
    "builder = SparkSession \\\n",
    "    .builder \\\n",
    "    .master(\"local[2]\") \\\n",
    "    .appName(\"Python Spark DataFrames and SQL\") \\\n",
    "    .config(\"spark.sql.warehouse.dir\", warehouse_location) \\\n",
    "    .config(\"hive.metastore.uris\", \"thrift://hive-metastore:9083\") \\\n",
    "    .config(\"spark.sql.extensions\", \"io.delta.sql.DeltaSparkSessionExtension\") \\\n",
    "    .config(\"spark.sql.catalog.spark_catalog\", \"org.apache.spark.sql.delta.catalog.DeltaCatalog\") \\\n",
    "    .config(\"spark.jars.packages\", \"io.delta:delta-core_2.12:2.4.0\") \\\n",
    "    .enableHiveSupport() \\\n",
    "\n",
    "spark = configure_spark_with_delta_pip(builder).getOrCreate()"
   ]
  },
  {
   "cell_type": "code",
   "execution_count": 2,
   "id": "317778cb-73a0-476d-9e00-958e08cf4254",
   "metadata": {},
   "outputs": [
    {
     "name": "stdout",
     "output_type": "stream",
     "text": [
      "+--------------------+--------------------+--------------+------------+------------+----+--------+--------------+\n",
      "|      Indicator_name|    Indicator_name_2|Indicator_code|Country_name|Country_code|Year|   Value|Disaggregation|\n",
      "+--------------------+--------------------+--------------+------------+------------+----+--------+--------------+\n",
      "|Proportion of tim...| female (% of 24 ...|SG.TIM.UWRK.FE|     Albania|         ALB|2011|21.73611|        female|\n",
      "|Proportion of tim...| female (% of 24 ...|SG.TIM.UWRK.FE|     Algeria|         DZA|2012|21.66667|        female|\n",
      "|Proportion of tim...| female (% of 24 ...|SG.TIM.UWRK.FE|   Argentina|         ARG|2013|23.41864|        female|\n",
      "|Proportion of tim...| female (% of 24 ...|SG.TIM.UWRK.FE|   Argentina|         ARG|2010|    17.5|        female|\n",
      "|Proportion of tim...| female (% of 24 ...|SG.TIM.UWRK.FE|   Argentina|         ARG|2005|16.73611|        female|\n",
      "|Proportion of tim...| female (% of 24 ...|SG.TIM.UWRK.FE|     Armenia|         ARM|2008|21.65833|        female|\n",
      "|Proportion of tim...| female (% of 24 ...|SG.TIM.UWRK.FE|     Armenia|         ARM|2004|24.02778|        female|\n",
      "|Proportion of tim...| female (% of 24 ...|SG.TIM.UWRK.FE|   Australia|         AUS|2006|20.83333|        female|\n",
      "|Proportion of tim...| female (% of 24 ...|SG.TIM.UWRK.FE|     Austria|         AUT|2009|19.06954|        female|\n",
      "|Proportion of tim...| female (% of 24 ...|SG.TIM.UWRK.FE|  Azerbaijan|         AZE|2008|25.41667|        female|\n",
      "|Proportion of tim...| female (% of 24 ...|SG.TIM.UWRK.FE|     Belarus|         BLR|2015|19.16667|        female|\n",
      "|Proportion of tim...| female (% of 24 ...|SG.TIM.UWRK.FE|     Belgium|         BEL|2013|15.90278|        female|\n",
      "|Proportion of tim...| female (% of 24 ...|SG.TIM.UWRK.FE|     Belgium|         BEL|2005|      15|        female|\n",
      "|Proportion of tim...| female (% of 24 ...|SG.TIM.UWRK.FE|     Belgium|         BEL|2000|16.04167|        female|\n",
      "|Proportion of tim...| female (% of 24 ...|SG.TIM.UWRK.FE|      Bhutan|         BTN|2015|      15|        female|\n",
      "|Proportion of tim...| female (% of 24 ...|SG.TIM.UWRK.FE|      Bhutan|         BTN|2007|13.26389|        female|\n",
      "|Proportion of tim...| female (% of 24 ...|SG.TIM.UWRK.FE|     Bolivia|         BOL|2001|23.11926|        female|\n",
      "|Proportion of tim...| female (% of 24 ...|SG.TIM.UWRK.FE|      Brazil|         BRA|2017|11.60814|        female|\n",
      "|Proportion of tim...| female (% of 24 ...|SG.TIM.UWRK.FE|      Brazil|         BRA|2012|13.18363|        female|\n",
      "|Proportion of tim...| female (% of 24 ...|SG.TIM.UWRK.FE|      Brazil|         BRA|2009|17.63889|        female|\n",
      "+--------------------+--------------------+--------------+------------+------------+----+--------+--------------+\n",
      "only showing top 20 rows\n",
      "\n"
     ]
    }
   ],
   "source": [
    "path = \"hdfs://hdfs-nn:9000/Projeto/bronze/Proportion_Of_Time.csv\"\n",
    "\n",
    "# Create the StructType schema\n",
    "Custom_schema = StructType([\n",
    "    StructField(\"Indicator_name\", StringType(), True),\n",
    "    StructField(\"Indicator_name_2\", StringType(), True),\n",
    "    StructField(\"Indicator_code\", StringType(), True),\n",
    "    StructField(\"Country_name\", StringType(), True),\n",
    "    StructField(\"Country_code\", StringType(), True),\n",
    "    StructField(\"Year\", IntegerType(), True),\n",
    "    StructField(\"Value\", StringType(), True),\n",
    "    StructField(\"Disaggregation\", StringType(), True)\n",
    "])\n",
    "\n",
    "time = spark \\\n",
    "    .read \\\n",
    "    .option(\"delimiter\",\",\") \\\n",
    "    .option(\"header\",\"true\") \\\n",
    "    .schema(Custom_schema) \\\n",
    "    .csv(path)\n",
    "\n",
    "time.show()"
   ]
  },
  {
   "cell_type": "code",
   "execution_count": 3,
   "id": "0249d54b-afd1-4f56-8e3b-9fd6c02a98bb",
   "metadata": {},
   "outputs": [
    {
     "name": "stdout",
     "output_type": "stream",
     "text": [
      "+--------------------+--------------------+--------------+------------+------------+----+--------+--------------+\n",
      "|      Indicator_name|    Indicator_name_2|Indicator_code|Country_name|Country_code|Year|   Value|Disaggregation|\n",
      "+--------------------+--------------------+--------------+------------+------------+----+--------+--------------+\n",
      "|Proportion of tim...| female (% of 24 ...|SG.TIM.UWRK.FE|     Albania|         ALB|2011|21.73611|        female|\n",
      "|Proportion of tim...| female (% of 24 ...|SG.TIM.UWRK.FE|     Algeria|         DZA|2012|21.66667|        female|\n",
      "|Proportion of tim...| female (% of 24 ...|SG.TIM.UWRK.FE|   Argentina|         ARG|2013|23.41864|        female|\n",
      "|Proportion of tim...| female (% of 24 ...|SG.TIM.UWRK.FE|   Argentina|         ARG|2010|    17.5|        female|\n",
      "|Proportion of tim...| female (% of 24 ...|SG.TIM.UWRK.FE|   Argentina|         ARG|2005|16.73611|        female|\n",
      "|Proportion of tim...| female (% of 24 ...|SG.TIM.UWRK.FE|     Armenia|         ARM|2008|21.65833|        female|\n",
      "|Proportion of tim...| female (% of 24 ...|SG.TIM.UWRK.FE|     Armenia|         ARM|2004|24.02778|        female|\n",
      "|Proportion of tim...| female (% of 24 ...|SG.TIM.UWRK.FE|   Australia|         AUS|2006|20.83333|        female|\n",
      "|Proportion of tim...| female (% of 24 ...|SG.TIM.UWRK.FE|     Austria|         AUT|2009|19.06954|        female|\n",
      "|Proportion of tim...| female (% of 24 ...|SG.TIM.UWRK.FE|  Azerbaijan|         AZE|2008|25.41667|        female|\n",
      "|Proportion of tim...| female (% of 24 ...|SG.TIM.UWRK.FE|     Belarus|         BLR|2015|19.16667|        female|\n",
      "|Proportion of tim...| female (% of 24 ...|SG.TIM.UWRK.FE|     Belgium|         BEL|2013|15.90278|        female|\n",
      "|Proportion of tim...| female (% of 24 ...|SG.TIM.UWRK.FE|     Belgium|         BEL|2005|      15|        female|\n",
      "|Proportion of tim...| female (% of 24 ...|SG.TIM.UWRK.FE|     Belgium|         BEL|2000|16.04167|        female|\n",
      "|Proportion of tim...| female (% of 24 ...|SG.TIM.UWRK.FE|      Bhutan|         BTN|2015|      15|        female|\n",
      "|Proportion of tim...| female (% of 24 ...|SG.TIM.UWRK.FE|      Bhutan|         BTN|2007|13.26389|        female|\n",
      "|Proportion of tim...| female (% of 24 ...|SG.TIM.UWRK.FE|     Bolivia|         BOL|2001|23.11926|        female|\n",
      "|Proportion of tim...| female (% of 24 ...|SG.TIM.UWRK.FE|      Brazil|         BRA|2017|11.60814|        female|\n",
      "|Proportion of tim...| female (% of 24 ...|SG.TIM.UWRK.FE|      Brazil|         BRA|2012|13.18363|        female|\n",
      "|Proportion of tim...| female (% of 24 ...|SG.TIM.UWRK.FE|      Brazil|         BRA|2009|17.63889|        female|\n",
      "+--------------------+--------------------+--------------+------------+------------+----+--------+--------------+\n",
      "only showing top 20 rows\n",
      "\n"
     ]
    }
   ],
   "source": [
    "indicatores_to_exclude = [\n",
    "    \"EGY\", \"HKG\", \"IRN\", \"KOR\"\n",
    "]\n",
    "\n",
    "countries_to_exclude = [\n",
    "    \"West Bank and Gaza\"\n",
    "]\n",
    "\n",
    "filtered_time = time.filter(\n",
    "    (~col(\"Indicator_code\").isin(indicatores_to_exclude)) &\n",
    "    (~col(\"Country_name\").isin(countries_to_exclude))\n",
    ")\n",
    "# Mostrar o DataFrame resultante\n",
    "filtered_time.show()"
   ]
  },
  {
   "cell_type": "code",
   "execution_count": 4,
   "id": "3473d46d-9db8-494a-b890-dc3baa96a92d",
   "metadata": {},
   "outputs": [
    {
     "name": "stdout",
     "output_type": "stream",
     "text": [
      "+---------+---------+-----------+\n",
      "|namespace|tableName|isTemporary|\n",
      "+---------+---------+-----------+\n",
      "| database|     time|      false|\n",
      "+---------+---------+-----------+\n",
      "\n"
     ]
    }
   ],
   "source": [
    "spark.sql(\n",
    "    \"\"\"\n",
    "    SHOW TABLES FROM database\n",
    "    \"\"\"\n",
    ").show()"
   ]
  },
  {
   "cell_type": "code",
   "execution_count": 5,
   "id": "087f618d-3851-48a4-8c9b-0d4f8a4ba4fa",
   "metadata": {},
   "outputs": [],
   "source": [
    "filtered_time = filtered_time.select(concat(col(\"Indicator_name\"), lit(\" \"), col(\"Indicator_name_2\")).alias(\"Indicator_name\"),\"Indicator_code\", \"Country_name\", \"Country_code\", \"Year\", \"value\", \"Disaggregation\")\n",
    "filtered_time = filtered_time.withColumnRenamed(\"Indicator_name\", \"nome_indicador\")\n",
    "filtered_time = filtered_time.withColumnRenamed(\"Indicator_code\", \"cod_indicador\")\n",
    "filtered_time = filtered_time.withColumnRenamed(\"Country_name\", \"nome_pais\")\n",
    "filtered_time = filtered_time.withColumnRenamed(\"Country_code\", \"cod_pais\")\n",
    "filtered_time = filtered_time.withColumnRenamed(\"Year\", \"ano\")\n",
    "filtered_time = filtered_time.withColumnRenamed(\"Value\", \"valor\")\n",
    "filtered_time = filtered_time.withColumnRenamed(\"Disaggregation\", \"desagregacao\")\n",
    "filtered_time = filtered_time.withColumn(\"valor\", col(\"valor\").cast(\"float\"))"
   ]
  },
  {
   "cell_type": "code",
   "execution_count": 6,
   "id": "7e412a97-8f6b-4660-a7c0-2275e58694b4",
   "metadata": {},
   "outputs": [],
   "source": [
    "# Caminho para a tabela externa no Delta Lake\n",
    "tabela_time_path = \"hdfs://hdfs-nn:9000/Projeto/silver/TabelaTime\"\n",
    "\n",
    "# Escrever o DataFrame filtered_time como uma tabela Delta no local desejado\n",
    "filtered_time.write.mode(\"overwrite\").option(\"mergeSchema\", \"true\").format(\"delta\").save(tabela_time_path)"
   ]
  },
  {
   "cell_type": "code",
   "execution_count": 7,
   "id": "c96b7d0f-d519-44a3-b48f-3d51a265415e",
   "metadata": {},
   "outputs": [
    {
     "name": "stdout",
     "output_type": "stream",
     "text": [
      "+--------------------+--------------+----------+--------+----+--------+------------+\n",
      "|      nome_indicador| cod_indicador| nome_pais|cod_pais| ano|   valor|desagregacao|\n",
      "+--------------------+--------------+----------+--------+----+--------+------------+\n",
      "|Proportion of tim...|SG.TIM.UWRK.FE|   Albania|     ALB|2011|21.73611|      female|\n",
      "|Proportion of tim...|SG.TIM.UWRK.FE|   Algeria|     DZA|2012|21.66667|      female|\n",
      "|Proportion of tim...|SG.TIM.UWRK.FE| Argentina|     ARG|2013|23.41864|      female|\n",
      "|Proportion of tim...|SG.TIM.UWRK.FE| Argentina|     ARG|2010|    17.5|      female|\n",
      "|Proportion of tim...|SG.TIM.UWRK.FE| Argentina|     ARG|2005|16.73611|      female|\n",
      "|Proportion of tim...|SG.TIM.UWRK.FE|   Armenia|     ARM|2008|21.65833|      female|\n",
      "|Proportion of tim...|SG.TIM.UWRK.FE|   Armenia|     ARM|2004|24.02778|      female|\n",
      "|Proportion of tim...|SG.TIM.UWRK.FE| Australia|     AUS|2006|20.83333|      female|\n",
      "|Proportion of tim...|SG.TIM.UWRK.FE|   Austria|     AUT|2009|19.06954|      female|\n",
      "|Proportion of tim...|SG.TIM.UWRK.FE|Azerbaijan|     AZE|2008|25.41667|      female|\n",
      "|Proportion of tim...|SG.TIM.UWRK.FE|   Belarus|     BLR|2015|19.16667|      female|\n",
      "|Proportion of tim...|SG.TIM.UWRK.FE|   Belgium|     BEL|2013|15.90278|      female|\n",
      "|Proportion of tim...|SG.TIM.UWRK.FE|   Belgium|     BEL|2005|    15.0|      female|\n",
      "|Proportion of tim...|SG.TIM.UWRK.FE|   Belgium|     BEL|2000|16.04167|      female|\n",
      "|Proportion of tim...|SG.TIM.UWRK.FE|    Bhutan|     BTN|2015|    15.0|      female|\n",
      "|Proportion of tim...|SG.TIM.UWRK.FE|    Bhutan|     BTN|2007|13.26389|      female|\n",
      "|Proportion of tim...|SG.TIM.UWRK.FE|   Bolivia|     BOL|2001|23.11926|      female|\n",
      "|Proportion of tim...|SG.TIM.UWRK.FE|    Brazil|     BRA|2017|11.60814|      female|\n",
      "|Proportion of tim...|SG.TIM.UWRK.FE|    Brazil|     BRA|2012|13.18363|      female|\n",
      "|Proportion of tim...|SG.TIM.UWRK.FE|    Brazil|     BRA|2009|17.63889|      female|\n",
      "+--------------------+--------------+----------+--------+----+--------+------------+\n",
      "only showing top 20 rows\n",
      "\n"
     ]
    }
   ],
   "source": [
    "spark.sql(\n",
    "    \"\"\"\n",
    "    SELECT * FROM database.time\n",
    "    \"\"\"\n",
    ").show()"
   ]
  },
  {
   "cell_type": "code",
   "execution_count": 8,
   "id": "12227bf4-ff55-4e06-8eea-3eb195da5ce6",
   "metadata": {},
   "outputs": [],
   "source": [
    "spark.stop()"
   ]
  }
 ],
 "metadata": {
  "kernelspec": {
   "display_name": "Python 3 (ipykernel)",
   "language": "python",
   "name": "python3"
  },
  "language_info": {
   "codemirror_mode": {
    "name": "ipython",
    "version": 3
   },
   "file_extension": ".py",
   "mimetype": "text/x-python",
   "name": "python",
   "nbconvert_exporter": "python",
   "pygments_lexer": "ipython3",
   "version": "3.11.5"
  }
 },
 "nbformat": 4,
 "nbformat_minor": 5
}

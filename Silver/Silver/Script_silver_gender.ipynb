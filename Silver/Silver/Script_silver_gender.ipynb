{
 "cells": [
  {
   "cell_type": "code",
   "execution_count": 1,
   "id": "a42de231-0e87-4339-b6c0-8cc67b629472",
   "metadata": {},
   "outputs": [],
   "source": [
    "from os import PathLike\n",
    "from hdfs import InsecureClient\n",
    "from pyspark.sql import SparkSession\n",
    "from pyspark.sql import Row\n",
    "from pyspark.sql.types import LongType, StringType, StructField, StructType, BooleanType, ArrayType, IntegerType, FloatType\n",
    "from pyspark.sql.functions import expr, array, col, explode, arrays_zip\n",
    "from delta import *\n",
    "\n",
    "# warehouse_location points to the default location for managed databases and tables\n",
    "warehouse_location = 'hdfs://hdfs-nn:9000/warehouse'\n",
    "\n",
    "builder = SparkSession \\\n",
    "    .builder \\\n",
    "    .master(\"local[2]\") \\\n",
    "    .appName(\"Python Spark DataFrames and SQL\") \\\n",
    "    .config(\"spark.sql.warehouse.dir\", warehouse_location) \\\n",
    "    .config(\"hive.metastore.uris\", \"thrift://hive-metastore:9083\") \\\n",
    "    .config(\"spark.sql.extensions\", \"io.delta.sql.DeltaSparkSessionExtension\") \\\n",
    "    .config(\"spark.sql.catalog.spark_catalog\", \"org.apache.spark.sql.delta.catalog.DeltaCatalog\") \\\n",
    "    .config(\"spark.jars.packages\", \"io.delta:delta-core_2.12:2.4.0\") \\\n",
    "    .enableHiveSupport() \\\n",
    "\n",
    "spark = configure_spark_with_delta_pip(builder).getOrCreate()"
   ]
  },
  {
   "cell_type": "code",
   "execution_count": 2,
   "id": "a12db2c4-4494-4755-99b4-2605e98c9dc6",
   "metadata": {},
   "outputs": [],
   "source": [
    "path = \"hdfs://hdfs-nn:9000/Projeto/bronze/Gender_Stats.csv\"\n",
    "\n",
    "years = [str(year) for year in range(1960, 2023)]\n",
    "\n",
    "# Create the StructType schema\n",
    "Custom_schema = StructType([\n",
    "    StructField(\"Country_name\", StringType(), True),\n",
    "    StructField(\"Country_code\", StringType(), True),\n",
    "    StructField(\"Indicator_name\", StringType(), True),\n",
    "    StructField(\"Indicator_code\", StringType(), True)\n",
    "] + [StructField(year, StringType(), True) for year in years])\n",
    "\n",
    "\n",
    "gender = spark \\\n",
    "    .read \\\n",
    "    .option(\"delimiter\",\",\") \\\n",
    "    .option(\"header\",\"true\") \\\n",
    "    .schema(Custom_schema) \\\n",
    "    .csv(path)"
   ]
  },
  {
   "cell_type": "code",
   "execution_count": 3,
   "id": "36b3857a-f267-4c21-ba6f-f952c2923756",
   "metadata": {},
   "outputs": [],
   "source": [
    "for i in range(1960,1990):\n",
    "    gender = gender.drop(str(i))"
   ]
  },
  {
   "cell_type": "code",
   "execution_count": 4,
   "id": "4ec66e50-eb2b-47eb-8394-f61c6f8c4266",
   "metadata": {},
   "outputs": [],
   "source": [
    "melt_colunas = ['1990', '1991', '1992', '1993', '1994', '1995', '1996', '1997', '1998', '1999', '2000', '2001', '2002', '2003', '2004', '2005', '2006', '2007', '2008', '2009', '2010', '2011', '2012', '2013', '2014', '2015', '2016', '2017', '2018', '2019', '2020', '2021', '2022']\n",
    "\n",
    "\n",
    "for col_name in melt_colunas:\n",
    "    gender = gender.withColumnRenamed(col_name, f\"year_{col_name}\")\n",
    "\n",
    "# Unpivot the DataFrame\n",
    "unpivot_gender = gender.selectExpr(\n",
    "    \"Country_name\",\n",
    "    \"Country_code\",\n",
    "    \"Indicator_name\",\n",
    "    \"Indicator_code\",\n",
    "    \"stack(33, '1990', year_1990, '1991', year_1991, '1992', year_1992, '1993', year_1993, '1994', year_1994, '1995', year_1995, '1996', year_1996, '1997', year_1997, '1998', year_1998, '1999', year_1999, '2000', year_2000, '2001', year_2001, '2002', year_2002, '2003', year_2003, '2004', year_2004, '2005', year_2005, '2006', year_2006, '2007', year_2007, '2008', year_2008, '2009', year_2009, '2010', year_2010, '2011', year_2011, '2012', year_2012, '2013', year_2013, '2014', year_2014, '2015', year_2015, '2016', year_2016, '2017', year_2017, '2018', year_2018, '2019', year_2019, '2020', year_2020, '2021', year_2021, '2022', year_2022) as (Ano, Valor)\"\n",
    ")"
   ]
  },
  {
   "cell_type": "code",
   "execution_count": 6,
   "id": "4dcc1366-3bb1-4f60-8df5-31281898462f",
   "metadata": {},
   "outputs": [],
   "source": [
    "remover = [\"ARB\", \"AFE\", \"AFW\", \"EMU\", \"LIC\", \"MEA\", \"LDC\", \"MNA\",\n",
    "    \"TMN\", \"ECA\", \"TEA\", \"IDA\", \"MIC\", \"LAC\", \"SSA\", \"IBD\", \"SSF\", \"HIC\",\n",
    "    \"LTE\", \"OSS\", \"LCN\", \"EAP\", \"NAC\", \"IBD\", \"SAS\", \"EUU\", \"FCS\", \"TSS\",\n",
    "    \"LMC\", \"UMC\", \"IDX\", \"SST\", \"PRE\", \"HPC\", \"CEB\", \"PST\", \"OED\", \"WLD\",\n",
    "    \"EAS\", \"ECS\", \"IBT\", \"EAR\", \"LMY\", \"PSE\", \"ARE\"\n",
    "]\n",
    "\n",
    "pais_gender = unpivot_gender.filter(\n",
    "    (~col(\"Country_code\").isin(remover))\n",
    ")"
   ]
  },
  {
   "cell_type": "code",
   "execution_count": 7,
   "id": "2588e8a1-c103-4540-a3e5-b1b00d2528f6",
   "metadata": {},
   "outputs": [],
   "source": [
    "pais_gender = pais_gender \\\n",
    "    .withColumnRenamed(\"Country_name\", \"nome_pais\") \\\n",
    "    .withColumnRenamed(\"Country_code\", \"cod_pais\") \\\n",
    "    .withColumnRenamed(\"Indicator_name\", \"nome_indicador\") \\\n",
    "    .withColumnRenamed(\"Indicator_code\", \"cod_indicador\") \\\n",
    "    .withColumn(\"valor\", col(\"Valor\").cast(FloatType())) \\\n",
    "    .withColumn(\"ano\", col(\"Ano\").cast(IntegerType()))\n"
   ]
  },
  {
   "cell_type": "code",
   "execution_count": null,
   "id": "087a51d8-254d-4601-a721-8d15b982c08c",
   "metadata": {
    "scrolled": true
   },
   "outputs": [],
   "source": [
    "pais_gender \\\n",
    "    .write \\\n",
    "    .format(\"delta\") \\\n",
    "    .mode(\"overwrite\") \\\n",
    "    .save(\"hdfs://hdfs-nn:9000/Projeto/silver/TabelaGender/\")"
   ]
  },
  {
   "cell_type": "code",
   "execution_count": null,
   "id": "fdb9af0d-fc19-4943-a819-7aa9c4a94f68",
   "metadata": {},
   "outputs": [],
   "source": [
    "spark.stop()"
   ]
  }
 ],
 "metadata": {
  "kernelspec": {
   "display_name": "Python 3 (ipykernel)",
   "language": "python",
   "name": "python3"
  },
  "language_info": {
   "codemirror_mode": {
    "name": "ipython",
    "version": 3
   },
   "file_extension": ".py",
   "mimetype": "text/x-python",
   "name": "python",
   "nbconvert_exporter": "python",
   "pygments_lexer": "ipython3",
   "version": "3.11.5"
  }
 },
 "nbformat": 4,
 "nbformat_minor": 5
}

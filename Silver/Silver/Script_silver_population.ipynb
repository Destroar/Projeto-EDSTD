{
 "cells": [
  {
   "cell_type": "code",
   "execution_count": 1,
   "id": "e45ef746-5fd1-4342-b36e-62ed7b3e9834",
   "metadata": {},
   "outputs": [],
   "source": [
    "from os import PathLike\n",
    "from pyspark.sql import SparkSession\n",
    "from pyspark.sql import Row\n",
    "from pyspark.sql.types import LongType, StringType, StructField, StructType, BooleanType, ArrayType, IntegerType, FloatType\n",
    "from pyspark.sql.functions import expr, array, col, explode, arrays_zip\n",
    "from delta import *\n",
    "\n",
    "# warehouse_location points to the default location for managed databases and tables\n",
    "warehouse_location = 'hdfs://hdfs-nn:9000/warehouse'\n",
    "\n",
    "builder = SparkSession \\\n",
    "    .builder \\\n",
    "    .master(\"local[2]\") \\\n",
    "    .appName(\"Python Spark DataFrames and SQL\") \\\n",
    "    .config(\"spark.sql.warehouse.dir\", warehouse_location) \\\n",
    "    .config(\"hive.metastore.uris\", \"thrift://hive-metastore:9083\") \\\n",
    "    .config(\"spark.sql.extensions\", \"io.delta.sql.DeltaSparkSessionExtension\") \\\n",
    "    .config(\"spark.sql.catalog.spark_catalog\", \"org.apache.spark.sql.delta.catalog.DeltaCatalog\") \\\n",
    "    .config(\"spark.jars.packages\", \"io.delta:delta-core_2.12:2.4.0\") \\\n",
    "    .enableHiveSupport() \\\n",
    "\n",
    "spark = configure_spark_with_delta_pip(builder).getOrCreate()"
   ]
  },
  {
   "cell_type": "code",
   "execution_count": 2,
   "id": "368b5c16-2440-497f-b876-63576379f47f",
   "metadata": {},
   "outputs": [
    {
     "name": "stdout",
     "output_type": "stream",
     "text": [
      "root\n",
      " |-- Country_name: string (nullable = true)\n",
      " |-- Country_code: string (nullable = true)\n",
      " |-- Indicator_name: string (nullable = true)\n",
      " |-- Indicator_code: string (nullable = true)\n",
      " |-- 1960: string (nullable = true)\n",
      " |-- 1961: string (nullable = true)\n",
      " |-- 1962: string (nullable = true)\n",
      " |-- 1963: string (nullable = true)\n",
      " |-- 1964: string (nullable = true)\n",
      " |-- 1965: string (nullable = true)\n",
      " |-- 1966: string (nullable = true)\n",
      " |-- 1967: string (nullable = true)\n",
      " |-- 1968: string (nullable = true)\n",
      " |-- 1969: string (nullable = true)\n",
      " |-- 1970: string (nullable = true)\n",
      " |-- 1971: string (nullable = true)\n",
      " |-- 1972: string (nullable = true)\n",
      " |-- 1973: string (nullable = true)\n",
      " |-- 1974: string (nullable = true)\n",
      " |-- 1975: string (nullable = true)\n",
      " |-- 1976: string (nullable = true)\n",
      " |-- 1977: string (nullable = true)\n",
      " |-- 1978: string (nullable = true)\n",
      " |-- 1979: string (nullable = true)\n",
      " |-- 1980: string (nullable = true)\n",
      " |-- 1981: string (nullable = true)\n",
      " |-- 1982: string (nullable = true)\n",
      " |-- 1983: string (nullable = true)\n",
      " |-- 1984: string (nullable = true)\n",
      " |-- 1985: string (nullable = true)\n",
      " |-- 1986: string (nullable = true)\n",
      " |-- 1987: string (nullable = true)\n",
      " |-- 1988: string (nullable = true)\n",
      " |-- 1989: string (nullable = true)\n",
      " |-- 1990: string (nullable = true)\n",
      " |-- 1991: string (nullable = true)\n",
      " |-- 1992: string (nullable = true)\n",
      " |-- 1993: string (nullable = true)\n",
      " |-- 1994: string (nullable = true)\n",
      " |-- 1995: string (nullable = true)\n",
      " |-- 1996: string (nullable = true)\n",
      " |-- 1997: string (nullable = true)\n",
      " |-- 1998: string (nullable = true)\n",
      " |-- 1999: string (nullable = true)\n",
      " |-- 2000: string (nullable = true)\n",
      " |-- 2001: string (nullable = true)\n",
      " |-- 2002: string (nullable = true)\n",
      " |-- 2003: string (nullable = true)\n",
      " |-- 2004: string (nullable = true)\n",
      " |-- 2005: string (nullable = true)\n",
      " |-- 2006: string (nullable = true)\n",
      " |-- 2007: string (nullable = true)\n",
      " |-- 2008: string (nullable = true)\n",
      " |-- 2009: string (nullable = true)\n",
      " |-- 2010: string (nullable = true)\n",
      " |-- 2011: string (nullable = true)\n",
      " |-- 2012: string (nullable = true)\n",
      " |-- 2013: string (nullable = true)\n",
      " |-- 2014: string (nullable = true)\n",
      " |-- 2015: string (nullable = true)\n",
      " |-- 2016: string (nullable = true)\n",
      " |-- 2017: string (nullable = true)\n",
      " |-- 2018: string (nullable = true)\n",
      " |-- 2019: string (nullable = true)\n",
      " |-- 2020: string (nullable = true)\n",
      " |-- 2021: string (nullable = true)\n",
      " |-- 2022: string (nullable = true)\n",
      "\n"
     ]
    }
   ],
   "source": [
    "path = \"hdfs://hdfs-nn:9000/Projeto/bronze/Global_Population.csv\"\n",
    "\n",
    "years = [str(year) for year in range(1960, 2023)]\n",
    "\n",
    "# Create the StructType schema\n",
    "Custom_schema = StructType([\n",
    "    StructField(\"Country_name\", StringType(), True),\n",
    "    StructField(\"Country_code\", StringType(), True),\n",
    "    StructField(\"Indicator_name\", StringType(), True),\n",
    "    StructField(\"Indicator_code\", StringType(), True)\n",
    "] + [StructField(year, StringType(), True) for year in years])\n",
    "\n",
    "\n",
    "popu = spark \\\n",
    "    .read \\\n",
    "    .option(\"header\",\"true\") \\\n",
    "    .option(\"delimiter\", \";\") \\\n",
    "    .schema(Custom_schema) \\\n",
    "    .csv(path)\n",
    "\n",
    "popu.printSchema()"
   ]
  },
  {
   "cell_type": "code",
   "execution_count": 3,
   "id": "85bbde5c-6608-4b93-96eb-3a9aa169152d",
   "metadata": {},
   "outputs": [],
   "source": [
    "for i in range(1960,1990):\n",
    "    popu = popu.drop(str(i))"
   ]
  },
  {
   "cell_type": "code",
   "execution_count": 4,
   "id": "b79fca65-212f-4cb9-9e4f-623f8e5a6d59",
   "metadata": {},
   "outputs": [],
   "source": [
    "melt_colunas = ['1990', '1991', '1992', '1993', '1994', '1995', '1996', '1997', '1998', '1999', '2000', '2001', '2002', '2003', '2004', '2005', '2006', '2007', '2008', '2009', '2010', '2011', '2012', '2013', '2014', '2015', '2016', '2017', '2018', '2019', '2020', '2021', '2022']\n",
    "\n",
    "\n",
    "for col_name in melt_colunas:\n",
    "    popu = popu.withColumnRenamed(col_name, f\"year_{col_name}\")\n",
    "\n",
    "# Unpivot the DataFrame\n",
    "popu = popu.selectExpr(\n",
    "    \"Country_name\",\n",
    "    \"Country_code\",\n",
    "    \"Indicator_name\",\n",
    "    \"Indicator_code\",\n",
    "    \"stack(33, '1990', year_1990, '1991', year_1991, '1992', year_1992, '1993', year_1993, '1994', year_1994, '1995', year_1995, '1996', year_1996, '1997', year_1997, '1998', year_1998, '1999', year_1999, '2000', year_2000, '2001', year_2001, '2002', year_2002, '2003', year_2003, '2004', year_2004, '2005', year_2005, '2006', year_2006, '2007', year_2007, '2008', year_2008, '2009', year_2009, '2010', year_2010, '2011', year_2011, '2012', year_2012, '2013', year_2013, '2014', year_2014, '2015', year_2015, '2016', year_2016, '2017', year_2017, '2018', year_2018, '2019', year_2019, '2020', year_2020, '2021', year_2021, '2022', year_2022) as (Ano, Valor)\"\n",
    ")"
   ]
  },
  {
   "cell_type": "code",
   "execution_count": 5,
   "id": "3b4f0c96-424d-44da-8fc6-978bac0a0c5e",
   "metadata": {},
   "outputs": [],
   "source": [
    "remover = [\"EMU\", \"LIC\", \"MEA\", \"LDC\", \"MNA\", \"TLA\", \"ECA\", \"IDA\", \"MIC\", \"TEA\",\n",
    "        \"ARB\", \"LAC\", \"SSA\", \"PSS\", \"IBD\", \"HIC\", \"TMN\", \"LTE\", \"OSS\", \"LCN\", \n",
    "        \"ADW\", \"EAP\", \"NAC\", \"IDB\", \"DCS\", \"INX\", \"TSA\", \"LMC\", \"UMC\", \"SST\", \n",
    "        \"PRE\", \"HPC\", \"CEB\", \"PST\", \"OED\", \"CAF\", \"TEC\", \"EAS\", \"IBT\", \"EAC\", \"LMY\" ,\"ECS\"\n",
    "]\n",
    "\n",
    "popu = popu.filter(\n",
    "    (~col(\"Country_code\").isin(remover))\n",
    ")"
   ]
  },
  {
   "cell_type": "code",
   "execution_count": 6,
   "id": "8a398d36-cfe5-4e1c-a23f-e256b5389fd8",
   "metadata": {},
   "outputs": [],
   "source": [
    "popu = popu \\\n",
    "    .withColumnRenamed(\"nome_pais\", \"Country_name\") \\\n",
    "    .withColumnRenamed(\"cod_pais\", \"Country_code\") \\\n",
    "    .withColumnRenamed(\"nome_indicador\", \"Indicator_name\") \\\n",
    "    .withColumnRenamed(\"cod_indicador\", \"Indicator_code\") \\\n",
    "    .withColumn(\"valor\", col(\"Valor\").cast(FloatType())) \\\n",
    "    .withColumn(\"ano\", col(\"Ano\").cast(FloatType()))\n"
   ]
  },
  {
   "cell_type": "code",
   "execution_count": null,
   "id": "73b5345a-421f-45b8-bd13-b1f1ff6d7c2e",
   "metadata": {},
   "outputs": [],
   "source": [
    "popu \\\n",
    "    .write \\\n",
    "    .format(\"delta\") \\\n",
    "    .mode(\"overwrite\") \\\n",
    "    .option(\"mergeSchema\", \"true\") \\\n",
    "    .save(\"hdfs://hdfs-nn:9000/Projeto/silver/population/\")"
   ]
  },
  {
   "cell_type": "code",
   "execution_count": null,
   "id": "72d75198-04d2-400e-93ef-077e3d590077",
   "metadata": {},
   "outputs": [],
   "source": [
    "spark.stop()"
   ]
  },
  {
   "cell_type": "code",
   "execution_count": null,
   "id": "0551c6bd-d073-4066-8010-f9f74be205cc",
   "metadata": {},
   "outputs": [],
   "source": []
  }
 ],
 "metadata": {
  "kernelspec": {
   "display_name": "Python 3 (ipykernel)",
   "language": "python",
   "name": "python3"
  },
  "language_info": {
   "codemirror_mode": {
    "name": "ipython",
    "version": 3
   },
   "file_extension": ".py",
   "mimetype": "text/x-python",
   "name": "python",
   "nbconvert_exporter": "python",
   "pygments_lexer": "ipython3",
   "version": "3.11.5"
  }
 },
 "nbformat": 4,
 "nbformat_minor": 5
}

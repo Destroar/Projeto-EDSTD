{
 "cells": [
  {
   "cell_type": "code",
   "execution_count": 1,
   "id": "627f54da-7454-4943-b0ff-67ad406a6644",
   "metadata": {},
   "outputs": [],
   "source": [
    "from pyspark.sql import SparkSession\n",
    "from pyspark.sql import Row\n",
    "from delta import *\n",
    "from pyspark.sql.types import LongType, StringType, StructField, StructType, BooleanType, ArrayType, IntegerType, FloatType\n",
    "from pyspark.sql.functions import expr, array, col, explode, arrays_zip\n",
    "\n",
    "# warehouse_location points to the default location for managed databases and tables\n",
    "warehouse = 'hdfs://hdfs-nn:9000/warehouse'\n",
    "\n",
    "builder = SparkSession \\\n",
    "    .builder \\\n",
    "    .appName(\"Python Spark SQL Hive integration example\") \\\n",
    "    .config(\"spark.sql.warehouse.dir\", warehouse) \\\n",
    "    .config(\"hive.metastore.uris\", \"thrift://hive-metastore:9083\") \\\n",
    "    .config(\"spark.sql.extensions\", \"io.delta.sql.DeltaSparkSessionExtension\") \\\n",
    "    .config(\"spark.sql.catalog.spark_catalog\", \"org.apache.spark.sql.delta.catalog.DeltaCatalog\") \\\n",
    "    .config(\"spark.jars.packages\", \"io.delta:delta-core_2.12:2.4.0\") \\\n",
    "    .enableHiveSupport() \\\n",
    "\n",
    "spark = spark = configure_spark_with_delta_pip(builder).getOrCreate()"
   ]
  },
  {
   "cell_type": "code",
   "execution_count": 2,
   "id": "d0c8822d-9eb3-44dd-88ae-66edb8ba3ec4",
   "metadata": {},
   "outputs": [],
   "source": [
    "# Carregar tabelas\n",
    "own_account = spark.table(\"database2.jobs\")\n",
    "borrowed_money = spark.table(\"database2.gender\")\n",
    "\n",
    "# Filtrar dados nas tabelas\n",
    "own_account = own_account.filter(col(\"indicador_name\").like(\"%Own-account%\"))\n",
    "own_account = own_account.filter(col(\"pais_name\").like(\"%United States%\"))\n",
    "own_account = own_account.filter(col(\"ano\").like(\"2014\"))\n",
    "\n",
    "borrowed_money = borrowed_money.filter(col(\"nome_pais\").like(\"%United States%\"))\n",
    "borrowed_money = borrowed_money.filter(col(\"nome_indicador\").like(\"%Owns a credit card%\"))\n",
    "borrowed_money = borrowed_money.filter(col(\"ano\").like(\"2014\"))"
   ]
  },
  {
   "cell_type": "code",
   "execution_count": 3,
   "id": "5f9f75ff-fca1-41d8-beee-34e04749a7b0",
   "metadata": {},
   "outputs": [
    {
     "name": "stdout",
     "output_type": "stream",
     "text": [
      "+----+-------------+--------------------+-----+\n",
      "| ano|    nome_pais|      nome_indicador|valor|\n",
      "+----+-------------+--------------------+-----+\n",
      "|2014|United States|Owns a credit car...|60.13|\n",
      "|2014|United States|Owns a credit car...|61.55|\n",
      "|2014|United States|Owns a credit car...|58.71|\n",
      "+----+-------------+--------------------+-----+\n",
      "\n",
      "+----+--------------------+-----+\n",
      "| ano|      indicador_name|valor|\n",
      "+----+--------------------+-----+\n",
      "|2014|Own-account worke...| 5.21|\n",
      "|2014|Own-account worke...|6.988|\n",
      "|2014|Own-account worke...| 6.17|\n",
      "+----+--------------------+-----+\n",
      "\n"
     ]
    }
   ],
   "source": [
    "# Selecionar apenas as colunas desejadas\n",
    "own_account = own_account.select(\"ano\", \"indicador_name\", \"valor\")\n",
    "borrowed_money = borrowed_money.select(\"ano\", \"nome_pais\", \"nome_indicador\", \"valor\")\n",
    "borrowed_money.show(10)\n",
    "own_account.show(10)"
   ]
  },
  {
   "cell_type": "code",
   "execution_count": 4,
   "id": "78be7aa9-403e-4ea6-951e-769748c1f90f",
   "metadata": {},
   "outputs": [],
   "source": [
    "# Renomear colunas nas tabelas originais\n",
    "own_account = own_account.withColumnRenamed(\"ano\", \"ano_own_account\").withColumnRenamed(\"valor\", \"valor_own_account\")\n",
    "borrowed_money = borrowed_money.withColumnRenamed(\"ano\", \"ano_CreditCard\").withColumnRenamed(\"valor\", \"valor_CreditCard\")\n"
   ]
  },
  {
   "cell_type": "code",
   "execution_count": 5,
   "id": "39e9fc42-f37d-490c-a0c9-f9cf1af6534b",
   "metadata": {},
   "outputs": [],
   "source": [
    "# Realizar a junção\n",
    "joined_data = own_account.join(borrowed_money, own_account[\"ano_own_account\"] == borrowed_money[\"ano_CreditCard\"], \"inner\")\n"
   ]
  },
  {
   "cell_type": "code",
   "execution_count": 6,
   "id": "8bcbf2dd-87fa-48e9-8e83-89abd27703ce",
   "metadata": {},
   "outputs": [],
   "source": [
    "spark.conf.set(\"spark.databricks.delta.schema.autoMerge.enabled\", \"true\")\n",
    "\n",
    "joined_data.write \\\n",
    "    .format(\"delta\") \\\n",
    "    .mode(\"overwrite\") \\\n",
    "    .option(\"mergeSchema\", \"true\") \\\n",
    "    .save(\"hdfs://hdfs-nn:9000/Projeto/gold/TabelaCreditCard\")"
   ]
  },
  {
   "cell_type": "code",
   "execution_count": 7,
   "id": "ae4de8d2-38be-47e5-99e6-ed95358526b3",
   "metadata": {},
   "outputs": [
    {
     "name": "stdout",
     "output_type": "stream",
     "text": [
      "+---------------+--------------------+-----------------+--------------+-------------+--------------------+----------------+\n",
      "|ano_own_account|      indicador_name|valor_own_account|ano_CreditCard|    nome_pais|      nome_indicador|valor_CreditCard|\n",
      "+---------------+--------------------+-----------------+--------------+-------------+--------------------+----------------+\n",
      "|           2014|Own-account worke...|             6.17|          2014|United States|Owns a credit car...|           60.13|\n",
      "|           2014|Own-account worke...|            6.988|          2014|United States|Owns a credit car...|           60.13|\n",
      "|           2014|Own-account worke...|             5.21|          2014|United States|Owns a credit car...|           60.13|\n",
      "|           2014|Own-account worke...|             6.17|          2014|United States|Owns a credit car...|           61.55|\n",
      "|           2014|Own-account worke...|            6.988|          2014|United States|Owns a credit car...|           61.55|\n",
      "|           2014|Own-account worke...|             5.21|          2014|United States|Owns a credit car...|           61.55|\n",
      "|           2014|Own-account worke...|             6.17|          2014|United States|Owns a credit car...|           58.71|\n",
      "|           2014|Own-account worke...|            6.988|          2014|United States|Owns a credit car...|           58.71|\n",
      "|           2014|Own-account worke...|             5.21|          2014|United States|Owns a credit car...|           58.71|\n",
      "+---------------+--------------------+-----------------+--------------+-------------+--------------------+----------------+\n",
      "\n"
     ]
    }
   ],
   "source": [
    "# Exibir os resultados\n",
    "joined_data.show()"
   ]
  },
  {
   "cell_type": "code",
   "execution_count": 8,
   "id": "ec04da5d-7005-4631-9646-711ee5c058e8",
   "metadata": {},
   "outputs": [],
   "source": [
    "spark.stop()"
   ]
  }
 ],
 "metadata": {
  "kernelspec": {
   "display_name": "Python 3 (ipykernel)",
   "language": "python",
   "name": "python3"
  },
  "language_info": {
   "codemirror_mode": {
    "name": "ipython",
    "version": 3
   },
   "file_extension": ".py",
   "mimetype": "text/x-python",
   "name": "python",
   "nbconvert_exporter": "python",
   "pygments_lexer": "ipython3",
   "version": "3.11.5"
  }
 },
 "nbformat": 4,
 "nbformat_minor": 5
}

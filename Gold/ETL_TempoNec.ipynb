{
 "cells": [
  {
   "cell_type": "code",
   "execution_count": 1,
   "id": "0942461e-92e4-47b3-872b-c02613d9d5f9",
   "metadata": {},
   "outputs": [],
   "source": [
    "from pyspark.sql import SparkSession\n",
    "from pyspark.sql import Row\n",
    "from delta import *\n",
    "from pyspark.sql.types import LongType, StringType, StructField, StructType, BooleanType, ArrayType, IntegerType, FloatType\n",
    "from pyspark.sql.functions import expr, array, col, explode, arrays_zip\n",
    "\n",
    "# warehouse_location points to the default location for managed databases and tables\n",
    "warehouse = 'hdfs://hdfs-nn:9000/warehouse'\n",
    "\n",
    "builder = SparkSession \\\n",
    "    .builder \\\n",
    "    .appName(\"Python Spark SQL Hive integration example\") \\\n",
    "    .config(\"spark.sql.warehouse.dir\", warehouse) \\\n",
    "    .config(\"hive.metastore.uris\", \"thrift://hive-metastore:9083\") \\\n",
    "    .config(\"spark.sql.extensions\", \"io.delta.sql.DeltaSparkSessionExtension\") \\\n",
    "    .config(\"spark.sql.catalog.spark_catalog\", \"org.apache.spark.sql.delta.catalog.DeltaCatalog\") \\\n",
    "    .config(\"spark.jars.packages\", \"io.delta:delta-core_2.12:2.4.0\") \\\n",
    "    .enableHiveSupport() \\\n",
    "\n",
    "spark = spark = configure_spark_with_delta_pip(builder).getOrCreate()"
   ]
  },
  {
   "cell_type": "code",
   "execution_count": 2,
   "id": "f6b1042a-67e5-4357-99b6-e9628ea03b2b",
   "metadata": {
    "scrolled": true
   },
   "outputs": [
    {
     "name": "stdout",
     "output_type": "stream",
     "text": [
      "+--------------------+--------+--------------------+--------------+----+---------+\n",
      "|           pais_name|pais_cod|      indicador_name|indicador_code| ano|    valor|\n",
      "+--------------------+--------+--------------------+--------------+----+---------+\n",
      "|East Asia & Pacif...|     EAP|Access to electri...|EG.ELC.ACCS.ZS|1990| 82.59917|\n",
      "|East Asia & Pacif...|     EAP|Access to electri...|EG.ELC.ACCS.ZS|1991|81.601685|\n",
      "|East Asia & Pacif...|     EAP|Access to electri...|EG.ELC.ACCS.ZS|1992| 83.88937|\n",
      "|East Asia & Pacif...|     EAP|Access to electri...|EG.ELC.ACCS.ZS|1993| 83.24599|\n",
      "|East Asia & Pacif...|     EAP|Access to electri...|EG.ELC.ACCS.ZS|1994|  84.5359|\n",
      "|East Asia & Pacif...|     EAP|Access to electri...|EG.ELC.ACCS.ZS|1995| 85.45995|\n",
      "|East Asia & Pacif...|     EAP|Access to electri...|EG.ELC.ACCS.ZS|1996| 86.57579|\n",
      "|East Asia & Pacif...|     EAP|Access to electri...|EG.ELC.ACCS.ZS|1997| 87.74911|\n",
      "|East Asia & Pacif...|     EAP|Access to electri...|EG.ELC.ACCS.ZS|1998| 88.50378|\n",
      "|East Asia & Pacif...|     EAP|Access to electri...|EG.ELC.ACCS.ZS|1999| 89.18372|\n",
      "|East Asia & Pacif...|     EAP|Access to electri...|EG.ELC.ACCS.ZS|2000| 89.72648|\n",
      "|East Asia & Pacif...|     EAP|Access to electri...|EG.ELC.ACCS.ZS|2001|90.288956|\n",
      "|East Asia & Pacif...|     EAP|Access to electri...|EG.ELC.ACCS.ZS|2002| 90.87793|\n",
      "|East Asia & Pacif...|     EAP|Access to electri...|EG.ELC.ACCS.ZS|2003| 91.20872|\n",
      "|East Asia & Pacif...|     EAP|Access to electri...|EG.ELC.ACCS.ZS|2004| 91.73333|\n",
      "|East Asia & Pacif...|     EAP|Access to electri...|EG.ELC.ACCS.ZS|2005| 91.94867|\n",
      "|East Asia & Pacif...|     EAP|Access to electri...|EG.ELC.ACCS.ZS|2006| 93.03064|\n",
      "|East Asia & Pacif...|     EAP|Access to electri...|EG.ELC.ACCS.ZS|2007| 93.18555|\n",
      "|East Asia & Pacif...|     EAP|Access to electri...|EG.ELC.ACCS.ZS|2008| 93.85271|\n",
      "|East Asia & Pacif...|     EAP|Access to electri...|EG.ELC.ACCS.ZS|2009|94.431625|\n",
      "|East Asia & Pacif...|     EAP|Access to electri...|EG.ELC.ACCS.ZS|2010| 94.99733|\n",
      "|East Asia & Pacif...|     EAP|Access to electri...|EG.ELC.ACCS.ZS|2011| 95.35699|\n",
      "|East Asia & Pacif...|     EAP|Access to electri...|EG.ELC.ACCS.ZS|2012| 95.81166|\n",
      "|East Asia & Pacif...|     EAP|Access to electri...|EG.ELC.ACCS.ZS|2013| 96.05724|\n",
      "|East Asia & Pacif...|     EAP|Access to electri...|EG.ELC.ACCS.ZS|2014|  96.2182|\n",
      "|East Asia & Pacif...|     EAP|Access to electri...|EG.ELC.ACCS.ZS|2015| 96.53324|\n",
      "|East Asia & Pacif...|     EAP|Access to electri...|EG.ELC.ACCS.ZS|2016|96.580734|\n",
      "|East Asia & Pacif...|     EAP|Adolescent fertil...|   SP.ADO.TFRT|1990|29.050547|\n",
      "|East Asia & Pacif...|     EAP|Adolescent fertil...|   SP.ADO.TFRT|1991| 28.19459|\n",
      "|East Asia & Pacif...|     EAP|Adolescent fertil...|   SP.ADO.TFRT|1992|27.397375|\n",
      "|East Asia & Pacif...|     EAP|Adolescent fertil...|   SP.ADO.TFRT|1993|26.468033|\n",
      "|East Asia & Pacif...|     EAP|Adolescent fertil...|   SP.ADO.TFRT|1994|25.498314|\n",
      "|East Asia & Pacif...|     EAP|Adolescent fertil...|   SP.ADO.TFRT|1995| 24.43756|\n",
      "|East Asia & Pacif...|     EAP|Adolescent fertil...|   SP.ADO.TFRT|1996|  23.1844|\n",
      "|East Asia & Pacif...|     EAP|Adolescent fertil...|   SP.ADO.TFRT|1997|21.863928|\n",
      "|East Asia & Pacif...|     EAP|Adolescent fertil...|   SP.ADO.TFRT|1998|21.787806|\n",
      "|East Asia & Pacif...|     EAP|Adolescent fertil...|   SP.ADO.TFRT|1999|21.585655|\n",
      "|East Asia & Pacif...|     EAP|Adolescent fertil...|   SP.ADO.TFRT|2000|21.246237|\n",
      "|East Asia & Pacif...|     EAP|Adolescent fertil...|   SP.ADO.TFRT|2001|20.768332|\n",
      "|East Asia & Pacif...|     EAP|Adolescent fertil...|   SP.ADO.TFRT|2002|20.166084|\n",
      "|East Asia & Pacif...|     EAP|Adolescent fertil...|   SP.ADO.TFRT|2003|19.519625|\n",
      "|East Asia & Pacif...|     EAP|Adolescent fertil...|   SP.ADO.TFRT|2004|19.051071|\n",
      "|East Asia & Pacif...|     EAP|Adolescent fertil...|   SP.ADO.TFRT|2005|18.824842|\n",
      "|East Asia & Pacif...|     EAP|Adolescent fertil...|   SP.ADO.TFRT|2006|18.765036|\n",
      "|East Asia & Pacif...|     EAP|Adolescent fertil...|   SP.ADO.TFRT|2007|18.948198|\n",
      "|East Asia & Pacif...|     EAP|Adolescent fertil...|   SP.ADO.TFRT|2008|19.585756|\n",
      "|East Asia & Pacif...|     EAP|Adolescent fertil...|   SP.ADO.TFRT|2009|20.314709|\n",
      "|East Asia & Pacif...|     EAP|Adolescent fertil...|   SP.ADO.TFRT|2010|21.004345|\n",
      "|East Asia & Pacif...|     EAP|Adolescent fertil...|   SP.ADO.TFRT|2011|21.645487|\n",
      "|East Asia & Pacif...|     EAP|Adolescent fertil...|   SP.ADO.TFRT|2012|22.208004|\n",
      "+--------------------+--------+--------------------+--------------+----+---------+\n",
      "only showing top 50 rows\n",
      "\n"
     ]
    }
   ],
   "source": [
    "spark.sql(\n",
    "    \"\"\"\n",
    "    SELECT * FROM database2.jobs\n",
    "    \"\"\"\n",
    ").show(50)"
   ]
  },
  {
   "cell_type": "code",
   "execution_count": 3,
   "id": "13ca9a21-bb10-44df-aa18-f7481a2e5413",
   "metadata": {},
   "outputs": [
    {
     "name": "stdout",
     "output_type": "stream",
     "text": [
      "+---------+--------------------+----+------+\n",
      "|pais_name|      indicador_name| ano| valor|\n",
      "+---------+--------------------+----+------+\n",
      "| Portugal|Own-account worke...|2010|16.272|\n",
      "| Portugal|Own-account worke...|2010|17.693|\n",
      "| Portugal|Own-account worke...|2010|17.016|\n",
      "| Portugal|Time required to ...|2010|   5.5|\n",
      "+---------+--------------------+----+------+\n",
      "\n"
     ]
    }
   ],
   "source": [
    "tempo_nec = spark.table(\"database2.jobs\")\n",
    "tempo_nec = tempo_nec.filter((col(\"indicador_name\").like(\"%Time required to start a business%\")) | (col(\"indicador_name\").like(\"%Own-account%\")))\n",
    "tempo_nec = tempo_nec.filter(col(\"pais_name\").like(\"%Portugal%\"))\n",
    "tempo_nec = tempo_nec.filter(col(\"ano\").like(\"2010\"))\n",
    "tempo_nec = tempo_nec.drop(col(\"pais_cod\"), col(\"indicador_code\"))\n",
    "tempo_nec.show()"
   ]
  },
  {
   "cell_type": "code",
   "execution_count": 4,
   "id": "31243068-c516-4eb2-b48a-defc7ec2da1d",
   "metadata": {},
   "outputs": [],
   "source": [
    "tempo_nec \\\n",
    "    .write \\\n",
    "    .format(\"delta\") \\\n",
    "    .mode(\"overwrite\") \\\n",
    "    .option(\"mergeSchema\", \"true\") \\\n",
    "    .save(\"hdfs://hdfs-nn:9000/Projeto/gold/TabelaTempNec/\")"
   ]
  },
  {
   "cell_type": "code",
   "execution_count": 5,
   "id": "f823536f-b0f0-4154-b3da-a7033b15dd37",
   "metadata": {},
   "outputs": [
    {
     "name": "stdout",
     "output_type": "stream",
     "text": [
      "+---------+--------------------+----+------+\n",
      "|pais_name|      indicador_name| ano| valor|\n",
      "+---------+--------------------+----+------+\n",
      "| Portugal|Own-account worke...|2010|16.272|\n",
      "| Portugal|Own-account worke...|2010|17.693|\n",
      "| Portugal|Own-account worke...|2010|17.016|\n",
      "| Portugal|Time required to ...|2010|   5.5|\n",
      "+---------+--------------------+----+------+\n",
      "\n"
     ]
    }
   ],
   "source": [
    "spark.sql(\n",
    "    \"\"\"\n",
    "    SELECT * FROM database2.TempoNec\n",
    "    \"\"\"\n",
    ").show()"
   ]
  },
  {
   "cell_type": "code",
   "execution_count": 6,
   "id": "16d005a2-f5c3-481e-895b-f11d26ab66b5",
   "metadata": {},
   "outputs": [],
   "source": [
    "spark.stop()"
   ]
  }
 ],
 "metadata": {
  "kernelspec": {
   "display_name": "Python 3 (ipykernel)",
   "language": "python",
   "name": "python3"
  },
  "language_info": {
   "codemirror_mode": {
    "name": "ipython",
    "version": 3
   },
   "file_extension": ".py",
   "mimetype": "text/x-python",
   "name": "python",
   "nbconvert_exporter": "python",
   "pygments_lexer": "ipython3",
   "version": "3.11.5"
  }
 },
 "nbformat": 4,
 "nbformat_minor": 5
}

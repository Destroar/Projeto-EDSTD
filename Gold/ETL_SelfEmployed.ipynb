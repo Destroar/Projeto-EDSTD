{
 "cells": [
  {
   "cell_type": "code",
   "execution_count": 1,
   "id": "ccfb015e-35ed-4560-bce0-780467cf0b33",
   "metadata": {},
   "outputs": [],
   "source": [
    "from pyspark.sql import SparkSession\n",
    "from pyspark.sql import Row\n",
    "from delta import *\n",
    "from pyspark.sql.types import LongType, StringType, StructField, StructType, BooleanType, ArrayType, IntegerType, FloatType\n",
    "from pyspark.sql.functions import expr, array, col, explode, arrays_zip, when  # Importe a função 'when'\n",
    "\n",
    "# warehouse_location points to the default location for managed databases and tables\n",
    "warehouse = 'hdfs://hdfs-nn:9000/warehouse'\n",
    "\n",
    "builder = SparkSession \\\n",
    "    .builder \\\n",
    "    .appName(\"Python Spark SQL Hive integration example\") \\\n",
    "    .config(\"spark.sql.warehouse.dir\", warehouse) \\\n",
    "    .config(\"hive.metastore.uris\", \"thrift://hive-metastore:9083\") \\\n",
    "    .config(\"spark.sql.extensions\", \"io.delta.sql.DeltaSparkSessionExtension\") \\\n",
    "    .config(\"spark.sql.catalog.spark_catalog\", \"org.apache.spark.sql.delta.catalog.DeltaCatalog\") \\\n",
    "    .config(\"spark.jars.packages\", \"io.delta:delta-core_2.12:2.4.0\") \\\n",
    "    .enableHiveSupport()\n",
    "\n",
    "spark = configure_spark_with_delta_pip(builder).getOrCreate()\n"
   ]
  },
  {
   "cell_type": "code",
   "execution_count": null,
   "id": "933da542-5bc4-459c-8bb2-7bf870d03535",
   "metadata": {},
   "outputs": [],
   "source": [
    "# Lista de países desejados\n",
    "desired_countries_self_employed = [\"Liechtenstein\", \"Germany\", \"Denmark\", \"Switzerland\", \"Poland\", \"Czech\", \"Slovakia\", \"Slovenia\", \"Hungary\", \"Austria\"]\n",
    "\n",
    "# Filtrar dados para o indicador e país específicos nos anos de 2010 a 2015\n",
    "self_employed = spark.table(\"database2.jobs\")\n",
    "self_employed = self_employed.filter((col(\"indicador_name\").like(\"%Self-employed%\")) | (col(\"indicador_name\").like(\"%Own-account%\")))\n",
    "self_employed = self_employed.filter(col(\"pais_name\").isin(desired_countries_self_employed))\n",
    "self_employed = self_employed.filter(col(\"ano\").between(\"2010\", \"2015\"))  # Modificação para incluir anos de 2010 a 2015\n",
    "self_employed = self_employed.drop(col(\"pais_cod\"), col(\"indicador_code\"))\n",
    "self_employed = self_employed.withColumn(\"genero\",\n",
    "    when(col(\"indicador_name\").like(\"% female%\"), \"F\")\n",
    "    .when(col(\"indicador_name\").like(\"% male%\"), \"M\")\n",
    ")\n",
    "\n",
    "self_employed = self_employed.filter(col(\"genero\").isNotNull())\n",
    "self_employed.show()"
   ]
  },
  {
   "cell_type": "code",
   "execution_count": null,
   "id": "1b110f8e-9862-4ed0-8b27-a7cdb0fe037b",
   "metadata": {},
   "outputs": [],
   "source": [
    "self_employed \\\n",
    "    .write \\\n",
    "    .format(\"delta\") \\\n",
    "    .mode(\"overwrite\") \\\n",
    "    .option(\"mergeSchema\", \"true\") \\\n",
    "    .save(\"hdfs://hdfs-nn:9000/Projeto/gold/TabelaSelfEmployed/\")"
   ]
  },
  {
   "cell_type": "code",
   "execution_count": null,
   "id": "06bca6c6-557f-4f98-9423-d802792e9fd7",
   "metadata": {},
   "outputs": [],
   "source": [
    "spark.sql(\n",
    "    \"\"\"\n",
    "    SELECT * FROM database2.SelfEmployed\n",
    "    \"\"\"\n",
    ").show()"
   ]
  },
  {
   "cell_type": "code",
   "execution_count": null,
   "id": "2f235f6f-723d-48f0-a5e3-cec1b92d0826",
   "metadata": {},
   "outputs": [],
   "source": [
    "spark.stop()"
   ]
  }
 ],
 "metadata": {
  "kernelspec": {
   "display_name": "Python 3 (ipykernel)",
   "language": "python",
   "name": "python3"
  },
  "language_info": {
   "codemirror_mode": {
    "name": "ipython",
    "version": 3
   },
   "file_extension": ".py",
   "mimetype": "text/x-python",
   "name": "python",
   "nbconvert_exporter": "python",
   "pygments_lexer": "ipython3",
   "version": "3.11.5"
  }
 },
 "nbformat": 4,
 "nbformat_minor": 5
}

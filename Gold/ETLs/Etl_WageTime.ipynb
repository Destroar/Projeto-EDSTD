{
 "cells": [
  {
   "cell_type": "code",
   "execution_count": 1,
   "id": "320d265b-cbe9-4df3-810e-53e906e115ef",
   "metadata": {},
   "outputs": [],
   "source": [
    "from pyspark.sql import SparkSession\n",
    "from pyspark.sql import Row\n",
    "from delta import *\n",
    "from pyspark.sql.types import LongType, StringType, StructField, StructType, BooleanType, ArrayType, IntegerType, FloatType\n",
    "from pyspark.sql.functions import expr, array, col, explode, arrays_zip, when, first, avg\n",
    "from pyspark.sql.window import Window\n",
    "from pyspark.sql import functions as F\n",
    "from functools import reduce\n",
    "from pyspark.sql import DataFrame\n",
    "\n",
    "# warehouse_location points to the default location for managed databases and tables\n",
    "warehouse = 'hdfs://hdfs-nn:9000/warehouse'\n",
    "\n",
    "builder = SparkSession \\\n",
    "    .builder \\\n",
    "    .appName(\"Python Spark SQL Hive integration example\") \\\n",
    "    .config(\"spark.sql.warehouse.dir\", warehouse) \\\n",
    "    .config(\"hive.metastore.uris\", \"thrift://hive-metastore:9083\") \\\n",
    "    .config(\"spark.sql.extensions\", \"io.delta.sql.DeltaSparkSessionExtension\") \\\n",
    "    .config(\"spark.sql.catalog.spark_catalog\", \"org.apache.spark.sql.delta.catalog.DeltaCatalog\") \\\n",
    "    .config(\"spark.jars.packages\", \"io.delta:delta-core_2.12:2.4.0\") \\\n",
    "    .enableHiveSupport() \\\n",
    "\n",
    "spark = spark = configure_spark_with_delta_pip(builder).getOrCreate()"
   ]
  },
  {
   "cell_type": "code",
   "execution_count": 2,
   "id": "50288e26-9752-4af1-81e1-ff6b83f4b0e0",
   "metadata": {},
   "outputs": [],
   "source": [
    "# Carregar tabelas\n",
    "time_df = spark.table(\"database.time\")\n",
    "wage_df = spark.table(\"database.wage\")\n",
    "\n",
    "# Lista de países e anos\n",
    "paises = [\"%Germany%\", \"%Switzerland%\", \"%Poland%\", \"%Hungary%\"]\n",
    "anos = [\"2010\", \"2013\"]\n",
    "\n",
    "# Filtrando os DataFrames\n",
    "\n",
    "def filter_by_multiple_conditions(df: DataFrame, paises: list, anos: list) -> DataFrame:\n",
    "    conditions = reduce(lambda a, b: a | b, (col(\"nome_pais\").like(p) for p in paises))\n",
    "    df = df.filter(conditions)\n",
    "    df = df.filter(col(\"ano\").isin(anos))\n",
    "    return df\n",
    "\n",
    "time_df = filter_by_multiple_conditions(time_df, paises, anos)\n",
    "wage_df = filter_by_multiple_conditions(wage_df, paises, anos)\n",
    "\n",
    "time_df = time_df.drop(\"cod_indicador\", \"cod_pais\")\n",
    "\n",
    "wage_df = wage_df.drop(\"cod_indicador\", \"cod_pais\")\n",
    "\n",
    "wage_df = wage_df.withColumnRenamed('Disaggregation', 'desagregacao')\n",
    "\n",
    "wage_df = wage_df.filter((col('desagregacao') == 'female') | (col('desagregacao') == 'male'))\n",
    "\n",
    "# Filtrar pelos indicadores de emprego\n",
    "wage_df = wage_df.filter(F.col(\"nome_indicador\").like(\"%Wage and salaried workers%\"))\n",
    "\n",
    "wage_df = wage_df.filter(F.col(\"desagregacao\").isNotNull())\n",
    "\n",
    "# Calcular a média dos valores por ano, gênero e indicador\n",
    "wage_df_media = wage_df.groupBy(\"nome_pais\", \"ano\", \"desagregacao\", \"nome_indicador\") \\\n",
    "    .agg(F.avg(\"valor\").alias(\"valor\"))\n",
    "\n",
    "# Selecionar apenas uma linha por ano e gênero\n",
    "window = Window.partitionBy(\"nome_pais\", \"ano\", \"desagregacao\").orderBy(F.col(\"valor\"))\n",
    "\n",
    "wage_df_final = wage_df_media.withColumn(\"row_number\", F.row_number().over(window)) \\\n",
    "    .filter(F.col(\"row_number\") == 1).drop(\"row_number\")\n",
    "\n",
    "# Definindo a ordem das colunas em \n",
    "columns_order = [\"nome_indicador\", \"nome_pais\", \"ano\", \"valor\", \"desagregacao\"]\n",
    "\n",
    "# Reorganizando as colunas no DataFrame \n",
    "wage_df_final = wage_df_final.select(columns_order)"
   ]
  },
  {
   "cell_type": "code",
   "execution_count": 3,
   "id": "b071c544-12d0-4b4f-ba82-9fef25f063e5",
   "metadata": {},
   "outputs": [],
   "source": [
    "time_df = time_df.withColumn(\"valor\", col(\"valor\").cast(\"float\"))\n",
    "wage_df_final = wage_df_final.withColumn(\"valor\", col(\"valor\").cast(\"float\"))"
   ]
  },
  {
   "cell_type": "code",
   "execution_count": 4,
   "id": "4119e301-fa6c-41d5-b8fb-7adea43ecd19",
   "metadata": {},
   "outputs": [],
   "source": [
    "df_concatenado = wage_df_final.union(time_df)\n",
    "df_concatenado = df_concatenado.withColumn(\"ano\", col(\"ano\").cast(\"int\"))"
   ]
  },
  {
   "cell_type": "code",
   "execution_count": 5,
   "id": "9dabd583-114e-49b4-aa7a-0dc5fd766860",
   "metadata": {},
   "outputs": [],
   "source": [
    "spark.conf.set(\"spark.databricks.delta.schema.autoMerge.enabled\", \"true\")\n",
    "\n",
    "df_concatenado.write \\\n",
    "    .format(\"delta\") \\\n",
    "    .mode(\"overwrite\") \\\n",
    "    .option(\"mergeSchema\", \"true\") \\\n",
    "    .save(\"hdfs://hdfs-nn:9000/Projeto/gold/TabelaWageTimeGold\")"
   ]
  },
  {
   "cell_type": "code",
   "execution_count": 6,
   "id": "2101b557-5462-4026-9c68-b7678d1e8543",
   "metadata": {},
   "outputs": [
    {
     "name": "stdout",
     "output_type": "stream",
     "text": [
      "+-----------+--------------------+----+--------+------------+\n",
      "|  nome_pais|      nome_indicador| ano|   valor|desagregacao|\n",
      "+-----------+--------------------+----+--------+------------+\n",
      "|    Germany|Wage and salaried...|2010|91.57062|      female|\n",
      "|    Germany|Wage and salaried...|2010|85.74215|        male|\n",
      "|    Germany|Wage and salaried...|2013|91.88864|      female|\n",
      "|    Germany|Wage and salaried...|2013|86.12325|        male|\n",
      "|    Hungary|Wage and salaried...|2010|91.06637|      female|\n",
      "|    Hungary|Wage and salaried...|2010|84.73759|        male|\n",
      "|    Hungary|Wage and salaried...|2013|91.76857|      female|\n",
      "|    Hungary|Wage and salaried...|2013|86.13021|        male|\n",
      "|     Poland|Wage and salaried...|2010|79.91518|      female|\n",
      "|     Poland|Wage and salaried...|2010|74.68536|        male|\n",
      "|     Poland|Wage and salaried...|2013|81.56346|      female|\n",
      "|     Poland|Wage and salaried...|2013|75.45581|        male|\n",
      "|Switzerland|Wage and salaried...|2010|86.87634|      female|\n",
      "|Switzerland|Wage and salaried...|2010| 82.0934|        male|\n",
      "|Switzerland|Wage and salaried...|2013|87.01913|      female|\n",
      "|Switzerland|Wage and salaried...|2013|82.66449|        male|\n",
      "|    Germany|Proportion of tim...|2013|    16.4|      female|\n",
      "|    Hungary|Proportion of tim...|2010|17.27674|      female|\n",
      "|     Poland|Proportion of tim...|2013| 18.2625|      female|\n",
      "|Switzerland|Proportion of tim...|2013| 16.5375|      female|\n",
      "|Switzerland|Proportion of tim...|2010|16.74167|      female|\n",
      "|    Germany|Proportion of tim...|2013|    10.4|        male|\n",
      "|    Hungary|Proportion of tim...|2010|  7.9796|        male|\n",
      "|     Poland|Proportion of tim...|2013| 9.92917|        male|\n",
      "|Switzerland|Proportion of tim...|2013| 10.3875|        male|\n",
      "|Switzerland|Proportion of tim...|2010|   9.775|        male|\n",
      "+-----------+--------------------+----+--------+------------+\n",
      "\n"
     ]
    }
   ],
   "source": [
    "spark.sql(\n",
    "    \"\"\"\n",
    "    SELECT * FROM database.WageTimeGold\n",
    "    \"\"\"\n",
    ").show(500)"
   ]
  },
  {
   "cell_type": "code",
   "execution_count": 7,
   "id": "7f4a1837-574d-474f-ac69-97b07bcc318c",
   "metadata": {},
   "outputs": [],
   "source": [
    "spark.stop()"
   ]
  }
 ],
 "metadata": {
  "kernelspec": {
   "display_name": "Python 3 (ipykernel)",
   "language": "python",
   "name": "python3"
  },
  "language_info": {
   "codemirror_mode": {
    "name": "ipython",
    "version": 3
   },
   "file_extension": ".py",
   "mimetype": "text/x-python",
   "name": "python",
   "nbconvert_exporter": "python",
   "pygments_lexer": "ipython3",
   "version": "3.11.5"
  }
 },
 "nbformat": 4,
 "nbformat_minor": 5
}

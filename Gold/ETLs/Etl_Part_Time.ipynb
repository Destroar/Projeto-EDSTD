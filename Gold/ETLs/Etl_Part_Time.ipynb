{
 "cells": [
  {
   "cell_type": "code",
   "execution_count": 1,
   "id": "68ef6f25-b841-4163-8a42-e48a42ef9b30",
   "metadata": {},
   "outputs": [],
   "source": [
    "from pyspark.sql import SparkSession\n",
    "from pyspark.sql import Row\n",
    "from delta import *\n",
    "from pyspark.sql.types import LongType, StringType, StructField, StructType, BooleanType, ArrayType, IntegerType, FloatType\n",
    "from pyspark.sql.functions import expr, array, col, explode, arrays_zip, when, first, avg\n",
    "from pyspark.sql.window import Window\n",
    "from pyspark.sql import functions as F\n",
    "from functools import reduce\n",
    "from pyspark.sql import DataFrame\n",
    "\n",
    "# warehouse_location points to the default location for managed databases and tables\n",
    "warehouse = 'hdfs://hdfs-nn:9000/warehouse'\n",
    "\n",
    "builder = SparkSession \\\n",
    "    .builder \\\n",
    "    .appName(\"Python Spark SQL Hive integration example\") \\\n",
    "    .config(\"spark.sql.warehouse.dir\", warehouse) \\\n",
    "    .config(\"hive.metastore.uris\", \"thrift://hive-metastore:9083\") \\\n",
    "    .config(\"spark.sql.extensions\", \"io.delta.sql.DeltaSparkSessionExtension\") \\\n",
    "    .config(\"spark.sql.catalog.spark_catalog\", \"org.apache.spark.sql.delta.catalog.DeltaCatalog\") \\\n",
    "    .config(\"spark.jars.packages\", \"io.delta:delta-core_2.12:2.4.0\") \\\n",
    "    .enableHiveSupport() \\\n",
    "\n",
    "spark = spark = configure_spark_with_delta_pip(builder).getOrCreate()"
   ]
  },
  {
   "cell_type": "code",
   "execution_count": 2,
   "id": "011cedb3-2826-4a5b-9b2c-4585fe70363f",
   "metadata": {},
   "outputs": [],
   "source": [
    "# Carregar tabelas\n",
    "time_df = spark.table(\"database.time\")\n",
    "part_time_df = spark.table(\"database.gender\")\n",
    "\n",
    "# Lista de países e anos\n",
    "paises = [\"%Germany%\", \"%Switzerland%\", \"%Poland%\", \"%Hungary%\"]\n",
    "anos = [\"2010\", \"2013\"]\n",
    "\n",
    "# Filtrando os DataFrames\n",
    "\n",
    "def filter_by_multiple_conditions(df: DataFrame, paises: list, anos: list) -> DataFrame:\n",
    "    conditions = reduce(lambda a, b: a | b, (col(\"nome_pais\").like(p) for p in paises))\n",
    "    df = df.filter(conditions)\n",
    "    df = df.filter(col(\"ano\").isin(anos))\n",
    "    return df\n",
    "\n",
    "time_df = filter_by_multiple_conditions(time_df, paises, anos)\n",
    "part_time_df = filter_by_multiple_conditions(part_time_df, paises, anos)\n",
    "\n",
    "time_df = time_df.drop(\"cod_indicador\", \"cod_pais\")\n",
    "\n",
    "part_time_df = part_time_df.drop(\"Country_code\", \"Country_name\", \"Indicator_name\", \"Indicator_code\", \"cod_indicador\", \"cod_pais\")\n",
    "\n",
    "# Filtrar pelos indicadores de emprego\n",
    "part_time_df = part_time_df.filter(F.col(\"nome_indicador\").like(\"%Part time employment%\"))\n",
    "\n",
    "# Adicionar a coluna \"genero\" com base no nome do indicador\n",
    "part_time_df = part_time_df.withColumn(\"desagregacao\",\n",
    "    F.when(F.col(\"nome_indicador\").like(\"% female%\"), \"female\")\n",
    "    .when(F.col(\"nome_indicador\").like(\"% male%\"), \"male\")\n",
    ")\n",
    "part_time_df = part_time_df.filter(F.col(\"desagregacao\").isNotNull())\n",
    "\n",
    "# Calcular a média dos valores por ano, gênero e indicador\n",
    "part_time_df_media = part_time_df.groupBy(\"nome_pais\", \"ano\", \"desagregacao\", \"nome_indicador\") \\\n",
    "    .agg(F.avg(\"valor\").alias(\"valor\"))\n",
    "\n",
    "# Selecionar apenas uma linha por ano e gênero\n",
    "window = Window.partitionBy(\"nome_pais\", \"ano\", \"desagregacao\").orderBy(F.col(\"valor\"))\n",
    "\n",
    "part_time_df_final = part_time_df_media.withColumn(\"row_number\", F.row_number().over(window)) \\\n",
    "    .filter(F.col(\"row_number\") == 1).drop(\"row_number\")\n",
    "\n",
    "columns_order = [\"nome_indicador\", \"nome_pais\", \"ano\", \"valor\", \"desagregacao\"]\n",
    "\n",
    "part_time_df_final = part_time_df_final.select(columns_order)"
   ]
  },
  {
   "cell_type": "code",
   "execution_count": 3,
   "id": "0ff890d2-a315-488a-ba6b-47e6d96bae4e",
   "metadata": {},
   "outputs": [],
   "source": [
    "time_df = time_df.withColumn(\"valor\", col(\"valor\").cast(\"float\"))\n",
    "part_time_df_final = part_time_df_final.withColumn(\"valor\", col(\"valor\").cast(\"float\"))"
   ]
  },
  {
   "cell_type": "code",
   "execution_count": 4,
   "id": "1a7970d6-d8e6-41d5-b4b9-7d84810eb8c0",
   "metadata": {},
   "outputs": [],
   "source": [
    "df_concatenado = part_time_df_final.union(time_df)"
   ]
  },
  {
   "cell_type": "code",
   "execution_count": 5,
   "id": "3782472d-896f-4d55-862c-aa64681b137b",
   "metadata": {},
   "outputs": [],
   "source": [
    "spark.conf.set(\"spark.databricks.delta.schema.autoMerge.enabled\", \"true\")\n",
    "\n",
    "df_concatenado.write \\\n",
    "    .format(\"delta\") \\\n",
    "    .mode(\"overwrite\") \\\n",
    "    .option(\"mergeSchema\", \"true\") \\\n",
    "    .save(\"hdfs://hdfs-nn:9000/Projeto/gold/TabelaPartTimeGold\")"
   ]
  },
  {
   "cell_type": "code",
   "execution_count": 6,
   "id": "a6228e8b-5553-4d73-8c3c-e4ec4b65a6bd",
   "metadata": {},
   "outputs": [
    {
     "name": "stdout",
     "output_type": "stream",
     "text": [
      "+-----------+--------------------+----+--------+------------+\n",
      "|  nome_pais|      nome_indicador| ano|   valor|desagregacao|\n",
      "+-----------+--------------------+----+--------+------------+\n",
      "|    Germany|Proportion of tim...|2013|    16.4|      female|\n",
      "|    Hungary|Proportion of tim...|2010|17.27674|      female|\n",
      "|     Poland|Proportion of tim...|2013| 18.2625|      female|\n",
      "|Switzerland|Proportion of tim...|2013| 16.5375|      female|\n",
      "|Switzerland|Proportion of tim...|2010|16.74167|      female|\n",
      "|    Germany|Proportion of tim...|2013|    10.4|        male|\n",
      "|    Hungary|Proportion of tim...|2010|  7.9796|        male|\n",
      "|     Poland|Proportion of tim...|2013| 9.92917|        male|\n",
      "|Switzerland|Proportion of tim...|2013| 10.3875|        male|\n",
      "|Switzerland|Proportion of tim...|2010|   9.775|        male|\n",
      "|    Germany|Part time employm...|2010|   55.47|      female|\n",
      "|    Germany|Part time employm...|2010|   22.98|        male|\n",
      "|    Germany|Part time employm...|2013|   57.78|      female|\n",
      "|    Germany|Part time employm...|2013|   26.14|        male|\n",
      "|    Hungary|Part time employm...|2010|   17.77|      female|\n",
      "|    Hungary|Part time employm...|2010|   11.45|        male|\n",
      "|    Hungary|Part time employm...|2013|   27.63|      female|\n",
      "|    Hungary|Part time employm...|2013|    19.8|        male|\n",
      "|     Poland|Part time employm...|2010|   30.29|      female|\n",
      "|     Poland|Part time employm...|2010|   17.13|        male|\n",
      "|     Poland|Part time employm...|2013|   31.46|      female|\n",
      "|     Poland|Part time employm...|2013|   18.85|        male|\n",
      "|Switzerland|Part time employm...|2010|   50.74|      female|\n",
      "|Switzerland|Part time employm...|2010|    18.6|        male|\n",
      "|Switzerland|Part time employm...|2013|   51.33|      female|\n",
      "|Switzerland|Part time employm...|2013|   19.84|        male|\n",
      "+-----------+--------------------+----+--------+------------+\n",
      "\n"
     ]
    }
   ],
   "source": [
    "spark.sql(\n",
    "    \"\"\"\n",
    "    SELECT * FROM database.PartTimeGold\n",
    "    \"\"\"\n",
    ").show(500)"
   ]
  },
  {
   "cell_type": "code",
   "execution_count": 7,
   "id": "9e5db22a-e216-4b4e-84a0-360b8575572d",
   "metadata": {},
   "outputs": [],
   "source": [
    "spark.stop()"
   ]
  }
 ],
 "metadata": {
  "kernelspec": {
   "display_name": "Python 3 (ipykernel)",
   "language": "python",
   "name": "python3"
  },
  "language_info": {
   "codemirror_mode": {
    "name": "ipython",
    "version": 3
   },
   "file_extension": ".py",
   "mimetype": "text/x-python",
   "name": "python",
   "nbconvert_exporter": "python",
   "pygments_lexer": "ipython3",
   "version": "3.11.5"
  }
 },
 "nbformat": 4,
 "nbformat_minor": 5
}

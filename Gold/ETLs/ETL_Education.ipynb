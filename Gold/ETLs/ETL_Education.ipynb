{
 "cells": [
  {
   "cell_type": "code",
   "execution_count": 1,
   "id": "2560cd7b-8625-4ea5-9c5e-4a2dbf68a32f",
   "metadata": {},
   "outputs": [],
   "source": [
    "from pyspark.sql import SparkSession\n",
    "from pyspark.sql import Row\n",
    "from delta import *\n",
    "from pyspark.sql.types import LongType, StringType, StructField, StructType, BooleanType, ArrayType, IntegerType, FloatType\n",
    "from pyspark.sql.functions import expr, array, col, explode, arrays_zip, when  # Importe a função 'when'\n",
    "\n",
    "# warehouse_location points to the default location for managed databases and tables\n",
    "warehouse = 'hdfs://hdfs-nn:9000/warehouse'\n",
    "\n",
    "builder = SparkSession \\\n",
    "    .builder \\\n",
    "    .appName(\"Python Spark SQL Hive integration example\") \\\n",
    "    .config(\"spark.sql.warehouse.dir\", warehouse) \\\n",
    "    .config(\"hive.metastore.uris\", \"thrift://hive-metastore:9083\") \\\n",
    "    .config(\"spark.sql.extensions\", \"io.delta.sql.DeltaSparkSessionExtension\") \\\n",
    "    .config(\"spark.sql.catalog.spark_catalog\", \"org.apache.spark.sql.delta.catalog.DeltaCatalog\") \\\n",
    "    .config(\"spark.jars.packages\", \"io.delta:delta-core_2.12:2.4.0\") \\\n",
    "    .enableHiveSupport()\n",
    "\n",
    "spark = configure_spark_with_delta_pip(builder).getOrCreate()\n"
   ]
  },
  {
   "cell_type": "code",
   "execution_count": 2,
   "id": "ab8c8382-3db8-4130-8031-54abebb49ec7",
   "metadata": {},
   "outputs": [],
   "source": [
    "# Lista de países desejados\n",
    "desired_countries_educ = [\"Liechtenstein\", \"Germany\", \"Denmark\", \"Switzerland\", \"Poland\", \"Czech\", \"Slovakia\", \"Slovenia\", \"Hungary\", \"Austria\"]"
   ]
  },
  {
   "cell_type": "code",
   "execution_count": 3,
   "id": "dd6c136c-94fe-463c-a30c-84ba6aec68f3",
   "metadata": {},
   "outputs": [
    {
     "name": "stdout",
     "output_type": "stream",
     "text": [
      "+---------+--------------------+----+-------+------+\n",
      "|pais_name|      indicador_name| ano|  valor|genero|\n",
      "+---------+--------------------+----+-------+------+\n",
      "|  Austria|Labor force with ...|2010|75.7348|     F|\n",
      "|  Austria|Labor force with ...|2011|75.4548|     F|\n",
      "|  Austria|Labor force with ...|2012|75.6985|     F|\n",
      "|  Austria|Labor force with ...|2013|75.9328|     F|\n",
      "|  Austria|Labor force with ...|2014|76.1737|     F|\n",
      "|  Austria|Labor force with ...|2015|76.4943|     F|\n",
      "|  Austria|Labor force with ...|2010| 75.245|     M|\n",
      "|  Austria|Labor force with ...|2011|75.9108|     M|\n",
      "|  Austria|Labor force with ...|2012|76.5963|     M|\n",
      "|  Austria|Labor force with ...|2013|76.9093|     M|\n",
      "|  Austria|Labor force with ...|2014|76.7986|     M|\n",
      "|  Austria|Labor force with ...|2015|76.8852|     M|\n",
      "|  Austria|Own-account worke...|2010|  6.176|     F|\n",
      "|  Austria|Own-account worke...|2011|  6.052|     F|\n",
      "|  Austria|Own-account worke...|2012|  6.086|     F|\n",
      "|  Austria|Own-account worke...|2013|  6.317|     F|\n",
      "|  Austria|Own-account worke...|2014|  6.051|     F|\n",
      "|  Austria|Own-account worke...|2015|  6.205|     F|\n",
      "|  Austria|Own-account worke...|2010|  7.504|     M|\n",
      "|  Austria|Own-account worke...|2011|  7.048|     M|\n",
      "+---------+--------------------+----+-------+------+\n",
      "only showing top 20 rows\n",
      "\n"
     ]
    }
   ],
   "source": [
    "# Filtrar dados para o indicador e país específicos nos anos de 2010 a 2015\n",
    "educ = spark.table(\"database2.jobs\")\n",
    "educ = educ.filter((col(\"indicador_name\").like(\"%Labor force with advanced education%\")) | (col(\"indicador_name\").like(\"%Own-account%\")))\n",
    "educ = educ.filter(col(\"pais_name\").isin(desired_countries_educ))\n",
    "educ = educ.filter(col(\"ano\").between(\"2010\", \"2015\"))  # Modificação para incluir anos de 2010 a 2015\n",
    "educ = educ.drop(col(\"pais_cod\"), col(\"indicador_code\"))\n",
    "educ = educ.withColumn(\"genero\",\n",
    "    when(col(\"indicador_name\").like(\"% female%\"), \"F\")\n",
    "    .when(col(\"indicador_name\").like(\"% male%\"), \"M\")\n",
    ")\n",
    "\n",
    "educ = educ.filter(col(\"genero\").isNotNull())\n",
    "educ.show()"
   ]
  },
  {
   "cell_type": "code",
   "execution_count": 4,
   "id": "dd2f5c67-70fe-49a0-a141-237802a8f461",
   "metadata": {},
   "outputs": [],
   "source": [
    "educ \\\n",
    "    .write \\\n",
    "    .format(\"delta\") \\\n",
    "    .mode(\"overwrite\") \\\n",
    "    .option(\"mergeSchema\", \"true\") \\\n",
    "    .save(\"hdfs://hdfs-nn:9000/Projeto/gold/TabelaEducation/\")"
   ]
  },
  {
   "cell_type": "code",
   "execution_count": 5,
   "id": "cd91b4c2-95ee-4c8c-a112-1525a31a7bf8",
   "metadata": {},
   "outputs": [
    {
     "name": "stdout",
     "output_type": "stream",
     "text": [
      "+---------+--------------------+----+-------+------+\n",
      "|pais_name|      indicador_name| ano|  valor|genero|\n",
      "+---------+--------------------+----+-------+------+\n",
      "|  Austria|Labor force with ...|2010|75.7348|     F|\n",
      "|  Austria|Labor force with ...|2011|75.4548|     F|\n",
      "|  Austria|Labor force with ...|2012|75.6985|     F|\n",
      "|  Austria|Labor force with ...|2013|75.9328|     F|\n",
      "|  Austria|Labor force with ...|2014|76.1737|     F|\n",
      "|  Austria|Labor force with ...|2015|76.4943|     F|\n",
      "|  Austria|Labor force with ...|2010| 75.245|     M|\n",
      "|  Austria|Labor force with ...|2011|75.9108|     M|\n",
      "|  Austria|Labor force with ...|2012|76.5963|     M|\n",
      "|  Austria|Labor force with ...|2013|76.9093|     M|\n",
      "|  Austria|Labor force with ...|2014|76.7986|     M|\n",
      "|  Austria|Labor force with ...|2015|76.8852|     M|\n",
      "|  Austria|Own-account worke...|2010|  6.176|     F|\n",
      "|  Austria|Own-account worke...|2011|  6.052|     F|\n",
      "|  Austria|Own-account worke...|2012|  6.086|     F|\n",
      "|  Austria|Own-account worke...|2013|  6.317|     F|\n",
      "|  Austria|Own-account worke...|2014|  6.051|     F|\n",
      "|  Austria|Own-account worke...|2015|  6.205|     F|\n",
      "|  Austria|Own-account worke...|2010|  7.504|     M|\n",
      "|  Austria|Own-account worke...|2011|  7.048|     M|\n",
      "+---------+--------------------+----+-------+------+\n",
      "only showing top 20 rows\n",
      "\n"
     ]
    }
   ],
   "source": [
    "spark.sql(\n",
    "    \"\"\"\n",
    "    SELECT * FROM database2.Education\n",
    "    \"\"\"\n",
    ").show()"
   ]
  },
  {
   "cell_type": "code",
   "execution_count": 6,
   "id": "d4d588ac-fcf9-43b7-96bd-776fd5469726",
   "metadata": {},
   "outputs": [],
   "source": [
    "spark.stop()"
   ]
  }
 ],
 "metadata": {
  "kernelspec": {
   "display_name": "Python 3 (ipykernel)",
   "language": "python",
   "name": "python3"
  },
  "language_info": {
   "codemirror_mode": {
    "name": "ipython",
    "version": 3
   },
   "file_extension": ".py",
   "mimetype": "text/x-python",
   "name": "python",
   "nbconvert_exporter": "python",
   "pygments_lexer": "ipython3",
   "version": "3.11.5"
  }
 },
 "nbformat": 4,
 "nbformat_minor": 5
}

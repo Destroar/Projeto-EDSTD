{
 "cells": [
  {
   "cell_type": "code",
   "execution_count": 1,
   "id": "fce1d83a-9508-4cc7-aa61-d957d7a52544",
   "metadata": {},
   "outputs": [],
   "source": [
    "from pyspark.sql import SparkSession\n",
    "from pyspark.sql import Row\n",
    "from delta import *\n",
    "from pyspark.sql.types import LongType, StringType, StructField, StructType, BooleanType, ArrayType, IntegerType, FloatType\n",
    "from pyspark.sql.functions import expr, array, col, explode, arrays_zip, when, first, avg\n",
    "from pyspark.sql.window import Window\n",
    "from pyspark.sql import functions as F\n",
    "from functools import reduce\n",
    "from pyspark.sql import DataFrame\n",
    "\n",
    "# warehouse_location points to the default location for managed databases and tables\n",
    "warehouse = 'hdfs://hdfs-nn:9000/warehouse'\n",
    "\n",
    "builder = SparkSession \\\n",
    "    .builder \\\n",
    "    .appName(\"Python Spark SQL Hive integration example\") \\\n",
    "    .config(\"spark.sql.warehouse.dir\", warehouse) \\\n",
    "    .config(\"hive.metastore.uris\", \"thrift://hive-metastore:9083\") \\\n",
    "    .config(\"spark.sql.extensions\", \"io.delta.sql.DeltaSparkSessionExtension\") \\\n",
    "    .config(\"spark.sql.catalog.spark_catalog\", \"org.apache.spark.sql.delta.catalog.DeltaCatalog\") \\\n",
    "    .config(\"spark.jars.packages\", \"io.delta:delta-core_2.12:2.4.0\") \\\n",
    "    .enableHiveSupport() \\\n",
    "\n",
    "spark = spark = configure_spark_with_delta_pip(builder).getOrCreate()"
   ]
  },
  {
   "cell_type": "code",
   "execution_count": 2,
   "id": "e9dceefa-750d-4c9d-827f-d9022959e46e",
   "metadata": {},
   "outputs": [],
   "source": [
    "# Carregar tabelas\n",
    "time_df = spark.table(\"database.time\")\n",
    "employment_df = spark.table(\"database.gender\")\n",
    "\n",
    "# Lista de países e anos\n",
    "paises = [\"%Germany%\", \"%Switzerland%\", \"%Poland%\", \"%Hungary%\"]\n",
    "anos = [\"2010\", \"2013\"]\n",
    "\n",
    "# Filtrando os DataFrames\n",
    "\n",
    "def filter_by_multiple_conditions(df: DataFrame, paises: list, anos: list) -> DataFrame:\n",
    "    conditions = reduce(lambda a, b: a | b, (col(\"nome_pais\").like(p) for p in paises))\n",
    "    df = df.filter(conditions)\n",
    "    df = df.filter(col(\"ano\").isin(anos))\n",
    "    return df\n",
    "\n",
    "time_df = filter_by_multiple_conditions(time_df, paises, anos)\n",
    "employment_df = filter_by_multiple_conditions(employment_df, paises, anos)\n",
    "\n",
    "time_df = time_df.drop(\"cod_indicador\", \"cod_pais\")\n",
    "\n",
    "employment_df = employment_df.drop(\"Country_code\", \"Country_name\", \"Indicator_name\", \"Indicator_code\", \"cod_indicador\", \"cod_pais\")\n",
    "\n",
    "# Filtrar pelos indicadores de emprego\n",
    "employment_df = employment_df.filter(F.col(\"nome_indicador\").like(\"%Employment to population ratio%\"))\n",
    "\n",
    "# Adicionar a coluna \"genero\" com base no nome do indicador\n",
    "employment_df = employment_df.withColumn(\"desagregacao\",\n",
    "    F.when(F.col(\"nome_indicador\").like(\"% female%\"), \"female\")\n",
    "    .when(F.col(\"nome_indicador\").like(\"% male%\"), \"male\")\n",
    ")\n",
    "employment_df = employment_df.filter(F.col(\"desagregacao\").isNotNull())\n",
    "\n",
    "# Calcular a média dos valores por ano, gênero e indicador\n",
    "employment_df_media = employment_df.groupBy(\"nome_pais\", \"ano\", \"desagregacao\", \"nome_indicador\") \\\n",
    "    .agg(F.avg(\"valor\").alias(\"valor\"))\n",
    "\n",
    "# Selecionar apenas uma linha por ano e gênero\n",
    "window = Window.partitionBy(\"nome_pais\", \"ano\", \"desagregacao\").orderBy(F.col(\"valor\"))\n",
    "\n",
    "employment_df_final = employment_df_media.withColumn(\"row_number\", F.row_number().over(window)) \\\n",
    "    .filter(F.col(\"row_number\") == 1).drop(\"row_number\")\n",
    "\n",
    "columns_order = [\"nome_indicador\", \"nome_pais\", \"ano\", \"valor\", \"desagregacao\"]\n",
    "\n",
    "# Reorganizando as colunas no DataFrame employment_df_final\n",
    "employment_df_final = employment_df_final.select(columns_order)"
   ]
  },
  {
   "cell_type": "code",
   "execution_count": 3,
   "id": "b1fadaf5-a74e-4ef8-9fc1-02ba395401c0",
   "metadata": {},
   "outputs": [],
   "source": [
    "time_df = time_df.withColumn(\"valor\", col(\"valor\").cast(\"float\"))\n",
    "employment_df_final = employment_df_final.withColumn(\"valor\", col(\"valor\").cast(\"float\"))"
   ]
  },
  {
   "cell_type": "code",
   "execution_count": 4,
   "id": "347b532e-7136-4a41-a0bc-bac2cf8b8c47",
   "metadata": {},
   "outputs": [],
   "source": [
    "df_concatenado = employment_df_final.union(time_df)"
   ]
  },
  {
   "cell_type": "code",
   "execution_count": 5,
   "id": "453b8e40-2e8a-4067-ba83-22d42470c0a2",
   "metadata": {},
   "outputs": [],
   "source": [
    "spark.conf.set(\"spark.databricks.delta.schema.autoMerge.enabled\", \"true\")\n",
    "\n",
    "df_concatenado.write \\\n",
    "    .format(\"delta\") \\\n",
    "    .mode(\"overwrite\") \\\n",
    "    .option(\"mergeSchema\", \"true\") \\\n",
    "    .save(\"hdfs://hdfs-nn:9000/Projeto/gold/TabelaEmploymentGold\")"
   ]
  },
  {
   "cell_type": "code",
   "execution_count": 6,
   "id": "df957974-b804-40e9-91f4-f8acf2cd7ecc",
   "metadata": {
    "scrolled": true
   },
   "outputs": [
    {
     "name": "stdout",
     "output_type": "stream",
     "text": [
      "+-----------+--------------------+----+--------+------------+\n",
      "|  nome_pais|      nome_indicador| ano|   valor|desagregacao|\n",
      "+-----------+--------------------+----+--------+------------+\n",
      "|    Germany|Employment to pop...|2010|   44.48|      female|\n",
      "|    Germany|Employment to pop...|2010|   47.65|        male|\n",
      "|    Germany|Employment to pop...|2013|   45.22|      female|\n",
      "|    Germany|Employment to pop...|2013|  48.133|        male|\n",
      "|    Hungary|Employment to pop...|2010|   16.55|      female|\n",
      "|    Hungary|Employment to pop...|2010|   19.89|        male|\n",
      "|    Hungary|Employment to pop...|2013|   17.03|      female|\n",
      "|    Hungary|Employment to pop...|2013|   23.05|        male|\n",
      "|     Poland|Employment to pop...|2010|   22.09|      female|\n",
      "|     Poland|Employment to pop...|2010|  30.476|        male|\n",
      "|     Poland|Employment to pop...|2013|   19.51|      female|\n",
      "|     Poland|Employment to pop...|2013|   28.64|        male|\n",
      "|Switzerland|Employment to pop...|2010|   56.85|      female|\n",
      "|Switzerland|Employment to pop...|2010|   63.47|        male|\n",
      "|Switzerland|Employment to pop...|2013|  58.126|      female|\n",
      "|Switzerland|Employment to pop...|2013|   62.91|        male|\n",
      "|    Germany|Proportion of tim...|2013|    16.4|      female|\n",
      "|    Hungary|Proportion of tim...|2010|17.27674|      female|\n",
      "|     Poland|Proportion of tim...|2013| 18.2625|      female|\n",
      "|Switzerland|Proportion of tim...|2013| 16.5375|      female|\n",
      "|Switzerland|Proportion of tim...|2010|16.74167|      female|\n",
      "|    Germany|Proportion of tim...|2013|    10.4|        male|\n",
      "|    Hungary|Proportion of tim...|2010|  7.9796|        male|\n",
      "|     Poland|Proportion of tim...|2013| 9.92917|        male|\n",
      "|Switzerland|Proportion of tim...|2013| 10.3875|        male|\n",
      "|Switzerland|Proportion of tim...|2010|   9.775|        male|\n",
      "+-----------+--------------------+----+--------+------------+\n",
      "\n"
     ]
    }
   ],
   "source": [
    "spark.sql(\n",
    "    \"\"\"\n",
    "    SELECT * FROM database.EmploymentGold\n",
    "    \"\"\"\n",
    ").show(500)"
   ]
  },
  {
   "cell_type": "code",
   "execution_count": 7,
   "id": "07e3ec5b-7aa1-4b0d-98e0-231f82ceb5ce",
   "metadata": {},
   "outputs": [],
   "source": [
    "spark.stop()"
   ]
  }
 ],
 "metadata": {
  "kernelspec": {
   "display_name": "Python 3 (ipykernel)",
   "language": "python",
   "name": "python3"
  },
  "language_info": {
   "codemirror_mode": {
    "name": "ipython",
    "version": 3
   },
   "file_extension": ".py",
   "mimetype": "text/x-python",
   "name": "python",
   "nbconvert_exporter": "python",
   "pygments_lexer": "ipython3",
   "version": "3.11.5"
  }
 },
 "nbformat": 4,
 "nbformat_minor": 5
}

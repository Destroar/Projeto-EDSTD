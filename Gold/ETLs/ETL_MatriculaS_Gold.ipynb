{
 "cells": [
  {
   "cell_type": "code",
   "execution_count": 1,
   "id": "967b9baa-0957-4bf8-b62f-502f42bf386f",
   "metadata": {},
   "outputs": [],
   "source": [
    "from pyspark.sql import SparkSession\n",
    "from pyspark.sql import Row\n",
    "from delta import *\n",
    "from pyspark.sql.types import LongType, StringType, StructField, StructType, BooleanType, ArrayType, IntegerType, FloatType\n",
    "from pyspark.sql.functions import expr, array, col, explode, arrays_zip, lit, avg, when, broadcast\n",
    "\n",
    "# warehouse_location points to the default location for managed databases and tables\n",
    "warehouse = 'hdfs://hdfs-nn:9000/warehouse'\n",
    "\n",
    "builder = SparkSession \\\n",
    "    .builder \\\n",
    "    .appName(\"Python Spark SQL Hive integration example\") \\\n",
    "    .config(\"spark.sql.warehouse.dir\", warehouse) \\\n",
    "    .config(\"hive.metastore.uris\", \"thrift://hive-metastore:9083\") \\\n",
    "    .config(\"spark.sql.extensions\", \"io.delta.sql.DeltaSparkSessionExtension\") \\\n",
    "    .config(\"spark.sql.catalog.spark_catalog\", \"org.apache.spark.sql.delta.catalog.DeltaCatalog\") \\\n",
    "    .config(\"spark.jars.packages\", \"io.delta:delta-core_2.12:2.4.0\") \\\n",
    "    .enableHiveSupport() \\\n",
    "\n",
    "spark = spark = configure_spark_with_delta_pip(builder).getOrCreate()"
   ]
  },
  {
   "cell_type": "code",
   "execution_count": 2,
   "id": "88209858-b626-4dbd-85c8-cb695a800e88",
   "metadata": {},
   "outputs": [],
   "source": [
    "jobs_df = spark.table(\"database.jobs\")\n",
    "popu_df = spark.table(\"database.population\")\n",
    "jobs_df = jobs_df.filter(col(\"indicador_name\").like(\"%enrollment, tertiary%\"))\n",
    "jobs_df = jobs_df.drop(col(\"pais_cod\"), col(\"indicador_code\"))\n",
    "popu_df = popu_df.filter(col(\"cod_indicador\").like(\"%SP.POP.TOTL%\"))\n",
    "popu_df = popu_df.drop(col(\"cod_pais\"), col(\"cod_indicador\"), col(\"nome_indicador\"), col(\"Country_name\"), col(\"Country_code\"), col(\"Indicator_name\"), col(\"Indicator_code\"))\n",
    "popu_df = popu_df.withColumnRenamed(\"valor\", \"valorI\")\n",
    "popu_df = popu_df.withColumnRenamed(\"nome_pais\", \"pais_name\")\n",
    "popu_df = popu_df.withColumn(\"ano\", col(\"ano\").cast(IntegerType()))"
   ]
  },
  {
   "cell_type": "code",
   "execution_count": 3,
   "id": "ba81d025-b671-4c75-bf24-6766142c7608",
   "metadata": {},
   "outputs": [],
   "source": [
    "paises = [\"%Liechtenstein%\", \"%Germany%\", \"%Denmark%\", \"%Switzerland%\", \"%Poland%\", \"%Czech%\", \n",
    "          \"%Slovakia%\", \"%Slovenia%\", \"%Hungary%\", \"%Austria%\"]\n",
    "anos = [\"2010\", \"2011\", \"2012\", \"2013\", \"2014\", \"2015\"]\n",
    "\n",
    "jobs_df = jobs_df.filter(\n",
    "    col(\"pais_name\").like(paises[0]) |\n",
    "    col(\"pais_name\").like(paises[1]) |\n",
    "    col(\"pais_name\").like(paises[2]) |\n",
    "    col(\"pais_name\").like(paises[3]) |\n",
    "    col(\"pais_name\").like(paises[4]) |\n",
    "    col(\"pais_name\").like(paises[5]) |\n",
    "    col(\"pais_name\").like(paises[6]) |\n",
    "    col(\"pais_name\").like(paises[7]) |\n",
    "    col(\"pais_name\").like(paises[8]) |\n",
    "    col(\"pais_name\").like(paises[9]) \n",
    ").filter(\n",
    "    col(\"ano\").isin(anos) &\n",
    "    col(\"valor\").isNotNull()\n",
    ")\n",
    "\n",
    "popu_df = popu_df.filter(\n",
    "    col(\"pais_name\").like(paises[0]) |\n",
    "    col(\"pais_name\").like(paises[1]) |\n",
    "    col(\"pais_name\").like(paises[2]) |\n",
    "    col(\"pais_name\").like(paises[3]) |\n",
    "    col(\"pais_name\").like(paises[4]) |\n",
    "    col(\"pais_name\").like(paises[5]) |\n",
    "    col(\"pais_name\").like(paises[6]) |\n",
    "    col(\"pais_name\").like(paises[7]) |\n",
    "    col(\"pais_name\").like(paises[8]) |\n",
    "    col(\"pais_name\").like(paises[9]) \n",
    ").filter(\n",
    "    col(\"ano\").isin(anos) &\n",
    "    col(\"valorI\").isNotNull()\n",
    ")"
   ]
  },
  {
   "cell_type": "code",
   "execution_count": 4,
   "id": "9c9a677c-8569-4b14-85c3-019340823470",
   "metadata": {},
   "outputs": [],
   "source": [
    "literacia_df = popu_df.join(jobs_df, [\"pais_name\", \"ano\"], \"left\")\n",
    "literacia_df = literacia_df.withColumn(\"valorI\", ((col(\"valor\") / 100) * (col(\"valorI\") / 2)).cast(\"int\"))\n",
    "literacia_df = literacia_df.withColumnRenamed(\"pais_name\", \"paises\")"
   ]
  },
  {
   "cell_type": "code",
   "execution_count": 5,
   "id": "d9115086-06f5-4624-8b06-08c15121f9aa",
   "metadata": {},
   "outputs": [],
   "source": [
    "literacia_df = literacia_df.withColumn(\"genero\",\n",
    "    when(col(\"indicador_name\").like(\"% female%\"), \"F\")\n",
    "    .when(col(\"indicador_name\").like(\"% male%\"), \"M\")\n",
    ")\n",
    "\n",
    "literacia_df = literacia_df.filter(col(\"genero\").isNotNull())\n",
    "\n",
    "literacia_df = literacia_df.drop(col(\"indicador_name\"))"
   ]
  },
  {
   "cell_type": "code",
   "execution_count": 6,
   "id": "63225465-63b1-4cb1-80a8-d7cf0a480062",
   "metadata": {},
   "outputs": [],
   "source": [
    "literacia_df \\\n",
    "    .write \\\n",
    "    .format(\"delta\") \\\n",
    "    .mode(\"overwrite\") \\\n",
    "    .save(\"hdfs://hdfs-nn:9000/Projeto/gold/TabelaMatriculaS/\")"
   ]
  },
  {
   "cell_type": "code",
   "execution_count": 7,
   "id": "3d01ea16-6432-4c0e-8fdd-97c53058e3b3",
   "metadata": {},
   "outputs": [
    {
     "name": "stdout",
     "output_type": "stream",
     "text": [
      "+-------+----+--------+--------+------+\n",
      "| paises| ano|   valor|  valorI|genero|\n",
      "+-------+----+--------+--------+------+\n",
      "|Austria|2014|86.10368| 3679363|     F|\n",
      "|Austria|2015| 87.8598| 3796729|     F|\n",
      "|Austria|2014|72.15393| 3083265|     M|\n",
      "|Austria|2015|73.60846| 3180878|     M|\n",
      "|Denmark|2010|87.44201| 2425502|     F|\n",
      "|Denmark|2011|90.58639| 2523089|     F|\n",
      "|Denmark|2012|93.11905| 2603409|     F|\n",
      "|Denmark|2013|94.50449| 2653181|     F|\n",
      "|Denmark|2014|95.34254| 2690316|     F|\n",
      "|Denmark|2015|96.29233| 2736379|     F|\n",
      "|Denmark|2010| 60.3624| 1674357|     M|\n",
      "|Denmark|2011|63.56284| 1770406|     M|\n",
      "|Denmark|2012|65.77505| 1838929|     M|\n",
      "|Denmark|2013|68.03267| 1909994|     M|\n",
      "|Denmark|2014|67.44238| 1903047|     M|\n",
      "|Denmark|2015|68.70282| 1952356|     M|\n",
      "|Germany|2013|58.47609|23579198|     F|\n",
      "|Germany|2014|62.61369|25353064|     F|\n",
      "|Germany|2015| 65.5982|26792471|     F|\n",
      "|Germany|2013| 62.3437|25138728|     M|\n",
      "+-------+----+--------+--------+------+\n",
      "only showing top 20 rows\n",
      "\n"
     ]
    }
   ],
   "source": [
    "spark.sql(\n",
    "    \"\"\"\n",
    "    SELECT * FROM database.MatriculaSGold\n",
    "    \"\"\"\n",
    ").show()"
   ]
  },
  {
   "cell_type": "code",
   "execution_count": 8,
   "id": "9991cbd7-1197-4542-8e5a-be578220d204",
   "metadata": {},
   "outputs": [],
   "source": [
    "spark.stop()"
   ]
  },
  {
   "cell_type": "code",
   "execution_count": null,
   "id": "199a44da-0d76-4f98-ad83-737c3252c0cc",
   "metadata": {},
   "outputs": [],
   "source": []
  }
 ],
 "metadata": {
  "kernelspec": {
   "display_name": "Python 3 (ipykernel)",
   "language": "python",
   "name": "python3"
  },
  "language_info": {
   "codemirror_mode": {
    "name": "ipython",
    "version": 3
   },
   "file_extension": ".py",
   "mimetype": "text/x-python",
   "name": "python",
   "nbconvert_exporter": "python",
   "pygments_lexer": "ipython3",
   "version": "3.11.5"
  }
 },
 "nbformat": 4,
 "nbformat_minor": 5
}

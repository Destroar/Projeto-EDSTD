{
 "cells": [
  {
   "cell_type": "code",
   "execution_count": 1,
   "id": "3796d41d-15ed-44c1-85b0-088e4efca438",
   "metadata": {},
   "outputs": [],
   "source": [
    "from pyspark.sql import SparkSession\n",
    "from pyspark.sql import Row\n",
    "from delta import *\n",
    "from pyspark.sql.types import LongType, StringType, StructField, StructType, BooleanType, ArrayType, IntegerType, FloatType\n",
    "from pyspark.sql.functions import expr, array, col, explode, arrays_zip, when, first, avg\n",
    "from pyspark.sql.window import Window\n",
    "from pyspark.sql import functions as F\n",
    "from functools import reduce\n",
    "from pyspark.sql import DataFrame\n",
    "\n",
    "# warehouse_location points to the default location for managed databases and tables\n",
    "warehouse = 'hdfs://hdfs-nn:9000/warehouse'\n",
    "\n",
    "builder = SparkSession \\\n",
    "    .builder \\\n",
    "    .appName(\"Python Spark SQL Hive integration example\") \\\n",
    "    .config(\"spark.sql.warehouse.dir\", warehouse) \\\n",
    "    .config(\"hive.metastore.uris\", \"thrift://hive-metastore:9083\") \\\n",
    "    .config(\"spark.sql.extensions\", \"io.delta.sql.DeltaSparkSessionExtension\") \\\n",
    "    .config(\"spark.sql.catalog.spark_catalog\", \"org.apache.spark.sql.delta.catalog.DeltaCatalog\") \\\n",
    "    .config(\"spark.jars.packages\", \"io.delta:delta-core_2.12:2.4.0\") \\\n",
    "    .enableHiveSupport() \\\n",
    "\n",
    "spark = spark = configure_spark_with_delta_pip(builder).getOrCreate()"
   ]
  },
  {
   "cell_type": "code",
   "execution_count": 2,
   "id": "efbe3fe1-bb6f-47b0-b8bd-5028e1a7bb5d",
   "metadata": {},
   "outputs": [],
   "source": [
    "# Carregar tabelas\n",
    "time_df = spark.table(\"database.time\")\n",
    "unemployment_df = spark.table(\"database.gender\")\n",
    "\n",
    "# Lista de países e anos\n",
    "paises = [\"%Germany%\", \"%Switzerland%\", \"%Poland%\", \"%Hungary%\"]\n",
    "anos = [\"2010\", \"2013\"]\n",
    "\n",
    "# Filtrando os DataFrames\n",
    "\n",
    "def filter_by_multiple_conditions(df: DataFrame, paises: list, anos: list) -> DataFrame:\n",
    "    conditions = reduce(lambda a, b: a | b, (col(\"nome_pais\").like(p) for p in paises))\n",
    "    df = df.filter(conditions)\n",
    "    df = df.filter(col(\"ano\").isin(anos))\n",
    "    return df\n",
    "\n",
    "time_df = filter_by_multiple_conditions(time_df, paises, anos)\n",
    "unemployment_df = filter_by_multiple_conditions(unemployment_df, paises, anos)\n",
    "\n",
    "time_df = time_df.drop(\"cod_indicador\", \"cod_pais\")\n",
    "\n",
    "unemployment_df = unemployment_df.drop(\"Country_code\", \"Country_name\", \"Indicator_name\", \"Indicator_code\", \"cod_indicador\", \"cod_pais\")\n",
    "\n",
    "# Filtrar pelos indicadores de emprego\n",
    "unemployment_df = unemployment_df.filter(F.col(\"nome_indicador\").contains(\"Unemployment\") & ~F.col(\"nome_indicador\").contains(\"with\"))\n",
    "\n",
    "# Adicionar a coluna \"genero\" com base no nome do indicador\n",
    "unemployment_df = unemployment_df.withColumn(\"desagregacao\",\n",
    "    F.when(F.col(\"nome_indicador\").like(\"% female%\"), \"female\")\n",
    "    .when(F.col(\"nome_indicador\").like(\"% male%\"), \"male\")\n",
    ")\n",
    "unemployment_df = unemployment_df.filter(F.col(\"desagregacao\").isNotNull())\n",
    "\n",
    "# Calcular a média dos valores por ano, gênero e indicador\n",
    "unemployment_df_media = unemployment_df.groupBy(\"nome_pais\", \"ano\", \"desagregacao\", \"nome_indicador\") \\\n",
    "    .agg(F.avg(\"valor\").alias(\"valor\"))\n",
    "\n",
    "# Selecionar apenas uma linha por ano e gênero\n",
    "window = Window.partitionBy(\"nome_pais\", \"ano\", \"desagregacao\").orderBy(F.col(\"valor\"))\n",
    "\n",
    "unemployment_df_final = unemployment_df_media.withColumn(\"row_number\", F.row_number().over(window)) \\\n",
    "    .filter(F.col(\"row_number\") == 1).drop(\"row_number\")\n",
    "\n",
    "columns_order = [\"nome_indicador\", \"nome_pais\", \"ano\", \"valor\", \"desagregacao\"]\n",
    "\n",
    "# Reorganizando as colunas no DataFrame unemployment_df_final\n",
    "unemployment_df_final = unemployment_df_final.select(columns_order)"
   ]
  },
  {
   "cell_type": "code",
   "execution_count": 3,
   "id": "a1488a44-576f-4261-9ac7-1841200cc39c",
   "metadata": {},
   "outputs": [],
   "source": [
    "time_df = time_df.withColumn(\"valor\", col(\"valor\").cast(\"float\"))\n",
    "unemployment_df_final = unemployment_df_final.withColumn(\"valor\", col(\"valor\").cast(\"float\"))"
   ]
  },
  {
   "cell_type": "code",
   "execution_count": 4,
   "id": "3d201ee2-79e7-4bae-8677-641d4bafdac1",
   "metadata": {},
   "outputs": [],
   "source": [
    "df_concatenado = unemployment_df_final.union(time_df)"
   ]
  },
  {
   "cell_type": "code",
   "execution_count": 5,
   "id": "20176237-ba1c-49a2-be32-6fa1b450ca11",
   "metadata": {},
   "outputs": [],
   "source": [
    "spark.conf.set(\"spark.databricks.delta.schema.autoMerge.enabled\", \"true\")\n",
    "\n",
    "df_concatenado.write \\\n",
    "    .format(\"delta\") \\\n",
    "    .mode(\"overwrite\") \\\n",
    "    .option(\"mergeSchema\", \"true\") \\\n",
    "    .save(\"hdfs://hdfs-nn:9000/Projeto/gold/TabelaUnemploymentGold\")"
   ]
  },
  {
   "cell_type": "code",
   "execution_count": 6,
   "id": "20f75cc5-6d6d-4be6-b349-f3d58747f38a",
   "metadata": {},
   "outputs": [
    {
     "name": "stdout",
     "output_type": "stream",
     "text": [
      "+-----------+--------------------+----+--------+------------+\n",
      "|  nome_pais|      nome_indicador| ano|   valor|desagregacao|\n",
      "+-----------+--------------------+----+--------+------------+\n",
      "|    Germany|Unemployment, fem...|2010|     6.5|      female|\n",
      "|    Germany|Unemployment, mal...|2010|    7.37|        male|\n",
      "|    Germany|Unemployment, fem...|2013|   4.919|      female|\n",
      "|    Germany|Unemployment, mal...|2013|   5.498|        male|\n",
      "|    Hungary|Unemployment, fem...|2010|  10.657|      female|\n",
      "|    Hungary|Unemployment, mal...|2010|  11.606|        male|\n",
      "|    Hungary|Unemployment, fem...|2013|   10.14|      female|\n",
      "|    Hungary|Unemployment, mal...|2013|   10.21|        male|\n",
      "|     Poland|Unemployment, fem...|2010|   10.02|      female|\n",
      "|     Poland|Unemployment, mal...|2010|    9.32|        male|\n",
      "|     Poland|Unemployment, fem...|2013|   11.11|      female|\n",
      "|     Poland|Unemployment, mal...|2013|    9.69|        male|\n",
      "|Switzerland|Unemployment, fem...|2010|     5.2|      female|\n",
      "|Switzerland|Unemployment, mal...|2010|    4.48|        male|\n",
      "|Switzerland|Unemployment, fem...|2013|    4.92|      female|\n",
      "|Switzerland|Unemployment, mal...|2013|     4.6|        male|\n",
      "|    Germany|Proportion of tim...|2013|    16.4|      female|\n",
      "|    Hungary|Proportion of tim...|2010|17.27674|      female|\n",
      "|     Poland|Proportion of tim...|2013| 18.2625|      female|\n",
      "|Switzerland|Proportion of tim...|2013| 16.5375|      female|\n",
      "|Switzerland|Proportion of tim...|2010|16.74167|      female|\n",
      "|    Germany|Proportion of tim...|2013|    10.4|        male|\n",
      "|    Hungary|Proportion of tim...|2010|  7.9796|        male|\n",
      "|     Poland|Proportion of tim...|2013| 9.92917|        male|\n",
      "|Switzerland|Proportion of tim...|2013| 10.3875|        male|\n",
      "|Switzerland|Proportion of tim...|2010|   9.775|        male|\n",
      "+-----------+--------------------+----+--------+------------+\n",
      "\n"
     ]
    }
   ],
   "source": [
    "spark.sql(\n",
    "    \"\"\"\n",
    "    SELECT * FROM database.UnemploymentGold\n",
    "    \"\"\"\n",
    ").show(500)"
   ]
  },
  {
   "cell_type": "code",
   "execution_count": 7,
   "id": "06a14199-85dc-4273-b032-15a4af522869",
   "metadata": {},
   "outputs": [],
   "source": [
    "spark.stop()"
   ]
  }
 ],
 "metadata": {
  "kernelspec": {
   "display_name": "Python 3 (ipykernel)",
   "language": "python",
   "name": "python3"
  },
  "language_info": {
   "codemirror_mode": {
    "name": "ipython",
    "version": 3
   },
   "file_extension": ".py",
   "mimetype": "text/x-python",
   "name": "python",
   "nbconvert_exporter": "python",
   "pygments_lexer": "ipython3",
   "version": "3.11.5"
  }
 },
 "nbformat": 4,
 "nbformat_minor": 5
}

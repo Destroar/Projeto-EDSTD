{
 "cells": [
  {
   "cell_type": "code",
   "execution_count": 1,
   "id": "967b9baa-0957-4bf8-b62f-502f42bf386f",
   "metadata": {},
   "outputs": [],
   "source": [
    "from pyspark.sql import SparkSession\n",
    "from pyspark.sql import Row\n",
    "from delta import *\n",
    "from pyspark.sql.types import LongType, StringType, StructField, StructType, BooleanType, ArrayType, IntegerType\n",
    "from pyspark.sql.functions import expr, array, col, explode, arrays_zip\n",
    "\n",
    "# warehouse_location points to the default location for managed databases and tables\n",
    "warehouse = 'hdfs://hdfs-nn:9000/warehouse'\n",
    "\n",
    "builder = SparkSession \\\n",
    "    .builder \\\n",
    "    .appName(\"Python Spark SQL Hive integration example\") \\\n",
    "    .config(\"spark.sql.warehouse.dir\", warehouse) \\\n",
    "    .config(\"hive.metastore.uris\", \"thrift://hive-metastore:9083\") \\\n",
    "    .config(\"spark.sql.extensions\", \"io.delta.sql.DeltaSparkSessionExtension\") \\\n",
    "    .config(\"spark.sql.catalog.spark_catalog\", \"org.apache.spark.sql.delta.catalog.DeltaCatalog\") \\\n",
    "    .config(\"spark.jars.packages\", \"io.delta:delta-core_2.12:2.4.0\") \\\n",
    "    .enableHiveSupport() \\\n",
    "\n",
    "spark = spark = configure_spark_with_delta_pip(builder).getOrCreate()"
   ]
  },
  {
   "cell_type": "code",
   "execution_count": 2,
   "id": "981960cd-6748-453f-9538-aeb8c887ed14",
   "metadata": {},
   "outputs": [
    {
     "name": "stdout",
     "output_type": "stream",
     "text": [
      "+---------+-------------+-----------+\n",
      "|namespace|    tableName|isTemporary|\n",
      "+---------+-------------+-----------+\n",
      "| database|       gender|      false|\n",
      "| database|         jobs|      false|\n",
      "| database|literaciagold|      false|\n",
      "+---------+-------------+-----------+\n",
      "\n"
     ]
    }
   ],
   "source": [
    "spark.sql(\n",
    "    \"\"\"\n",
    "    SHOW TABLES FROM database\n",
    "    \"\"\"\n",
    ").show()"
   ]
  },
  {
   "cell_type": "code",
   "execution_count": 3,
   "id": "88209858-b626-4dbd-85c8-cb695a800e88",
   "metadata": {},
   "outputs": [
    {
     "name": "stdout",
     "output_type": "stream",
     "text": [
      "root\n",
      " |-- pais_name: string (nullable = true)\n",
      " |-- ano: integer (nullable = true)\n",
      " |-- valor: float (nullable = true)\n",
      "\n"
     ]
    }
   ],
   "source": [
    "literacia_df = spark.table(\"database.jobs\")\n",
    "popu_df = spark.table(\"database.population\")\n",
    "literacia_df = literacia_df.filter(col(\"indicador_name\").like(\"%Literacy rate%\"))\n",
    "literacia_df = literacia_df.drop(col(\"indicador_name\"), col(\"pais_cod\"), col(\"indicador_code\"))\n",
    "literacia_df = literacia_df.join(popu_df, [\"pais_name\", \"ano\"])\n",
    "literacia_df = literacia_df.withColumn(\"valorI\", (col(\"value\") * col(\"value_in_total_df\")).cast(\"int\"))\n",
    "literacia_df.show()"
   ]
  },
  {
   "cell_type": "code",
   "execution_count": 4,
   "id": "9991cbd7-1197-4542-8e5a-be578220d204",
   "metadata": {},
   "outputs": [],
   "source": [
    "spark.stop()"
   ]
  }
 ],
 "metadata": {
  "kernelspec": {
   "display_name": "Python 3 (ipykernel)",
   "language": "python",
   "name": "python3"
  },
  "language_info": {
   "codemirror_mode": {
    "name": "ipython",
    "version": 3
   },
   "file_extension": ".py",
   "mimetype": "text/x-python",
   "name": "python",
   "nbconvert_exporter": "python",
   "pygments_lexer": "ipython3",
   "version": "3.11.5"
  }
 },
 "nbformat": 4,
 "nbformat_minor": 5
}

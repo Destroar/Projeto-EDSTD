{
 "cells": [
  {
   "cell_type": "code",
   "execution_count": 1,
   "id": "967b9baa-0957-4bf8-b62f-502f42bf386f",
   "metadata": {},
   "outputs": [],
   "source": [
    "from pyspark.sql import SparkSession\n",
    "from pyspark.sql import Row\n",
    "from delta import *\n",
    "from pyspark.sql.types import LongType, StringType, StructField, StructType, BooleanType, ArrayType, IntegerType, FloatType\n",
    "from pyspark.sql.functions import expr, array, col, explode, arrays_zip\n",
    "\n",
    "# warehouse_location points to the default location for managed databases and tables\n",
    "warehouse = 'hdfs://hdfs-nn:9000/warehouse'\n",
    "\n",
    "builder = SparkSession \\\n",
    "    .builder \\\n",
    "    .appName(\"Python Spark SQL Hive integration example\") \\\n",
    "    .config(\"spark.sql.warehouse.dir\", warehouse) \\\n",
    "    .config(\"hive.metastore.uris\", \"thrift://hive-metastore:9083\") \\\n",
    "    .config(\"spark.sql.extensions\", \"io.delta.sql.DeltaSparkSessionExtension\") \\\n",
    "    .config(\"spark.sql.catalog.spark_catalog\", \"org.apache.spark.sql.delta.catalog.DeltaCatalog\") \\\n",
    "    .config(\"spark.jars.packages\", \"io.delta:delta-core_2.12:2.4.0\") \\\n",
    "    .enableHiveSupport() \\\n",
    "\n",
    "spark = spark = configure_spark_with_delta_pip(builder).getOrCreate()"
   ]
  },
  {
   "cell_type": "code",
   "execution_count": 2,
   "id": "88209858-b626-4dbd-85c8-cb695a800e88",
   "metadata": {},
   "outputs": [],
   "source": [
    "literacia_df = spark.table(\"database.jobs\")\n",
    "popu_df = spark.table(\"database.population\")\n",
    "popu_df.withColumnRenamed(\"valor\", \"valorI\")\n",
    "literacia_df = literacia_df.filter(col(\"indicador_name\").like(\"%Literacy rate%\"))\n",
    "literacia_df = literacia_df.drop(col(\"indicador_name\"), col(\"pais_cod\"), col(\"indicador_code\"))\n",
    "popu_df = popu_df.filter(col(\"Indicator_code\").like(\"%SP.POP.TOTL%\"))\n",
    "popu_df = popu_df.drop(col(\"cod_pais\"), col(\"cod_indicador\"), col(\"nome_indicador\"), col(\"nome_pais\"), col(\"Country_code\"), col(\"Indicator_name\"), col(\"Indicator_code\"))\n",
    "popu_df = popu_df.withColumnRenamed(\"Country_name\", \"pais_name\")\n",
    "popu_df = popu_df.withColumnRenamed(\"valor\", \"valorI\")\n",
    "literacia_df = literacia_df.join(popu_df, [\"pais_name\", \"ano\"])\n",
    "literacia_df = literacia_df.withColumn(\"valorI\", ((col(\"valor\") / 100) * col(\"valorI\")).cast(\"int\"))"
   ]
  },
  {
   "cell_type": "code",
   "execution_count": 3,
   "id": "07531bba-dbc7-4987-a3f0-02b75ae3e866",
   "metadata": {},
   "outputs": [],
   "source": [
    "countries_to_filter = [\"United States\", \"Canada\", \"United Kingdom\", \"Germany\", \"France\"]\n",
    "literacia_df = literacia_df.filter(col(\"pais_name\").isin(countries_to_filter))"
   ]
  },
  {
   "cell_type": "code",
   "execution_count": 4,
   "id": "2c4b8771-5734-429e-a304-f864b16c44a9",
   "metadata": {},
   "outputs": [],
   "source": [
    "from pyspark.sql import functions as F\n",
    "north_america_df = literacia_df.filter(F.col(\"pais_name\").isin(\"United States\", \"Canada\")) \\\n",
    "    .withColumn(\"regiao\", F.lit(\"North America\")) \\\n",
    "    .groupBy(\"regiao\", \"ano\") \\\n",
    "    .agg(F.avg(\"valor\").alias(\"valor\"), F.avg(\"valorI\").alias(\"valorI\"))\n",
    "\n",
    "# Create a new DataFrame for Europe\n",
    "europe_df = literacia_df.filter(F.col(\"pais_name\").isin(\"United Kingdom\", \"Germany\", \"France\")) \\\n",
    "    .withColumn(\"regiao\", F.lit(\"Europe\")) \\\n",
    "    .groupBy(\"regiao\", \"ano\") \\\n",
    "    .agg(F.avg(\"valor\").alias(\"valor\"), F.avg(\"valorI\").alias(\"valorI\"))\n",
    "\n",
    "# Combine the DataFrames for North America and Europe\n",
    "literacia_df = north_america_df.unionAll(europe_df)\n",
    "\n",
    "literacia_df = literacia_df.withColumn(\"valor\", col(\"valor\").cast(FloatType()))\n",
    "\n",
    "literacia_df = literacia_df.withColumn(\"valorI\", col(\"valorI\").cast(IntegerType()))\n"
   ]
  },
  {
   "cell_type": "code",
   "execution_count": 5,
   "id": "63225465-63b1-4cb1-80a8-d7cf0a480062",
   "metadata": {},
   "outputs": [],
   "source": [
    "literacia_df \\\n",
    "    .write \\\n",
    "    .format(\"delta\") \\\n",
    "    .mode(\"overwrite\") \\\n",
    "    .save(\"hdfs://hdfs-nn:9000/Projeto/gold/TabelaLiteracia/\")"
   ]
  },
  {
   "cell_type": "code",
   "execution_count": 6,
   "id": "3d01ea16-6432-4c0e-8fdd-97c53058e3b3",
   "metadata": {},
   "outputs": [
    {
     "name": "stdout",
     "output_type": "stream",
     "text": [
      "+-------------+----+-----+------+\n",
      "|       regiao| ano|valor|valorI|\n",
      "+-------------+----+-----+------+\n",
      "|North America|1994| null|  null|\n",
      "|North America|2015| null|  null|\n",
      "|North America|2013| null|  null|\n",
      "|North America|1990| null|  null|\n",
      "|North America|1993| null|  null|\n",
      "|North America|2006| null|  null|\n",
      "|North America|1998| null|  null|\n",
      "|North America|2003| null|  null|\n",
      "|North America|2008| null|  null|\n",
      "|North America|2001| null|  null|\n",
      "|North America|2000| null|  null|\n",
      "|North America|2011| null|  null|\n",
      "|North America|1996| null|  null|\n",
      "|North America|2014| null|  null|\n",
      "|North America|2004| null|  null|\n",
      "|North America|1991| null|  null|\n",
      "|North America|2002| null|  null|\n",
      "|North America|2012| null|  null|\n",
      "|North America|1997| null|  null|\n",
      "|North America|1999| null|  null|\n",
      "+-------------+----+-----+------+\n",
      "only showing top 20 rows\n",
      "\n"
     ]
    }
   ],
   "source": [
    "spark.sql(\n",
    "    \"\"\"\n",
    "    SELECT * FROM database.LiteraciaGold\n",
    "    \"\"\"\n",
    ").show()"
   ]
  },
  {
   "cell_type": "code",
   "execution_count": 7,
   "id": "9991cbd7-1197-4542-8e5a-be578220d204",
   "metadata": {},
   "outputs": [],
   "source": [
    "spark.stop()"
   ]
  },
  {
   "cell_type": "code",
   "execution_count": null,
   "id": "199a44da-0d76-4f98-ad83-737c3252c0cc",
   "metadata": {},
   "outputs": [],
   "source": []
  }
 ],
 "metadata": {
  "kernelspec": {
   "display_name": "Python 3 (ipykernel)",
   "language": "python",
   "name": "python3"
  },
  "language_info": {
   "codemirror_mode": {
    "name": "ipython",
    "version": 3
   },
   "file_extension": ".py",
   "mimetype": "text/x-python",
   "name": "python",
   "nbconvert_exporter": "python",
   "pygments_lexer": "ipython3",
   "version": "3.11.5"
  }
 },
 "nbformat": 4,
 "nbformat_minor": 5
}

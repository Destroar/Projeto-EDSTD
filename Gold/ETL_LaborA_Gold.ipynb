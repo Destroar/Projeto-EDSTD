{
 "cells": [
  {
   "cell_type": "code",
   "execution_count": 1,
   "id": "967b9baa-0957-4bf8-b62f-502f42bf386f",
   "metadata": {},
   "outputs": [],
   "source": [
    "from pyspark.sql import SparkSession\n",
    "from pyspark.sql import Row\n",
    "from delta import *\n",
    "from pyspark.sql.types import LongType, StringType, StructField, StructType, BooleanType, ArrayType, IntegerType, FloatType\n",
    "from pyspark.sql.functions import expr, array, col, explode, arrays_zip, lit, avg, when, broadcast\n",
    "\n",
    "# warehouse_location points to the default location for managed databases and tables\n",
    "warehouse = 'hdfs://hdfs-nn:9000/warehouse'\n",
    "\n",
    "builder = SparkSession \\\n",
    "    .builder \\\n",
    "    .appName(\"Python Spark SQL Hive integration example\") \\\n",
    "    .config(\"spark.sql.warehouse.dir\", warehouse) \\\n",
    "    .config(\"hive.metastore.uris\", \"thrift://hive-metastore:9083\") \\\n",
    "    .config(\"spark.sql.extensions\", \"io.delta.sql.DeltaSparkSessionExtension\") \\\n",
    "    .config(\"spark.sql.catalog.spark_catalog\", \"org.apache.spark.sql.delta.catalog.DeltaCatalog\") \\\n",
    "    .config(\"spark.jars.packages\", \"io.delta:delta-core_2.12:2.4.0\") \\\n",
    "    .enableHiveSupport() \\\n",
    "\n",
    "spark = spark = configure_spark_with_delta_pip(builder).getOrCreate()"
   ]
  },
  {
   "cell_type": "code",
   "execution_count": 2,
   "id": "88209858-b626-4dbd-85c8-cb695a800e88",
   "metadata": {},
   "outputs": [],
   "source": [
    "jobs_df = spark.table(\"database.jobs\")\n",
    "popu_df = spark.table(\"database.population\")\n",
    "jobs_df = jobs_df.filter(col(\"indicador_name\").like(\"%Labor force with advanced education%\"))\n",
    "jobs_df = jobs_df.drop(col(\"pais_cod\"), col(\"indicador_code\"))\n",
    "popu_df = popu_df.filter(col(\"cod_indicador\").like(\"%SP.POP.TOTL%\"))\n",
    "popu_df = popu_df.drop(col(\"cod_pais\"), col(\"cod_indicador\"), col(\"nome_indicador\"), col(\"Country_name\"), col(\"Country_code\"), col(\"Indicator_name\"), col(\"Indicator_code\"))\n",
    "popu_df = popu_df.withColumnRenamed(\"valor\", \"valorI\")\n",
    "popu_df = popu_df.withColumnRenamed(\"nome_pais\", \"pais_name\")\n",
    "popu_df = popu_df.withColumn(\"ano\", col(\"ano\").cast(IntegerType()))"
   ]
  },
  {
   "cell_type": "code",
   "execution_count": 3,
   "id": "ba81d025-b671-4c75-bf24-6766142c7608",
   "metadata": {},
   "outputs": [],
   "source": [
    "paises = [\"%Liechtenstein%\", \"%Germany%\", \"%Denmark%\", \"%Switzerland%\", \"%Poland%\", \"%Czech%\", \n",
    "          \"%Slovakia%\", \"%Slovenia%\", \"%Hungary%\", \"%Austria%\"]\n",
    "anos = [\"2010\", \"2011\", \"2012\", \"2013\", \"2014\", \"2015\"]\n",
    "\n",
    "jobs_df = jobs_df.filter(\n",
    "    col(\"pais_name\").like(paises[0]) |\n",
    "    col(\"pais_name\").like(paises[1]) |\n",
    "    col(\"pais_name\").like(paises[2]) |\n",
    "    col(\"pais_name\").like(paises[3]) |\n",
    "    col(\"pais_name\").like(paises[4]) |\n",
    "    col(\"pais_name\").like(paises[5]) |\n",
    "    col(\"pais_name\").like(paises[6]) |\n",
    "    col(\"pais_name\").like(paises[7]) |\n",
    "    col(\"pais_name\").like(paises[8]) |\n",
    "    col(\"pais_name\").like(paises[9])\n",
    ").filter(\n",
    "    col(\"ano\").isin(anos) &\n",
    "    col(\"valor\").isNotNull()\n",
    ")\n",
    "\n",
    "popu_df = popu_df.filter(\n",
    "    col(\"pais_name\").like(paises[0]) |\n",
    "    col(\"pais_name\").like(paises[1]) |\n",
    "    col(\"pais_name\").like(paises[2]) |\n",
    "    col(\"pais_name\").like(paises[3]) |\n",
    "    col(\"pais_name\").like(paises[4]) |\n",
    "    col(\"pais_name\").like(paises[5]) |\n",
    "    col(\"pais_name\").like(paises[6]) |\n",
    "    col(\"pais_name\").like(paises[7]) |\n",
    "    col(\"pais_name\").like(paises[8]) |\n",
    "    col(\"pais_name\").like(paises[9])\n",
    ").filter(\n",
    "    col(\"ano\").isin(anos) &\n",
    "    col(\"valorI\").isNotNull()\n",
    ")"
   ]
  },
  {
   "cell_type": "code",
   "execution_count": 4,
   "id": "9c9a677c-8569-4b14-85c3-019340823470",
   "metadata": {},
   "outputs": [],
   "source": [
    "literacia_df = popu_df.join(jobs_df, [\"pais_name\", \"ano\"], \"left\")\n",
    "literacia_df = literacia_df.withColumn(\"valorI\", ((col(\"valor\") / 100) * (col(\"valorI\") / 2)).cast(\"int\"))\n",
    "literacia_df = literacia_df.withColumnRenamed(\"pais_name\", \"paises\")"
   ]
  },
  {
   "cell_type": "code",
   "execution_count": 5,
   "id": "d9115086-06f5-4624-8b06-08c15121f9aa",
   "metadata": {},
   "outputs": [],
   "source": [
    "literacia_df = literacia_df.withColumn(\"genero\",\n",
    "    when(col(\"indicador_name\").like(\"% female%\"), \"F\")\n",
    "    .when(col(\"indicador_name\").like(\"% male%\"), \"M\")\n",
    ")\n",
    "\n",
    "literacia_df = literacia_df.filter(col(\"genero\").isNotNull())\n",
    "\n",
    "literacia_df = literacia_df.drop(col(\"indicador_name\"))"
   ]
  },
  {
   "cell_type": "code",
   "execution_count": 6,
   "id": "63225465-63b1-4cb1-80a8-d7cf0a480062",
   "metadata": {},
   "outputs": [],
   "source": [
    "literacia_df \\\n",
    "    .write \\\n",
    "    .format(\"delta\") \\\n",
    "    .mode(\"overwrite\") \\\n",
    "    .save(\"hdfs://hdfs-nn:9000/Projeto/gold/TabelaLaborA/\")"
   ]
  },
  {
   "cell_type": "code",
   "execution_count": 7,
   "id": "3d01ea16-6432-4c0e-8fdd-97c53058e3b3",
   "metadata": {},
   "outputs": [
    {
     "name": "stdout",
     "output_type": "stream",
     "text": [
      "+-------+----+-------+--------+------+\n",
      "| paises| ano|  valor|  valorI|genero|\n",
      "+-------+----+-------+--------+------+\n",
      "|Denmark|2010|80.1306| 2222695|     F|\n",
      "|Denmark|2011|79.4572| 2213110|     F|\n",
      "|Denmark|2012|79.5007| 2222669|     F|\n",
      "|Denmark|2013|78.3737| 2200315|     F|\n",
      "|Denmark|2014|78.1326| 2204696|     F|\n",
      "|Denmark|2015|78.4618| 2229681|     F|\n",
      "|Denmark|2010|78.9792| 2190757|     M|\n",
      "|Denmark|2011|79.1329| 2204077|     M|\n",
      "|Denmark|2012|78.9636| 2207653|     M|\n",
      "|Denmark|2013|78.2359| 2196446|     M|\n",
      "|Denmark|2014|77.0424| 2173934|     M|\n",
      "|Denmark|2015|77.1271| 2191752|     M|\n",
      "|Germany|2010|72.9555|29830382|     F|\n",
      "|Germany|2011|73.8338|29635036|     F|\n",
      "|Germany|2012|73.6189|29604302|     F|\n",
      "|Germany|2013|73.4874|29632178|     F|\n",
      "|Germany|2014|73.1157|29605459|     F|\n",
      "|Germany|2015|72.8219|29742869|     F|\n",
      "|Germany|2010|73.4659|30039076|     M|\n",
      "|Germany|2011|74.3946|29860126|     M|\n",
      "+-------+----+-------+--------+------+\n",
      "only showing top 20 rows\n",
      "\n"
     ]
    }
   ],
   "source": [
    "spark.sql(\n",
    "    \"\"\"\n",
    "    SELECT * FROM database.LaborAGold\n",
    "    \"\"\"\n",
    ").show()"
   ]
  },
  {
   "cell_type": "code",
   "execution_count": 8,
   "id": "9991cbd7-1197-4542-8e5a-be578220d204",
   "metadata": {},
   "outputs": [],
   "source": [
    "spark.stop()"
   ]
  },
  {
   "cell_type": "code",
   "execution_count": null,
   "id": "199a44da-0d76-4f98-ad83-737c3252c0cc",
   "metadata": {},
   "outputs": [],
   "source": []
  }
 ],
 "metadata": {
  "kernelspec": {
   "display_name": "Python 3 (ipykernel)",
   "language": "python",
   "name": "python3"
  },
  "language_info": {
   "codemirror_mode": {
    "name": "ipython",
    "version": 3
   },
   "file_extension": ".py",
   "mimetype": "text/x-python",
   "name": "python",
   "nbconvert_exporter": "python",
   "pygments_lexer": "ipython3",
   "version": "3.11.5"
  }
 },
 "nbformat": 4,
 "nbformat_minor": 5
}

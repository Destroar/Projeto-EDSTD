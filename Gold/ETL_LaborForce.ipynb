{
 "cells": [
  {
   "cell_type": "code",
   "execution_count": 1,
   "id": "0942461e-92e4-47b3-872b-c02613d9d5f9",
   "metadata": {},
   "outputs": [],
   "source": [
    "from pyspark.sql import SparkSession\n",
    "from pyspark.sql import Row\n",
    "from delta import *\n",
    "from pyspark.sql.types import LongType, StringType, StructField, StructType, BooleanType, ArrayType, IntegerType, FloatType\n",
    "from pyspark.sql.functions import expr, array, col, explode, arrays_zip, when  # Importe a função 'when'\n",
    "\n",
    "# warehouse_location points to the default location for managed databases and tables\n",
    "warehouse = 'hdfs://hdfs-nn:9000/warehouse'\n",
    "\n",
    "builder = SparkSession \\\n",
    "    .builder \\\n",
    "    .appName(\"Python Spark SQL Hive integration example\") \\\n",
    "    .config(\"spark.sql.warehouse.dir\", warehouse) \\\n",
    "    .config(\"hive.metastore.uris\", \"thrift://hive-metastore:9083\") \\\n",
    "    .config(\"spark.sql.extensions\", \"io.delta.sql.DeltaSparkSessionExtension\") \\\n",
    "    .config(\"spark.sql.catalog.spark_catalog\", \"org.apache.spark.sql.delta.catalog.DeltaCatalog\") \\\n",
    "    .config(\"spark.jars.packages\", \"io.delta:delta-core_2.12:2.4.0\") \\\n",
    "    .enableHiveSupport()\n",
    "\n",
    "spark = configure_spark_with_delta_pip(builder).getOrCreate()\n"
   ]
  },
  {
   "cell_type": "code",
   "execution_count": 2,
   "id": "2b734ff5-60c4-42c6-b181-ff09723d2659",
   "metadata": {},
   "outputs": [],
   "source": [
    "# Lista de países desejados\n",
    "desired_countries = [\"Liechtenstein\", \"Germany\", \"Denmark\", \"Switzerland\", \"Poland\", \"Czech\", \"Slovakia\", \"Slovenia\", \"Hungary\", \"Austria\"]\n"
   ]
  },
  {
   "cell_type": "code",
   "execution_count": 3,
   "id": "13ca9a21-bb10-44df-aa18-f7481a2e5413",
   "metadata": {},
   "outputs": [
    {
     "name": "stdout",
     "output_type": "stream",
     "text": [
      "+---------+--------------------+----+------+------+\n",
      "|pais_name|      indicador_name| ano| valor|genero|\n",
      "+---------+--------------------+----+------+------+\n",
      "|  Austria|Labor force parti...|2010|53.507|     F|\n",
      "|  Austria|Labor force parti...|2011| 53.84|     F|\n",
      "|  Austria|Labor force parti...|2012|54.336|     F|\n",
      "|  Austria|Labor force parti...|2013|54.597|     F|\n",
      "|  Austria|Labor force parti...|2014|54.561|     F|\n",
      "|  Austria|Labor force parti...|2015|54.536|     F|\n",
      "|  Austria|Labor force parti...|2010|66.864|     M|\n",
      "|  Austria|Labor force parti...|2011|66.625|     M|\n",
      "|  Austria|Labor force parti...|2012|66.648|     M|\n",
      "|  Austria|Labor force parti...|2013|66.642|     M|\n",
      "|  Austria|Labor force parti...|2014|66.102|     M|\n",
      "|  Austria|Labor force parti...|2015|65.994|     M|\n",
      "|  Austria|Own-account worke...|2010| 6.176|     F|\n",
      "|  Austria|Own-account worke...|2011| 6.052|     F|\n",
      "|  Austria|Own-account worke...|2012| 6.086|     F|\n",
      "|  Austria|Own-account worke...|2013| 6.317|     F|\n",
      "|  Austria|Own-account worke...|2014| 6.051|     F|\n",
      "|  Austria|Own-account worke...|2015| 6.205|     F|\n",
      "|  Austria|Own-account worke...|2010| 7.504|     M|\n",
      "|  Austria|Own-account worke...|2011| 7.048|     M|\n",
      "+---------+--------------------+----+------+------+\n",
      "only showing top 20 rows\n",
      "\n"
     ]
    }
   ],
   "source": [
    "# Filtrar dados para o indicador e país específicos nos anos de 2010 a 2015\n",
    "tempo_nec = spark.table(\"database2.jobs\")\n",
    "tempo_nec = tempo_nec.filter((col(\"indicador_name\").like(\"%Labor force participation rate%\")) | (col(\"indicador_name\").like(\"%Own-account%\")))\n",
    "tempo_nec = tempo_nec.filter(col(\"pais_name\").isin(desired_countries))\n",
    "tempo_nec = tempo_nec.filter(col(\"ano\").between(\"2010\", \"2015\"))  # Modificação para incluir anos de 2010 a 2015\n",
    "tempo_nec = tempo_nec.drop(col(\"pais_cod\"), col(\"indicador_code\"))\n",
    "tempo_nec = tempo_nec.withColumn(\"genero\",\n",
    "    when(col(\"indicador_name\").like(\"% female%\"), \"F\")\n",
    "    .when(col(\"indicador_name\").like(\"% male%\"), \"M\")\n",
    ")\n",
    "\n",
    "tempo_nec = tempo_nec.filter(col(\"genero\").isNotNull())\n",
    "tempo_nec.show()"
   ]
  },
  {
   "cell_type": "code",
   "execution_count": 4,
   "id": "31243068-c516-4eb2-b48a-defc7ec2da1d",
   "metadata": {},
   "outputs": [],
   "source": [
    "tempo_nec \\\n",
    "    .write \\\n",
    "    .format(\"delta\") \\\n",
    "    .mode(\"overwrite\") \\\n",
    "    .option(\"mergeSchema\", \"true\") \\\n",
    "    .save(\"hdfs://hdfs-nn:9000/Projeto/gold/TabelaTempNec/\")"
   ]
  },
  {
   "cell_type": "code",
   "execution_count": 5,
   "id": "f823536f-b0f0-4154-b3da-a7033b15dd37",
   "metadata": {},
   "outputs": [
    {
     "name": "stdout",
     "output_type": "stream",
     "text": [
      "+---------+--------------------+----+------+------+\n",
      "|pais_name|      indicador_name| ano| valor|genero|\n",
      "+---------+--------------------+----+------+------+\n",
      "|   Poland|Labor force parti...|2010|48.272|     F|\n",
      "|   Poland|Labor force parti...|2011|48.372|     F|\n",
      "|   Poland|Labor force parti...|2012|48.764|     F|\n",
      "|   Poland|Labor force parti...|2013|48.778|     F|\n",
      "|   Poland|Labor force parti...|2014|49.164|     F|\n",
      "|   Poland|Labor force parti...|2015|48.996|     F|\n",
      "|   Poland|Labor force parti...|2010|64.264|     M|\n",
      "|   Poland|Labor force parti...|2011|64.483|     M|\n",
      "|   Poland|Labor force parti...|2012| 64.73|     M|\n",
      "|   Poland|Labor force parti...|2013|64.874|     M|\n",
      "|   Poland|Labor force parti...|2014|65.231|     M|\n",
      "|   Poland|Labor force parti...|2015|65.082|     M|\n",
      "|   Poland|Own-account worke...|2010|11.781|     F|\n",
      "|   Poland|Own-account worke...|2011|11.697|     F|\n",
      "|   Poland|Own-account worke...|2012|11.361|     F|\n",
      "|   Poland|Own-account worke...|2013|10.885|     F|\n",
      "|   Poland|Own-account worke...|2014|10.488|     F|\n",
      "|   Poland|Own-account worke...|2015| 10.85|     F|\n",
      "|   Poland|Own-account worke...|2010|17.359|     M|\n",
      "|   Poland|Own-account worke...|2011| 17.51|     M|\n",
      "+---------+--------------------+----+------+------+\n",
      "only showing top 20 rows\n",
      "\n"
     ]
    }
   ],
   "source": [
    "spark.sql(\n",
    "    \"\"\"\n",
    "    SELECT * FROM database.TempoNec\n",
    "    \"\"\"\n",
    ").show()"
   ]
  },
  {
   "cell_type": "code",
   "execution_count": 6,
   "id": "16d005a2-f5c3-481e-895b-f11d26ab66b5",
   "metadata": {},
   "outputs": [],
   "source": [
    "spark.stop()"
   ]
  }
 ],
 "metadata": {
  "kernelspec": {
   "display_name": "Python 3 (ipykernel)",
   "language": "python",
   "name": "python3"
  },
  "language_info": {
   "codemirror_mode": {
    "name": "ipython",
    "version": 3
   },
   "file_extension": ".py",
   "mimetype": "text/x-python",
   "name": "python",
   "nbconvert_exporter": "python",
   "pygments_lexer": "ipython3",
   "version": "3.11.5"
  }
 },
 "nbformat": 4,
 "nbformat_minor": 5
}

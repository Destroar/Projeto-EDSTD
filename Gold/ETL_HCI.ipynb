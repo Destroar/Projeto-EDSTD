{
 "cells": [
  {
   "cell_type": "code",
   "execution_count": 1,
   "id": "7ac488a7-9376-4819-b16f-a0a58cfcc3bb",
   "metadata": {},
   "outputs": [],
   "source": [
    "from pyspark.sql import SparkSession\n",
    "from pyspark.sql import Row\n",
    "from delta import *\n",
    "from pyspark.sql.types import LongType, StringType, StructField, StructType, BooleanType, ArrayType, IntegerType, FloatType\n",
    "from pyspark.sql.functions import expr, array, col, explode, arrays_zip\n",
    "\n",
    "# warehouse_location points to the default location for managed databases and tables\n",
    "warehouse = 'hdfs://hdfs-nn:9000/warehouse'\n",
    "\n",
    "builder = SparkSession \\\n",
    "    .builder \\\n",
    "    .appName(\"Python Spark SQL Hive integration example\") \\\n",
    "    .config(\"spark.sql.warehouse.dir\", warehouse) \\\n",
    "    .config(\"hive.metastore.uris\", \"thrift://hive-metastore:9083\") \\\n",
    "    .config(\"spark.sql.extensions\", \"io.delta.sql.DeltaSparkSessionExtension\") \\\n",
    "    .config(\"spark.sql.catalog.spark_catalog\", \"org.apache.spark.sql.delta.catalog.DeltaCatalog\") \\\n",
    "    .config(\"spark.jars.packages\", \"io.delta:delta-core_2.12:2.4.0\") \\\n",
    "    .enableHiveSupport() \\\n",
    "\n",
    "spark = spark = configure_spark_with_delta_pip(builder).getOrCreate()"
   ]
  },
  {
   "cell_type": "code",
   "execution_count": 2,
   "id": "287a4fb6-575b-4653-a5c7-ea1c086b9568",
   "metadata": {},
   "outputs": [],
   "source": [
    "# Carregar tabelas\n",
    "own_account = spark.table(\"database.jobs\")\n",
    "hci = spark.table(\"database.gender\")\n",
    "\n",
    "# Filtrar dados nas tabelas\n",
    "own_account = own_account.filter(col(\"indicador_name\").like(\"%Own-account%\"))\n",
    "own_account = own_account.filter(col(\"pais_name\").like(\"%Portugal%\"))\n",
    "own_account = own_account.filter(col(\"ano\").like(\"2014\"))\n",
    "\n",
    "hci = hci.filter(col(\"nome_pais\").like(\"%United States%\"))\n",
    "hci = hci.filter(col(\"nome_indicador\").like(\"%Saved at a financial institution%\"))\n",
    "hci = hci.filter(col(\"ano\").like(\"2014\"))"
   ]
  },
  {
   "cell_type": "code",
   "execution_count": 3,
   "id": "b52e5e56-f40d-4b18-981a-3aec1338c477",
   "metadata": {},
   "outputs": [],
   "source": [
    "# Selecionar apenas as colunas desejadas\n",
    "own_account = own_account.select(\"ano\", \"indicador_name\", \"valor\")\n",
    "hci = hci.select(\"ano\", \"nome_pais\", \"nome_indicador\", \"valor\")\n"
   ]
  },
  {
   "cell_type": "code",
   "execution_count": 4,
   "id": "38bbe79f-7e0e-45d7-858f-15ed35bb2162",
   "metadata": {},
   "outputs": [
    {
     "name": "stdout",
     "output_type": "stream",
     "text": [
      "+---------------+--------------------+-----------------+\n",
      "|ano_own_account|      indicador_name|valor_own_account|\n",
      "+---------------+--------------------+-----------------+\n",
      "|           2014|Own-account worke...|           11.158|\n",
      "|           2014|Own-account worke...|           16.705|\n",
      "|           2014|Own-account worke...|           14.019|\n",
      "+---------------+--------------------+-----------------+\n",
      "\n",
      "+-----------------+-------------+--------------------+-------------------+\n",
      "|ano_publicpayment|    nome_pais|      nome_indicador|valor_publicpayment|\n",
      "+-----------------+-------------+--------------------+-------------------+\n",
      "|             2014|United States|Saved at a financ...|              54.11|\n",
      "|             2014|United States|Saved at a financ...|              53.47|\n",
      "|             2014|United States|Saved at a financ...|              54.77|\n",
      "+-----------------+-------------+--------------------+-------------------+\n",
      "\n"
     ]
    }
   ],
   "source": [
    "# Renomear colunas nas tabelas originais\n",
    "own_account = own_account.withColumnRenamed(\"ano\", \"ano_own_account\").withColumnRenamed(\"valor\", \"valor_own_account\")\n",
    "hci = hci.withColumnRenamed(\"ano\", \"ano_publicpayment\").withColumnRenamed(\"valor\", \"valor_publicpayment\")\n",
    "# Remover linhas com valor null\n",
    "own_account = own_account.na.drop()\n",
    "hci = hci.na.drop()\n",
    "own_account.show()\n",
    "hci.show()"
   ]
  },
  {
   "cell_type": "code",
   "execution_count": 5,
   "id": "d7b563ad-e6b5-4590-aa6b-784e49638acf",
   "metadata": {},
   "outputs": [],
   "source": [
    "# Realizar a junção\n",
    "joined_data = own_account.join(hci, own_account[\"ano_own_account\"] == hci[\"ano_publicpayment\"], \"inner\")\n"
   ]
  },
  {
   "cell_type": "code",
   "execution_count": 6,
   "id": "9d349a25-3b5f-43ce-8a12-b20908690750",
   "metadata": {},
   "outputs": [],
   "source": [
    "spark.conf.set(\"spark.databricks.delta.schema.autoMerge.enabled\", \"true\")\n",
    "\n",
    "joined_data.write \\\n",
    "    .format(\"delta\") \\\n",
    "    .mode(\"overwrite\") \\\n",
    "    .option(\"mergeSchema\", \"true\") \\\n",
    "    .save(\"hdfs://hdfs-nn:9000/Projeto/gold/TabelaHCI\")\n"
   ]
  },
  {
   "cell_type": "code",
   "execution_count": 7,
   "id": "2f79838d-d3cb-4dee-9c3c-acad74f9487d",
   "metadata": {},
   "outputs": [
    {
     "name": "stdout",
     "output_type": "stream",
     "text": [
      "+---------------+--------------------+-----------------+-----------------+-------------+--------------------+-------------------+\n",
      "|ano_own_account|      indicador_name|valor_own_account|ano_publicpayment|    nome_pais|      nome_indicador|valor_publicpayment|\n",
      "+---------------+--------------------+-----------------+-----------------+-------------+--------------------+-------------------+\n",
      "|           2014|Own-account worke...|           14.019|             2014|United States|Saved at a financ...|              54.11|\n",
      "|           2014|Own-account worke...|           16.705|             2014|United States|Saved at a financ...|              54.11|\n",
      "|           2014|Own-account worke...|           11.158|             2014|United States|Saved at a financ...|              54.11|\n",
      "|           2014|Own-account worke...|           14.019|             2014|United States|Saved at a financ...|              53.47|\n",
      "|           2014|Own-account worke...|           16.705|             2014|United States|Saved at a financ...|              53.47|\n",
      "|           2014|Own-account worke...|           11.158|             2014|United States|Saved at a financ...|              53.47|\n",
      "|           2014|Own-account worke...|           14.019|             2014|United States|Saved at a financ...|              54.77|\n",
      "|           2014|Own-account worke...|           16.705|             2014|United States|Saved at a financ...|              54.77|\n",
      "|           2014|Own-account worke...|           11.158|             2014|United States|Saved at a financ...|              54.77|\n",
      "+---------------+--------------------+-----------------+-----------------+-------------+--------------------+-------------------+\n",
      "\n"
     ]
    }
   ],
   "source": [
    "# Exibir os resultados\n",
    "joined_data.show(20)"
   ]
  },
  {
   "cell_type": "code",
   "execution_count": 8,
   "id": "83e45df0-47d8-4887-962a-5f879fa7fc3f",
   "metadata": {},
   "outputs": [],
   "source": [
    "spark.stop()"
   ]
  }
 ],
 "metadata": {
  "kernelspec": {
   "display_name": "Python 3 (ipykernel)",
   "language": "python",
   "name": "python3"
  },
  "language_info": {
   "codemirror_mode": {
    "name": "ipython",
    "version": 3
   },
   "file_extension": ".py",
   "mimetype": "text/x-python",
   "name": "python",
   "nbconvert_exporter": "python",
   "pygments_lexer": "ipython3",
   "version": "3.11.5"
  }
 },
 "nbformat": 4,
 "nbformat_minor": 5
}

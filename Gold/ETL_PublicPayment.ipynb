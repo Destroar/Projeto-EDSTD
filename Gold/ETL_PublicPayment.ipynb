{
 "cells": [
  {
   "cell_type": "code",
   "execution_count": 1,
   "id": "33ee4207-7122-4d16-bff4-bd90729e3e6c",
   "metadata": {},
   "outputs": [],
   "source": [
    "from pyspark.sql import SparkSession\n",
    "from pyspark.sql import Row\n",
    "from delta import *\n",
    "from pyspark.sql.types import LongType, StringType, StructField, StructType, BooleanType, ArrayType, IntegerType, FloatType\n",
    "from pyspark.sql.functions import expr, array, col, explode, arrays_zip\n",
    "\n",
    "# warehouse_location points to the default location for managed databases and tables\n",
    "warehouse = 'hdfs://hdfs-nn:9000/warehouse'\n",
    "\n",
    "builder = SparkSession \\\n",
    "    .builder \\\n",
    "    .appName(\"Python Spark SQL Hive integration example\") \\\n",
    "    .config(\"spark.sql.warehouse.dir\", warehouse) \\\n",
    "    .config(\"hive.metastore.uris\", \"thrift://hive-metastore:9083\") \\\n",
    "    .config(\"spark.sql.extensions\", \"io.delta.sql.DeltaSparkSessionExtension\") \\\n",
    "    .config(\"spark.sql.catalog.spark_catalog\", \"org.apache.spark.sql.delta.catalog.DeltaCatalog\") \\\n",
    "    .config(\"spark.jars.packages\", \"io.delta:delta-core_2.12:2.4.0\") \\\n",
    "    .enableHiveSupport() \\\n",
    "\n",
    "spark = spark = configure_spark_with_delta_pip(builder).getOrCreate()"
   ]
  },
  {
   "cell_type": "code",
   "execution_count": 2,
   "id": "9ed3339d-1872-4c46-bcc2-b07c7073be87",
   "metadata": {},
   "outputs": [],
   "source": [
    "# Carregar tabelas\n",
    "own_account = spark.table(\"database2.jobs\")\n",
    "publicpayment = spark.table(\"database2.gender\")\n",
    "\n",
    "# Filtrar dados nas tabelas\n",
    "own_account = own_account.filter(col(\"indicador_name\").like(\"%Own-account%\"))\n",
    "own_account = own_account.filter(col(\"pais_name\").like(\"%Portugal%\"))\n",
    "own_account = own_account.filter(col(\"ano\").like(\"2014\"))\n",
    "\n",
    "publicpayment = publicpayment.filter(col(\"nome_pais\").like(\"%United States%\"))\n",
    "publicpayment = publicpayment.filter(col(\"nome_indicador\").like(\"%Saved at a financial institution%\"))\n",
    "publicpayment = publicpayment.filter(col(\"ano\").like(\"2014\"))"
   ]
  },
  {
   "cell_type": "code",
   "execution_count": 3,
   "id": "ab3257f5-c82d-41f8-9e7e-923ad8b8eacb",
   "metadata": {},
   "outputs": [],
   "source": [
    "# Selecionar apenas as colunas desejadas\n",
    "own_account = own_account.select(\"ano\", \"indicador_name\", \"valor\")\n",
    "publicpayment = publicpayment.select(\"ano\", \"nome_pais\", \"nome_indicador\", \"valor\")\n"
   ]
  },
  {
   "cell_type": "code",
   "execution_count": 4,
   "id": "f67c520e-a4b5-46dc-ad4d-ea022345f9dd",
   "metadata": {
    "scrolled": true
   },
   "outputs": [
    {
     "name": "stdout",
     "output_type": "stream",
     "text": [
      "+---------------+--------------------+-----------------+\n",
      "|ano_own_account|      indicador_name|valor_own_account|\n",
      "+---------------+--------------------+-----------------+\n",
      "|           2014|Own-account worke...|           11.158|\n",
      "|           2014|Own-account worke...|           16.705|\n",
      "|           2014|Own-account worke...|           14.019|\n",
      "+---------------+--------------------+-----------------+\n",
      "\n",
      "+-----------------+-------------+--------------------+-------------------+\n",
      "|ano_publicpayment|    nome_pais|      nome_indicador|valor_publicpayment|\n",
      "+-----------------+-------------+--------------------+-------------------+\n",
      "|             2014|United States|Saved at a financ...|              54.11|\n",
      "|             2014|United States|Saved at a financ...|              53.47|\n",
      "|             2014|United States|Saved at a financ...|              54.77|\n",
      "+-----------------+-------------+--------------------+-------------------+\n",
      "\n"
     ]
    }
   ],
   "source": [
    "# Renomear colunas nas tabelas originais\n",
    "own_account = own_account.withColumnRenamed(\"ano\", \"ano_own_account\").withColumnRenamed(\"valor\", \"valor_own_account\")\n",
    "publicpayment = publicpayment.withColumnRenamed(\"ano\", \"ano_publicpayment\").withColumnRenamed(\"valor\", \"valor_publicpayment\")\n",
    "# Remover linhas com valor null\n",
    "own_account = own_account.na.drop()\n",
    "publicpayment = publicpayment.na.drop()\n",
    "own_account.show()\n",
    "publicpayment.show()"
   ]
  },
  {
   "cell_type": "code",
   "execution_count": 5,
   "id": "4f137fd6-35ca-46b9-885a-870d4421de4e",
   "metadata": {},
   "outputs": [],
   "source": [
    "# Realizar a junção\n",
    "joined_data = own_account.join(publicpayment, own_account[\"ano_own_account\"] == publicpayment[\"ano_publicpayment\"], \"inner\")\n"
   ]
  },
  {
   "cell_type": "code",
   "execution_count": 6,
   "id": "08f90c76-92b5-4f25-b062-4b3ad888c3d9",
   "metadata": {},
   "outputs": [],
   "source": [
    "spark.conf.set(\"spark.databricks.delta.schema.autoMerge.enabled\", \"true\")\n",
    "\n",
    "joined_data.write \\\n",
    "    .format(\"delta\") \\\n",
    "    .mode(\"overwrite\") \\\n",
    "    .option(\"mergeSchema\", \"true\") \\\n",
    "    .save(\"hdfs://hdfs-nn:9000/Projeto/gold/TabelaPublicPayment\")\n"
   ]
  },
  {
   "cell_type": "code",
   "execution_count": 7,
   "id": "14d5b932-0b3b-4bc8-b003-693e9ad65811",
   "metadata": {},
   "outputs": [
    {
     "name": "stdout",
     "output_type": "stream",
     "text": [
      "+---------------+--------------------+-----------------+-----------------+-------------+--------------------+-------------------+\n",
      "|ano_own_account|      indicador_name|valor_own_account|ano_publicpayment|    nome_pais|      nome_indicador|valor_publicpayment|\n",
      "+---------------+--------------------+-----------------+-----------------+-------------+--------------------+-------------------+\n",
      "|           2014|Own-account worke...|           14.019|             2014|United States|Saved at a financ...|              54.11|\n",
      "|           2014|Own-account worke...|           16.705|             2014|United States|Saved at a financ...|              54.11|\n",
      "|           2014|Own-account worke...|           11.158|             2014|United States|Saved at a financ...|              54.11|\n",
      "|           2014|Own-account worke...|           14.019|             2014|United States|Saved at a financ...|              53.47|\n",
      "|           2014|Own-account worke...|           16.705|             2014|United States|Saved at a financ...|              53.47|\n",
      "|           2014|Own-account worke...|           11.158|             2014|United States|Saved at a financ...|              53.47|\n",
      "|           2014|Own-account worke...|           14.019|             2014|United States|Saved at a financ...|              54.77|\n",
      "|           2014|Own-account worke...|           16.705|             2014|United States|Saved at a financ...|              54.77|\n",
      "|           2014|Own-account worke...|           11.158|             2014|United States|Saved at a financ...|              54.77|\n",
      "+---------------+--------------------+-----------------+-----------------+-------------+--------------------+-------------------+\n",
      "\n"
     ]
    }
   ],
   "source": [
    "# Exibir os resultados\n",
    "joined_data.show(20)"
   ]
  },
  {
   "cell_type": "code",
   "execution_count": 8,
   "id": "1169c8f8-1e1d-4197-aad9-c5cfe45001bb",
   "metadata": {},
   "outputs": [],
   "source": [
    "spark.stop()"
   ]
  }
 ],
 "metadata": {
  "kernelspec": {
   "display_name": "Python 3 (ipykernel)",
   "language": "python",
   "name": "python3"
  },
  "language_info": {
   "codemirror_mode": {
    "name": "ipython",
    "version": 3
   },
   "file_extension": ".py",
   "mimetype": "text/x-python",
   "name": "python",
   "nbconvert_exporter": "python",
   "pygments_lexer": "ipython3",
   "version": "3.11.5"
  }
 },
 "nbformat": 4,
 "nbformat_minor": 5
}

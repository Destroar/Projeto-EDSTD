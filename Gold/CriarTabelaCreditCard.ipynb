{
 "cells": [
  {
   "cell_type": "code",
   "execution_count": 1,
   "id": "250fabd3-e1e0-4d20-9e0d-33cb49ac5b31",
   "metadata": {},
   "outputs": [
    {
     "name": "stdout",
     "output_type": "stream",
     "text": [
      "Requirement already satisfied: delta-spark==2.4.0 in /opt/conda/lib/python3.11/site-packages (2.4.0)\n",
      "Requirement already satisfied: pyspark<3.5.0,>=3.4.0 in /usr/local/spark/python (from delta-spark==2.4.0) (3.4.1)\n",
      "Requirement already satisfied: importlib-metadata>=1.0.0 in /opt/conda/lib/python3.11/site-packages (from delta-spark==2.4.0) (6.8.0)\n",
      "Requirement already satisfied: zipp>=0.5 in /opt/conda/lib/python3.11/site-packages (from importlib-metadata>=1.0.0->delta-spark==2.4.0) (3.16.2)\n",
      "Requirement already satisfied: py4j==0.10.9.7 in /opt/conda/lib/python3.11/site-packages (from pyspark<3.5.0,>=3.4.0->delta-spark==2.4.0) (0.10.9.7)\n",
      "Note: you may need to restart the kernel to use updated packages.\n"
     ]
    }
   ],
   "source": [
    "pip install delta-spark==2.4.0"
   ]
  },
  {
   "cell_type": "code",
   "execution_count": 2,
   "id": "d0c72672-0314-4a33-9316-4eb019af34a3",
   "metadata": {},
   "outputs": [],
   "source": [
    "from pyspark.sql import SparkSession\n",
    "from pyspark.sql import Row\n",
    "from delta import *\n",
    "\n",
    "# warehouse_location points to the default location for managed databases and tables\n",
    "warehouse = 'hdfs://hdfs-nn:9000/warehouse'\n",
    "\n",
    "builder = SparkSession \\\n",
    "    .builder \\\n",
    "    .appName(\"Python Spark SQL Hive integration example\") \\\n",
    "    .config(\"spark.sql.warehouse.dir\", warehouse) \\\n",
    "    .config(\"hive.metastore.uris\", \"thrift://hive-metastore:9083\") \\\n",
    "    .config(\"spark.sql.extensions\", \"io.delta.sql.DeltaSparkSessionExtension\") \\\n",
    "    .config(\"spark.sql.catalog.spark_catalog\", \"org.apache.spark.sql.delta.catalog.DeltaCatalog\") \\\n",
    "    .config(\"spark.jars.packages\", \"io.delta:delta-core_2.12:2.4.0\") \\\n",
    "    .enableHiveSupport() \\\n",
    "\n",
    "spark = spark = configure_spark_with_delta_pip(builder).getOrCreate()"
   ]
  },
  {
   "cell_type": "code",
   "execution_count": 3,
   "id": "481e2061-146f-4e8a-99eb-9ab81a812de0",
   "metadata": {},
   "outputs": [
    {
     "name": "stdout",
     "output_type": "stream",
     "text": [
      "+---------+--------------------+-----------+\n",
      "|namespace|           tableName|isTemporary|\n",
      "+---------+--------------------+-----------+\n",
      "|database2|       borrowedmoney|      false|\n",
      "|database2|borrowedmoneyfriends|      false|\n",
      "|database2|          creditcard|      false|\n",
      "|database2|              gender|      false|\n",
      "|database2|                jobs|      false|\n",
      "|database2|            jobsgold|      false|\n",
      "|database2|       literaciagold|      false|\n",
      "|database2|          population|      false|\n",
      "|database2|            temponec|      false|\n",
      "+---------+--------------------+-----------+\n",
      "\n"
     ]
    }
   ],
   "source": [
    "spark.sql(\n",
    "    \"\"\"\n",
    "    SHOW TABLES FROM database\n",
    "    \"\"\"\n",
    ").show()"
   ]
  },
  {
   "cell_type": "code",
   "execution_count": 4,
   "id": "b565db4b-d340-42cc-8f96-9cead63705fa",
   "metadata": {},
   "outputs": [
    {
     "name": "stdout",
     "output_type": "stream",
     "text": [
      "+--------------------+--------+--------------------+--------------+----+---------+\n",
      "|           pais_name|pais_cod|      indicador_name|indicador_code| ano|    valor|\n",
      "+--------------------+--------+--------------------+--------------+----+---------+\n",
      "|East Asia & Pacif...|     EAP|Access to electri...|EG.ELC.ACCS.ZS|1990| 82.59917|\n",
      "|East Asia & Pacif...|     EAP|Access to electri...|EG.ELC.ACCS.ZS|1991|81.601685|\n",
      "|East Asia & Pacif...|     EAP|Access to electri...|EG.ELC.ACCS.ZS|1992| 83.88937|\n",
      "|East Asia & Pacif...|     EAP|Access to electri...|EG.ELC.ACCS.ZS|1993| 83.24599|\n",
      "|East Asia & Pacif...|     EAP|Access to electri...|EG.ELC.ACCS.ZS|1994|  84.5359|\n",
      "|East Asia & Pacif...|     EAP|Access to electri...|EG.ELC.ACCS.ZS|1995| 85.45995|\n",
      "|East Asia & Pacif...|     EAP|Access to electri...|EG.ELC.ACCS.ZS|1996| 86.57579|\n",
      "|East Asia & Pacif...|     EAP|Access to electri...|EG.ELC.ACCS.ZS|1997| 87.74911|\n",
      "|East Asia & Pacif...|     EAP|Access to electri...|EG.ELC.ACCS.ZS|1998| 88.50378|\n",
      "|East Asia & Pacif...|     EAP|Access to electri...|EG.ELC.ACCS.ZS|1999| 89.18372|\n",
      "+--------------------+--------+--------------------+--------------+----+---------+\n",
      "only showing top 10 rows\n",
      "\n"
     ]
    }
   ],
   "source": [
    "spark.sql(\n",
    "    \"\"\"\n",
    "    SELECT * FROM database.jobs\n",
    "    \"\"\"\n",
    ").show(10)"
   ]
  },
  {
   "cell_type": "code",
   "execution_count": 5,
   "id": "80252bf5-ee79-43e3-8f7a-31fec6f54847",
   "metadata": {},
   "outputs": [
    {
     "name": "stdout",
     "output_type": "stream",
     "text": [
      "+--------------------+--------+--------------------+--------------+----+-----+\n",
      "|           nome_pais|cod_pais|      nome_indicador| cod_indicador| ano|valor|\n",
      "+--------------------+--------+--------------------+--------------+----+-----+\n",
      "|Caribbean small s...|     CSS|A woman can apply...|SG.APL.PSPT.EQ|1990| null|\n",
      "|Caribbean small s...|     CSS|A woman can apply...|SG.APL.PSPT.EQ|1991| null|\n",
      "|Caribbean small s...|     CSS|A woman can apply...|SG.APL.PSPT.EQ|1992| null|\n",
      "|Caribbean small s...|     CSS|A woman can apply...|SG.APL.PSPT.EQ|1993| null|\n",
      "|Caribbean small s...|     CSS|A woman can apply...|SG.APL.PSPT.EQ|1994| null|\n",
      "|Caribbean small s...|     CSS|A woman can apply...|SG.APL.PSPT.EQ|1995| null|\n",
      "|Caribbean small s...|     CSS|A woman can apply...|SG.APL.PSPT.EQ|1996| null|\n",
      "|Caribbean small s...|     CSS|A woman can apply...|SG.APL.PSPT.EQ|1997| null|\n",
      "|Caribbean small s...|     CSS|A woman can apply...|SG.APL.PSPT.EQ|1998| null|\n",
      "|Caribbean small s...|     CSS|A woman can apply...|SG.APL.PSPT.EQ|1999| null|\n",
      "+--------------------+--------+--------------------+--------------+----+-----+\n",
      "only showing top 10 rows\n",
      "\n"
     ]
    }
   ],
   "source": [
    "spark.sql(\n",
    "    \"\"\"\n",
    "    SELECT * FROM database.gender\n",
    "    \"\"\"\n",
    ").show(10)"
   ]
  },
  {
   "cell_type": "code",
   "execution_count": 6,
   "id": "b385b743-58c5-413e-aad4-b9754838fb95",
   "metadata": {},
   "outputs": [
    {
     "data": {
      "text/plain": [
       "DataFrame[]"
      ]
     },
     "execution_count": 6,
     "metadata": {},
     "output_type": "execute_result"
    }
   ],
   "source": [
    "spark.sql(\n",
    "    \"\"\"\n",
    "    DROP TABLE IF EXISTS database.CreditCard\n",
    "\n",
    "    \"\"\"\n",
    ")"
   ]
  },
  {
   "cell_type": "code",
   "execution_count": 7,
   "id": "c01d5b02-5b1e-4f1f-9f08-5cf5bb82fa48",
   "metadata": {},
   "outputs": [
    {
     "data": {
      "text/plain": [
       "DataFrame[]"
      ]
     },
     "execution_count": 7,
     "metadata": {},
     "output_type": "execute_result"
    }
   ],
   "source": [
    "spark.sql(\n",
    "    \"\"\"\n",
    "    CREATE EXTERNAL TABLE database.CreditCard (\n",
    "        pais varchar(50),    \n",
    "        ano int,\n",
    "        indicador varchar(100),\n",
    "        valor float\n",
    "    )\n",
    "    USING DELTA\n",
    "    LOCATION 'hdfs://hdfs-nn:9000/Projeto/gold/TabelaCreditCard'\n",
    "    \"\"\"\n",
    ")"
   ]
  },
  {
   "cell_type": "code",
   "execution_count": 8,
   "id": "ad2b51e9-fbf5-4a3d-a1bb-a86b4f9384cb",
   "metadata": {},
   "outputs": [
    {
     "name": "stdout",
     "output_type": "stream",
     "text": [
      "+----+---+---------+-----+\n",
      "|pais|ano|indicador|valor|\n",
      "+----+---+---------+-----+\n",
      "+----+---+---------+-----+\n",
      "\n"
     ]
    }
   ],
   "source": [
    "spark.sql(\n",
    "    \"\"\"\n",
    "    SELECT * FROM database.CreditCard\n",
    "    \"\"\"\n",
    ").show()"
   ]
  },
  {
   "cell_type": "code",
   "execution_count": 9,
   "id": "0aa526d3-6803-4350-82d4-42085816d4be",
   "metadata": {},
   "outputs": [],
   "source": [
    "spark.stop()"
   ]
  }
 ],
 "metadata": {
  "kernelspec": {
   "display_name": "Python 3 (ipykernel)",
   "language": "python",
   "name": "python3"
  },
  "language_info": {
   "codemirror_mode": {
    "name": "ipython",
    "version": 3
   },
   "file_extension": ".py",
   "mimetype": "text/x-python",
   "name": "python",
   "nbconvert_exporter": "python",
   "pygments_lexer": "ipython3",
   "version": "3.11.5"
  }
 },
 "nbformat": 4,
 "nbformat_minor": 5
}
